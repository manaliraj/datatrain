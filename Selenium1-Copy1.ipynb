{
 "cells": [
  {
   "cell_type": "code",
   "execution_count": 1,
   "id": "2c6ab5c9-cddb-4f7f-b981-b77b9f52a9a2",
   "metadata": {},
   "outputs": [
    {
     "name": "stdout",
     "output_type": "stream",
     "text": [
      "Naveen \n"
     ]
    }
   ],
   "source": [
    "print (\"Naveen \")"
   ]
  },
  {
   "cell_type": "code",
   "execution_count": 2,
   "id": "9e0b1cf1-4abd-4626-abf0-10a868ec4b32",
   "metadata": {},
   "outputs": [],
   "source": [
    "import selenium\n",
    "import pandas as pd\n",
    "from selenium import webdriver "
   ]
  },
  {
   "cell_type": "code",
   "execution_count": 3,
   "id": "7f06c407-e77a-43b1-959c-d91fb5e23ac1",
   "metadata": {},
   "outputs": [],
   "source": [
    "driver= webdriver.Chrome(\"chromedriver.exe\")"
   ]
  },
  {
   "cell_type": "code",
   "execution_count": 4,
   "id": "11d9b276-adc4-42ca-85e6-65a0ce55c4e5",
   "metadata": {},
   "outputs": [],
   "source": [
    "url = 'http://www.naukri.com/'\n",
    "driver.get(url)"
   ]
  },
  {
   "cell_type": "code",
   "execution_count": 5,
   "id": "a0d07304-7a5e-4682-87e3-eddae2049da6",
   "metadata": {},
   "outputs": [
    {
     "data": {
      "text/plain": [
       "<selenium.webdriver.remote.webelement.WebElement (session=\"27b1c11fdb3450efc3eadca990701aed\", element=\"44603595-7d9f-4da6-bb09-2a33728afc4f\")>"
      ]
     },
     "execution_count": 5,
     "metadata": {},
     "output_type": "execute_result"
    }
   ],
   "source": [
    "search_job= driver.find_element_by_id('qsb-keyword-sugg')\n",
    "search_job"
   ]
  },
  {
   "cell_type": "code",
   "execution_count": 6,
   "id": "914ceca8-3439-40c1-8a19-b5533eee4071",
   "metadata": {},
   "outputs": [],
   "source": [
    "search_job.send_keys('data scientist')"
   ]
  },
  {
   "cell_type": "code",
   "execution_count": 7,
   "id": "2251dccf-fba0-415c-a0b6-350392b81121",
   "metadata": {},
   "outputs": [],
   "source": [
    "search_loc = driver.find_element_by_id(\"qsb-location-sugg\")\n",
    "search_loc.send_keys(\"Bangalore\")"
   ]
  },
  {
   "cell_type": "code",
   "execution_count": 8,
   "id": "1383c6ce-67a5-46f4-adf8-94a26d539ca7",
   "metadata": {},
   "outputs": [],
   "source": [
    "search_btn = driver.find_element_by_xpath(\"//button[@class='btn']\")\n",
    "search_btn.click()\n",
    "driver.implicitly_wait(15)"
   ]
  },
  {
   "cell_type": "code",
   "execution_count": 9,
   "id": "9f35dfb1-79ca-41b9-a5e3-99513c84132f",
   "metadata": {},
   "outputs": [
    {
     "data": {
      "text/plain": [
       "[<selenium.webdriver.remote.webelement.WebElement (session=\"27b1c11fdb3450efc3eadca990701aed\", element=\"e0065011-9ca4-487e-ac08-a4d0c7f52b5b\")>,\n",
       " <selenium.webdriver.remote.webelement.WebElement (session=\"27b1c11fdb3450efc3eadca990701aed\", element=\"a6841919-c50d-49bd-a7d0-1e30888afa84\")>,\n",
       " <selenium.webdriver.remote.webelement.WebElement (session=\"27b1c11fdb3450efc3eadca990701aed\", element=\"cafa0cbd-a562-4139-ab55-f2ade5c3e3d0\")>,\n",
       " <selenium.webdriver.remote.webelement.WebElement (session=\"27b1c11fdb3450efc3eadca990701aed\", element=\"a887b445-c03b-438e-a434-0c5c8c03f38c\")>,\n",
       " <selenium.webdriver.remote.webelement.WebElement (session=\"27b1c11fdb3450efc3eadca990701aed\", element=\"a9edecd7-56d7-4d2d-94ba-b025923583c5\")>,\n",
       " <selenium.webdriver.remote.webelement.WebElement (session=\"27b1c11fdb3450efc3eadca990701aed\", element=\"1e99b056-3f46-45f0-a7b9-de49f840e78e\")>,\n",
       " <selenium.webdriver.remote.webelement.WebElement (session=\"27b1c11fdb3450efc3eadca990701aed\", element=\"b4a1359e-e146-4f26-bdbd-73c1f4efdbc2\")>,\n",
       " <selenium.webdriver.remote.webelement.WebElement (session=\"27b1c11fdb3450efc3eadca990701aed\", element=\"553b61ea-a73a-466e-843f-2509b54486a7\")>,\n",
       " <selenium.webdriver.remote.webelement.WebElement (session=\"27b1c11fdb3450efc3eadca990701aed\", element=\"66be7f76-5857-439c-a03c-ea4b373b6101\")>,\n",
       " <selenium.webdriver.remote.webelement.WebElement (session=\"27b1c11fdb3450efc3eadca990701aed\", element=\"f5e45cf1-f81b-49da-a75e-9166b8bd3e2b\")>,\n",
       " <selenium.webdriver.remote.webelement.WebElement (session=\"27b1c11fdb3450efc3eadca990701aed\", element=\"cfb2aa01-d769-4c8a-a841-7a4db27883f6\")>,\n",
       " <selenium.webdriver.remote.webelement.WebElement (session=\"27b1c11fdb3450efc3eadca990701aed\", element=\"be28f7fc-e0e4-407a-9e87-1523c2c18d90\")>,\n",
       " <selenium.webdriver.remote.webelement.WebElement (session=\"27b1c11fdb3450efc3eadca990701aed\", element=\"3e547a04-24ce-4d45-a1ec-4dabde164bd2\")>,\n",
       " <selenium.webdriver.remote.webelement.WebElement (session=\"27b1c11fdb3450efc3eadca990701aed\", element=\"fa5c7be7-32c1-429e-8ebd-38fd8af7fa4b\")>,\n",
       " <selenium.webdriver.remote.webelement.WebElement (session=\"27b1c11fdb3450efc3eadca990701aed\", element=\"1fa5645d-8358-4081-a50e-ed917296eb21\")>,\n",
       " <selenium.webdriver.remote.webelement.WebElement (session=\"27b1c11fdb3450efc3eadca990701aed\", element=\"ccf0a8ba-b73a-4a73-b176-4bc2352f3ce3\")>,\n",
       " <selenium.webdriver.remote.webelement.WebElement (session=\"27b1c11fdb3450efc3eadca990701aed\", element=\"f8c7db49-b9ed-4314-8df0-312976d50476\")>,\n",
       " <selenium.webdriver.remote.webelement.WebElement (session=\"27b1c11fdb3450efc3eadca990701aed\", element=\"6232cb21-4d79-4f29-9ee8-4b9276932954\")>,\n",
       " <selenium.webdriver.remote.webelement.WebElement (session=\"27b1c11fdb3450efc3eadca990701aed\", element=\"3d4ea003-95ad-48c1-b4f3-91f24494ffb7\")>,\n",
       " <selenium.webdriver.remote.webelement.WebElement (session=\"27b1c11fdb3450efc3eadca990701aed\", element=\"3ccb7bf9-15d9-42ca-aa1e-b563c2c33037\")>]"
      ]
     },
     "execution_count": 9,
     "metadata": {},
     "output_type": "execute_result"
    }
   ],
   "source": [
    "titles_tags=driver.find_elements_by_xpath(\"//a[@class='title fw500 ellipsis']\")\n",
    "titles_tags"
   ]
  },
  {
   "cell_type": "code",
   "execution_count": 10,
   "id": "86c113b5-d745-45ef-8cf0-57643780b748",
   "metadata": {},
   "outputs": [
    {
     "data": {
      "text/plain": [
       "['Data Scientist / Data Analyst -Business Analyst',\n",
       " 'Sr Data Scientist',\n",
       " 'Sr Data Scientist',\n",
       " 'Lead Data Scientist',\n",
       " 'Senior/Lead Data Scientist - Machine Learning/Deep Learning',\n",
       " 'Senior Data Scientist',\n",
       " 'Senior Data Scientist',\n",
       " 'Lead Data Scientist - Machine Learning/ Data Mining',\n",
       " 'Data Scientist',\n",
       " 'Data Scientist',\n",
       " 'Data Scientist',\n",
       " 'Data Scientist',\n",
       " 'Data Scientist',\n",
       " 'Data Scientist - Consumer Analytics',\n",
       " 'Data Scientist I',\n",
       " 'Sr. Data Scientist',\n",
       " 'Data Scientist',\n",
       " 'Lead Data Scientist',\n",
       " 'Senior Data Scientist',\n",
       " 'Sr Data Scientist']"
      ]
     },
     "execution_count": 10,
     "metadata": {},
     "output_type": "execute_result"
    }
   ],
   "source": [
    "job_titles=[]\n",
    "for i in titles_tags:\n",
    "    job_titles.append(i.text)\n",
    "job_titles    "
   ]
  },
  {
   "cell_type": "code",
   "execution_count": 11,
   "id": "8e799f45-f1a3-4a19-a6b9-8e84b3534642",
   "metadata": {},
   "outputs": [
    {
     "data": {
      "text/plain": [
       "[<selenium.webdriver.remote.webelement.WebElement (session=\"27b1c11fdb3450efc3eadca990701aed\", element=\"e60eb91c-05a9-4ae6-9cae-42ee1c7b6847\")>,\n",
       " <selenium.webdriver.remote.webelement.WebElement (session=\"27b1c11fdb3450efc3eadca990701aed\", element=\"b03d3392-1d1e-4c5f-b55f-38192010d05d\")>,\n",
       " <selenium.webdriver.remote.webelement.WebElement (session=\"27b1c11fdb3450efc3eadca990701aed\", element=\"620d6373-4ae1-4ee0-a6e3-646ef4bf3ecf\")>,\n",
       " <selenium.webdriver.remote.webelement.WebElement (session=\"27b1c11fdb3450efc3eadca990701aed\", element=\"5d7a09bb-b59b-4221-a473-2d6bc939a024\")>,\n",
       " <selenium.webdriver.remote.webelement.WebElement (session=\"27b1c11fdb3450efc3eadca990701aed\", element=\"6b237ed1-cf10-49cc-bb8e-82ec1febaed4\")>,\n",
       " <selenium.webdriver.remote.webelement.WebElement (session=\"27b1c11fdb3450efc3eadca990701aed\", element=\"0291dd78-3078-4ae1-b1b3-9c710d3e039a\")>,\n",
       " <selenium.webdriver.remote.webelement.WebElement (session=\"27b1c11fdb3450efc3eadca990701aed\", element=\"7e3ce9a5-d809-4162-828f-40f3920d49af\")>,\n",
       " <selenium.webdriver.remote.webelement.WebElement (session=\"27b1c11fdb3450efc3eadca990701aed\", element=\"656d430d-6a7d-4aee-9661-85dc906b726c\")>,\n",
       " <selenium.webdriver.remote.webelement.WebElement (session=\"27b1c11fdb3450efc3eadca990701aed\", element=\"a3c9d641-bb17-4418-9053-2253ef9d0d0f\")>,\n",
       " <selenium.webdriver.remote.webelement.WebElement (session=\"27b1c11fdb3450efc3eadca990701aed\", element=\"80bbf8d8-da66-4bef-a97e-29778f7911f7\")>,\n",
       " <selenium.webdriver.remote.webelement.WebElement (session=\"27b1c11fdb3450efc3eadca990701aed\", element=\"e33c541f-627d-4681-a736-e35d4530a444\")>,\n",
       " <selenium.webdriver.remote.webelement.WebElement (session=\"27b1c11fdb3450efc3eadca990701aed\", element=\"842a0ab5-362d-4dd4-bcc4-a03277225e32\")>,\n",
       " <selenium.webdriver.remote.webelement.WebElement (session=\"27b1c11fdb3450efc3eadca990701aed\", element=\"6aaa9f8d-5216-4e83-a133-f1d17b9843d6\")>,\n",
       " <selenium.webdriver.remote.webelement.WebElement (session=\"27b1c11fdb3450efc3eadca990701aed\", element=\"ad75f13d-93b3-49f1-8a08-5563e47a11e0\")>,\n",
       " <selenium.webdriver.remote.webelement.WebElement (session=\"27b1c11fdb3450efc3eadca990701aed\", element=\"2c49e024-7d9b-4f25-85ba-35e6ecca3421\")>,\n",
       " <selenium.webdriver.remote.webelement.WebElement (session=\"27b1c11fdb3450efc3eadca990701aed\", element=\"36e55d74-4fc4-47f3-965a-a6159e1ff661\")>,\n",
       " <selenium.webdriver.remote.webelement.WebElement (session=\"27b1c11fdb3450efc3eadca990701aed\", element=\"a21dc5c4-533d-46ff-8e8d-50313082b86e\")>,\n",
       " <selenium.webdriver.remote.webelement.WebElement (session=\"27b1c11fdb3450efc3eadca990701aed\", element=\"e00d6ae3-e93b-4ed6-bf66-f56700b0ee75\")>,\n",
       " <selenium.webdriver.remote.webelement.WebElement (session=\"27b1c11fdb3450efc3eadca990701aed\", element=\"08c0896d-6f57-4290-bf59-3ae7499d2d30\")>,\n",
       " <selenium.webdriver.remote.webelement.WebElement (session=\"27b1c11fdb3450efc3eadca990701aed\", element=\"12112d0a-84d6-493b-baa5-f06c2e7e5e36\")>]"
      ]
     },
     "execution_count": 11,
     "metadata": {},
     "output_type": "execute_result"
    }
   ],
   "source": [
    "compaines_tags=driver.find_elements_by_xpath(\"//a[@class='subTitle ellipsis fleft']\")\n",
    "compaines_tags"
   ]
  },
  {
   "cell_type": "code",
   "execution_count": 12,
   "id": "fdffa45a-06d2-45d2-b528-48312fdf409a",
   "metadata": {},
   "outputs": [],
   "source": [
    "Companies_Names=[]\n",
    "for i in compaines_tags:\n",
    "    Companies_Names.append(i.text)\n",
    "Companies_Names   \n",
    "driver.quit()"
   ]
  },
  {
   "cell_type": "code",
   "execution_count": 13,
   "id": "40a29a77-84c8-4425-ac12-59ddbeb9e84e",
   "metadata": {},
   "outputs": [
    {
     "data": {
      "text/html": [
       "<div>\n",
       "<style scoped>\n",
       "    .dataframe tbody tr th:only-of-type {\n",
       "        vertical-align: middle;\n",
       "    }\n",
       "\n",
       "    .dataframe tbody tr th {\n",
       "        vertical-align: top;\n",
       "    }\n",
       "\n",
       "    .dataframe thead th {\n",
       "        text-align: right;\n",
       "    }\n",
       "</style>\n",
       "<table border=\"1\" class=\"dataframe\">\n",
       "  <thead>\n",
       "    <tr style=\"text-align: right;\">\n",
       "      <th></th>\n",
       "      <th>titles</th>\n",
       "      <th>companies Name</th>\n",
       "    </tr>\n",
       "  </thead>\n",
       "  <tbody>\n",
       "    <tr>\n",
       "      <th>0</th>\n",
       "      <td>Data Scientist / Data Analyst -Business Analyst</td>\n",
       "      <td>Inflexion Analytix Private Limited</td>\n",
       "    </tr>\n",
       "    <tr>\n",
       "      <th>1</th>\n",
       "      <td>Sr Data Scientist</td>\n",
       "      <td>Baker Hughes Incorporated</td>\n",
       "    </tr>\n",
       "    <tr>\n",
       "      <th>2</th>\n",
       "      <td>Sr Data Scientist</td>\n",
       "      <td>Baker Hughes - The Network</td>\n",
       "    </tr>\n",
       "    <tr>\n",
       "      <th>3</th>\n",
       "      <td>Lead Data Scientist</td>\n",
       "      <td>ALTEN CALSOFT LABS (INDIA) PRIVATE LIMITED</td>\n",
       "    </tr>\n",
       "    <tr>\n",
       "      <th>4</th>\n",
       "      <td>Senior/Lead Data Scientist - Machine Learning/...</td>\n",
       "      <td>Squareroot Consulting Pvt Ltd.</td>\n",
       "    </tr>\n",
       "    <tr>\n",
       "      <th>5</th>\n",
       "      <td>Senior Data Scientist</td>\n",
       "      <td>Fractal Analytics</td>\n",
       "    </tr>\n",
       "    <tr>\n",
       "      <th>6</th>\n",
       "      <td>Senior Data Scientist</td>\n",
       "      <td>Nielsen</td>\n",
       "    </tr>\n",
       "    <tr>\n",
       "      <th>7</th>\n",
       "      <td>Lead Data Scientist - Machine Learning/ Data M...</td>\n",
       "      <td>Wrackle Technologies Pvt Ltd</td>\n",
       "    </tr>\n",
       "    <tr>\n",
       "      <th>8</th>\n",
       "      <td>Data Scientist</td>\n",
       "      <td>FabHotel Aay Kay Model Town</td>\n",
       "    </tr>\n",
       "    <tr>\n",
       "      <th>9</th>\n",
       "      <td>Data Scientist</td>\n",
       "      <td>Baker Hughes - The Network</td>\n",
       "    </tr>\n",
       "    <tr>\n",
       "      <th>10</th>\n",
       "      <td>Data Scientist</td>\n",
       "      <td>Baker Hughes Incorporated</td>\n",
       "    </tr>\n",
       "    <tr>\n",
       "      <th>11</th>\n",
       "      <td>Data Scientist</td>\n",
       "      <td>KredX</td>\n",
       "    </tr>\n",
       "    <tr>\n",
       "      <th>12</th>\n",
       "      <td>Data Scientist</td>\n",
       "      <td>Scaleorg</td>\n",
       "    </tr>\n",
       "    <tr>\n",
       "      <th>13</th>\n",
       "      <td>Data Scientist - Consumer Analytics</td>\n",
       "      <td>Eli Lilly and Company</td>\n",
       "    </tr>\n",
       "    <tr>\n",
       "      <th>14</th>\n",
       "      <td>Data Scientist I</td>\n",
       "      <td>ANI Technologies Pvt Ltd (Olacabs)</td>\n",
       "    </tr>\n",
       "    <tr>\n",
       "      <th>15</th>\n",
       "      <td>Sr. Data Scientist</td>\n",
       "      <td>Multi Recruit</td>\n",
       "    </tr>\n",
       "    <tr>\n",
       "      <th>16</th>\n",
       "      <td>Data Scientist</td>\n",
       "      <td>Oracle India Pvt. Ltd.</td>\n",
       "    </tr>\n",
       "    <tr>\n",
       "      <th>17</th>\n",
       "      <td>Lead Data Scientist</td>\n",
       "      <td>Winfort Services Pvt ltd</td>\n",
       "    </tr>\n",
       "    <tr>\n",
       "      <th>18</th>\n",
       "      <td>Senior Data Scientist</td>\n",
       "      <td>Roppen Transportation Services Private Limited</td>\n",
       "    </tr>\n",
       "    <tr>\n",
       "      <th>19</th>\n",
       "      <td>Sr Data Scientist</td>\n",
       "      <td>NielsenIQ</td>\n",
       "    </tr>\n",
       "  </tbody>\n",
       "</table>\n",
       "</div>"
      ],
      "text/plain": [
       "                                               titles  \\\n",
       "0     Data Scientist / Data Analyst -Business Analyst   \n",
       "1                                   Sr Data Scientist   \n",
       "2                                   Sr Data Scientist   \n",
       "3                                 Lead Data Scientist   \n",
       "4   Senior/Lead Data Scientist - Machine Learning/...   \n",
       "5                               Senior Data Scientist   \n",
       "6                               Senior Data Scientist   \n",
       "7   Lead Data Scientist - Machine Learning/ Data M...   \n",
       "8                                      Data Scientist   \n",
       "9                                      Data Scientist   \n",
       "10                                     Data Scientist   \n",
       "11                                     Data Scientist   \n",
       "12                                     Data Scientist   \n",
       "13                Data Scientist - Consumer Analytics   \n",
       "14                                   Data Scientist I   \n",
       "15                                 Sr. Data Scientist   \n",
       "16                                     Data Scientist   \n",
       "17                                Lead Data Scientist   \n",
       "18                              Senior Data Scientist   \n",
       "19                                  Sr Data Scientist   \n",
       "\n",
       "                                    companies Name  \n",
       "0               Inflexion Analytix Private Limited  \n",
       "1                        Baker Hughes Incorporated  \n",
       "2                       Baker Hughes - The Network  \n",
       "3       ALTEN CALSOFT LABS (INDIA) PRIVATE LIMITED  \n",
       "4                   Squareroot Consulting Pvt Ltd.  \n",
       "5                                Fractal Analytics  \n",
       "6                                          Nielsen  \n",
       "7                     Wrackle Technologies Pvt Ltd  \n",
       "8                      FabHotel Aay Kay Model Town  \n",
       "9                       Baker Hughes - The Network  \n",
       "10                       Baker Hughes Incorporated  \n",
       "11                                           KredX  \n",
       "12                                        Scaleorg  \n",
       "13                           Eli Lilly and Company  \n",
       "14              ANI Technologies Pvt Ltd (Olacabs)  \n",
       "15                                   Multi Recruit  \n",
       "16                          Oracle India Pvt. Ltd.  \n",
       "17                        Winfort Services Pvt ltd  \n",
       "18  Roppen Transportation Services Private Limited  \n",
       "19                                       NielsenIQ  "
      ]
     },
     "execution_count": 13,
     "metadata": {},
     "output_type": "execute_result"
    }
   ],
   "source": [
    "jobs=pd.DataFrame({})\n",
    "jobs['titles'] = job_titles\n",
    "jobs['companies Name']=Companies_Names\n",
    "jobs"
   ]
  },
  {
   "cell_type": "code",
   "execution_count": null,
   "id": "2389ef83-605f-4c46-a1e9-901e8196e290",
   "metadata": {},
   "outputs": [],
   "source": []
  },
  {
   "cell_type": "code",
   "execution_count": null,
   "id": "ea792cef-57e5-444a-a517-6754bbe485d1",
   "metadata": {},
   "outputs": [],
   "source": []
  }
 ],
 "metadata": {
  "kernelspec": {
   "display_name": "Python 3",
   "language": "python",
   "name": "python3"
  },
  "language_info": {
   "codemirror_mode": {
    "name": "ipython",
    "version": 3
   },
   "file_extension": ".py",
   "mimetype": "text/x-python",
   "name": "python",
   "nbconvert_exporter": "python",
   "pygments_lexer": "ipython3",
   "version": "3.8.8"
  }
 },
 "nbformat": 4,
 "nbformat_minor": 5
}
