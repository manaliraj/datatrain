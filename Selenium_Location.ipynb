{
 "cells": [
  {
   "cell_type": "code",
   "execution_count": 1,
   "id": "2c6ab5c9-cddb-4f7f-b981-b77b9f52a9a2",
   "metadata": {},
   "outputs": [
    {
     "name": "stdout",
     "output_type": "stream",
     "text": [
      "Naveen \n"
     ]
    }
   ],
   "source": [
    "print (\"Naveen \")"
   ]
  },
  {
   "cell_type": "code",
   "execution_count": 2,
   "id": "9e0b1cf1-4abd-4626-abf0-10a868ec4b32",
   "metadata": {},
   "outputs": [],
   "source": [
    "import selenium\n",
    "import pandas as pd\n",
    "from selenium import webdriver "
   ]
  },
  {
   "cell_type": "code",
   "execution_count": 3,
   "id": "7f06c407-e77a-43b1-959c-d91fb5e23ac1",
   "metadata": {},
   "outputs": [],
   "source": [
    "driver= webdriver.Chrome(\"chromedriver.exe\")"
   ]
  },
  {
   "cell_type": "code",
   "execution_count": 4,
   "id": "11d9b276-adc4-42ca-85e6-65a0ce55c4e5",
   "metadata": {},
   "outputs": [],
   "source": [
    "url = 'http://www.naukri.com/'\n",
    "driver.get(url)"
   ]
  },
  {
   "cell_type": "code",
   "execution_count": 5,
   "id": "a0d07304-7a5e-4682-87e3-eddae2049da6",
   "metadata": {},
   "outputs": [
    {
     "data": {
      "text/plain": [
       "<selenium.webdriver.remote.webelement.WebElement (session=\"711ebbf98979d5f238f5e081686da543\", element=\"e9569550-5d8b-4b0e-b66e-35876aab0c26\")>"
      ]
     },
     "execution_count": 5,
     "metadata": {},
     "output_type": "execute_result"
    }
   ],
   "source": [
    "search_job= driver.find_element_by_id('qsb-keyword-sugg')\n",
    "search_job"
   ]
  },
  {
   "cell_type": "code",
   "execution_count": 6,
   "id": "914ceca8-3439-40c1-8a19-b5533eee4071",
   "metadata": {},
   "outputs": [],
   "source": [
    "search_job.send_keys('data scientist')"
   ]
  },
  {
   "cell_type": "code",
   "execution_count": 7,
   "id": "1383c6ce-67a5-46f4-adf8-94a26d539ca7",
   "metadata": {},
   "outputs": [],
   "source": [
    "search_btn = driver.find_element_by_xpath(\"//button[@class='btn']\")\n",
    "search_btn.click()\n",
    "driver.implicitly_wait(15)"
   ]
  },
  {
   "cell_type": "code",
   "execution_count": 8,
   "id": "05f1a5ce-f434-476b-b4f5-3318f9d9856f",
   "metadata": {},
   "outputs": [
    {
     "data": {
      "text/plain": [
       "[<selenium.webdriver.remote.webelement.WebElement (session=\"711ebbf98979d5f238f5e081686da543\", element=\"cdb3c754-e5b6-475e-9294-8051c4a3d485\")>,\n",
       " <selenium.webdriver.remote.webelement.WebElement (session=\"711ebbf98979d5f238f5e081686da543\", element=\"1fd930fe-275a-4693-9b82-b0a676782a8b\")>,\n",
       " <selenium.webdriver.remote.webelement.WebElement (session=\"711ebbf98979d5f238f5e081686da543\", element=\"b4935a36-c84d-460b-b90b-61045891975f\")>,\n",
       " <selenium.webdriver.remote.webelement.WebElement (session=\"711ebbf98979d5f238f5e081686da543\", element=\"92553ef2-ba3f-4d84-99a1-fe97c49fa17a\")>,\n",
       " <selenium.webdriver.remote.webelement.WebElement (session=\"711ebbf98979d5f238f5e081686da543\", element=\"49a8a677-fb75-4764-961d-d12465cb87cd\")>,\n",
       " <selenium.webdriver.remote.webelement.WebElement (session=\"711ebbf98979d5f238f5e081686da543\", element=\"0a6f0764-22d5-421a-a06e-e7f17d444fe4\")>,\n",
       " <selenium.webdriver.remote.webelement.WebElement (session=\"711ebbf98979d5f238f5e081686da543\", element=\"f88fcf10-cc27-4c8d-a251-5c302ca0c6b3\")>,\n",
       " <selenium.webdriver.remote.webelement.WebElement (session=\"711ebbf98979d5f238f5e081686da543\", element=\"ffc0c7b2-d6e8-4f6b-a1eb-39ca46fdacb5\")>,\n",
       " <selenium.webdriver.remote.webelement.WebElement (session=\"711ebbf98979d5f238f5e081686da543\", element=\"860d32e8-2322-4b9e-ac72-24311764ef57\")>,\n",
       " <selenium.webdriver.remote.webelement.WebElement (session=\"711ebbf98979d5f238f5e081686da543\", element=\"c8663074-3117-4ad1-9f01-f33f77e1a897\")>,\n",
       " <selenium.webdriver.remote.webelement.WebElement (session=\"711ebbf98979d5f238f5e081686da543\", element=\"09741334-358d-4144-a636-3dacd60cf62a\")>,\n",
       " <selenium.webdriver.remote.webelement.WebElement (session=\"711ebbf98979d5f238f5e081686da543\", element=\"9f49e6d4-2b40-4019-bda5-57959583f7ba\")>,\n",
       " <selenium.webdriver.remote.webelement.WebElement (session=\"711ebbf98979d5f238f5e081686da543\", element=\"daa5a343-0cf5-475e-a28a-8bfc943adf6f\")>,\n",
       " <selenium.webdriver.remote.webelement.WebElement (session=\"711ebbf98979d5f238f5e081686da543\", element=\"c7bcfc2f-a024-416e-abf0-2317abcd128b\")>,\n",
       " <selenium.webdriver.remote.webelement.WebElement (session=\"711ebbf98979d5f238f5e081686da543\", element=\"e54ab8cd-cf0c-429a-9d7b-67819eee6a8a\")>,\n",
       " <selenium.webdriver.remote.webelement.WebElement (session=\"711ebbf98979d5f238f5e081686da543\", element=\"61347fc1-4515-449d-9904-186cafaab0ee\")>,\n",
       " <selenium.webdriver.remote.webelement.WebElement (session=\"711ebbf98979d5f238f5e081686da543\", element=\"17fe9433-8ca2-424b-8319-32e3d00f5311\")>,\n",
       " <selenium.webdriver.remote.webelement.WebElement (session=\"711ebbf98979d5f238f5e081686da543\", element=\"a24f70e2-2ef9-4137-afe0-31f9554499bb\")>,\n",
       " <selenium.webdriver.remote.webelement.WebElement (session=\"711ebbf98979d5f238f5e081686da543\", element=\"fb009ad0-fa33-43e7-bab4-44f1d3e9c834\")>,\n",
       " <selenium.webdriver.remote.webelement.WebElement (session=\"711ebbf98979d5f238f5e081686da543\", element=\"cb2b11f7-67a7-4d61-af84-92e5000e6a12\")>]"
      ]
     },
     "execution_count": 8,
     "metadata": {},
     "output_type": "execute_result"
    }
   ],
   "source": [
    "city_tags=driver.find_elements_by_xpath(\"//li[@class='fleft grey-text br2 placeHolderLi location']/span\")\n",
    "city_tags"
   ]
  },
  {
   "cell_type": "code",
   "execution_count": 9,
   "id": "9f35dfb1-79ca-41b9-a5e3-99513c84132f",
   "metadata": {},
   "outputs": [
    {
     "data": {
      "text/plain": [
       "[<selenium.webdriver.remote.webelement.WebElement (session=\"711ebbf98979d5f238f5e081686da543\", element=\"cca42498-d27b-4c48-8343-8804e5190622\")>,\n",
       " <selenium.webdriver.remote.webelement.WebElement (session=\"711ebbf98979d5f238f5e081686da543\", element=\"3bf1cd62-638d-4941-a0de-30f58c5dfc14\")>,\n",
       " <selenium.webdriver.remote.webelement.WebElement (session=\"711ebbf98979d5f238f5e081686da543\", element=\"b2e22604-5b70-469b-ba43-b4d8bda1096f\")>,\n",
       " <selenium.webdriver.remote.webelement.WebElement (session=\"711ebbf98979d5f238f5e081686da543\", element=\"ee6761bf-2d4f-4329-947b-5f3b7a8b56ac\")>,\n",
       " <selenium.webdriver.remote.webelement.WebElement (session=\"711ebbf98979d5f238f5e081686da543\", element=\"7fb08b1e-205d-4286-9699-6ab941f996c8\")>,\n",
       " <selenium.webdriver.remote.webelement.WebElement (session=\"711ebbf98979d5f238f5e081686da543\", element=\"760ad2a3-21a7-47dd-babe-8e7539f0239c\")>,\n",
       " <selenium.webdriver.remote.webelement.WebElement (session=\"711ebbf98979d5f238f5e081686da543\", element=\"06e5fe0a-6003-4503-a5e6-63a3d2288134\")>,\n",
       " <selenium.webdriver.remote.webelement.WebElement (session=\"711ebbf98979d5f238f5e081686da543\", element=\"fe8344af-4024-4897-85bf-40d1e2f95f1c\")>,\n",
       " <selenium.webdriver.remote.webelement.WebElement (session=\"711ebbf98979d5f238f5e081686da543\", element=\"95acb4cf-9ec3-4748-ad84-a02c5b3e0dcb\")>,\n",
       " <selenium.webdriver.remote.webelement.WebElement (session=\"711ebbf98979d5f238f5e081686da543\", element=\"02ff9bf2-f667-4c09-9b33-1938dfc66d3a\")>,\n",
       " <selenium.webdriver.remote.webelement.WebElement (session=\"711ebbf98979d5f238f5e081686da543\", element=\"de1a72be-ddbe-4956-a2b8-69328c9c54d7\")>,\n",
       " <selenium.webdriver.remote.webelement.WebElement (session=\"711ebbf98979d5f238f5e081686da543\", element=\"5060337a-a737-47e4-9125-e37e13c2b61d\")>,\n",
       " <selenium.webdriver.remote.webelement.WebElement (session=\"711ebbf98979d5f238f5e081686da543\", element=\"63e8fc15-1b7f-4a4e-b5dc-1aabc6d670e4\")>,\n",
       " <selenium.webdriver.remote.webelement.WebElement (session=\"711ebbf98979d5f238f5e081686da543\", element=\"4579b6a5-3ae0-4972-aa13-1e77288a50b8\")>,\n",
       " <selenium.webdriver.remote.webelement.WebElement (session=\"711ebbf98979d5f238f5e081686da543\", element=\"9e68bb07-1d95-42f5-9829-34bab246ebd9\")>,\n",
       " <selenium.webdriver.remote.webelement.WebElement (session=\"711ebbf98979d5f238f5e081686da543\", element=\"9c81b411-332a-47bf-a38d-8226e1b4660f\")>,\n",
       " <selenium.webdriver.remote.webelement.WebElement (session=\"711ebbf98979d5f238f5e081686da543\", element=\"19de54c5-79b8-4eac-aa5b-cdbbe04ad51a\")>,\n",
       " <selenium.webdriver.remote.webelement.WebElement (session=\"711ebbf98979d5f238f5e081686da543\", element=\"56afbdfe-76b1-4432-9b46-9086e1eed674\")>,\n",
       " <selenium.webdriver.remote.webelement.WebElement (session=\"711ebbf98979d5f238f5e081686da543\", element=\"26953fbd-f070-4e90-9088-67d014114b95\")>,\n",
       " <selenium.webdriver.remote.webelement.WebElement (session=\"711ebbf98979d5f238f5e081686da543\", element=\"e9cc7396-c2d4-4e6d-a768-0978a33c42f1\")>]"
      ]
     },
     "execution_count": 9,
     "metadata": {},
     "output_type": "execute_result"
    }
   ],
   "source": [
    "titles_tags=driver.find_elements_by_xpath(\"//a[@class='title fw500 ellipsis']\")\n",
    "titles_tags"
   ]
  },
  {
   "cell_type": "code",
   "execution_count": 10,
   "id": "86c113b5-d745-45ef-8cf0-57643780b748",
   "metadata": {},
   "outputs": [
    {
     "data": {
      "text/plain": [
       "['Data Scientist / Data Analyst -Business Analyst',\n",
       " 'Data Scientist/Data Analyst /Business Analyst',\n",
       " 'Junior Data Scientist/Data Analyst - Remote',\n",
       " 'Sr . Data Scientist',\n",
       " 'Analyst / Data Scientist',\n",
       " 'Sr Data Scientist / Data Science Lead | GeakMinds | Chennai',\n",
       " 'Sr Data Scientist',\n",
       " 'Sr Data Scientist',\n",
       " 'HCL Hiring Data Scientist For Noida Location',\n",
       " 'Lead Data Scientist',\n",
       " 'Supply Chain Analyst & Data Scientist',\n",
       " 'Senior/Lead Data Scientist - Machine Learning/Deep Learning',\n",
       " 'Lead Data Scientist - Machine Learning/ Data Mining',\n",
       " 'Sr. Data Scientist',\n",
       " 'Senior Data Scientist - Adv ML',\n",
       " 'Sr. Data Scientist - R, Python, Machine Learning',\n",
       " 'Senior Data Scientist',\n",
       " 'Senior Manager- Data Scientist',\n",
       " 'Data Scientist',\n",
       " 'Senior Data Scientist']"
      ]
     },
     "execution_count": 10,
     "metadata": {},
     "output_type": "execute_result"
    }
   ],
   "source": [
    "job_titles=[]\n",
    "for i in titles_tags:\n",
    "    job_titles.append(i.text)\n",
    "job_titles    "
   ]
  },
  {
   "cell_type": "code",
   "execution_count": 11,
   "id": "8e799f45-f1a3-4a19-a6b9-8e84b3534642",
   "metadata": {},
   "outputs": [
    {
     "data": {
      "text/plain": [
       "[<selenium.webdriver.remote.webelement.WebElement (session=\"711ebbf98979d5f238f5e081686da543\", element=\"df20e7bf-1400-4440-9c15-31391faa9b82\")>,\n",
       " <selenium.webdriver.remote.webelement.WebElement (session=\"711ebbf98979d5f238f5e081686da543\", element=\"1aaacb59-bc0e-442f-9313-6a623e984232\")>,\n",
       " <selenium.webdriver.remote.webelement.WebElement (session=\"711ebbf98979d5f238f5e081686da543\", element=\"54e623d2-c54e-4faa-b19d-123991e5254a\")>,\n",
       " <selenium.webdriver.remote.webelement.WebElement (session=\"711ebbf98979d5f238f5e081686da543\", element=\"1e492276-e0dd-49e6-ad6c-6697b0d5bb10\")>,\n",
       " <selenium.webdriver.remote.webelement.WebElement (session=\"711ebbf98979d5f238f5e081686da543\", element=\"a0ffac63-ed9b-4712-a023-d2f095f7043c\")>,\n",
       " <selenium.webdriver.remote.webelement.WebElement (session=\"711ebbf98979d5f238f5e081686da543\", element=\"12b8dad1-7c4e-47e4-9d42-4d29d88bf1aa\")>,\n",
       " <selenium.webdriver.remote.webelement.WebElement (session=\"711ebbf98979d5f238f5e081686da543\", element=\"8ba227e6-c28b-41c1-95b5-3d0cda3e5b81\")>,\n",
       " <selenium.webdriver.remote.webelement.WebElement (session=\"711ebbf98979d5f238f5e081686da543\", element=\"7793a607-ba60-45c0-b7f6-97fbc0878c31\")>,\n",
       " <selenium.webdriver.remote.webelement.WebElement (session=\"711ebbf98979d5f238f5e081686da543\", element=\"df3cc149-01a1-4ed3-ab09-89b79d485eae\")>,\n",
       " <selenium.webdriver.remote.webelement.WebElement (session=\"711ebbf98979d5f238f5e081686da543\", element=\"8fb0acea-59d9-4e5e-99b9-ceb543c452f5\")>,\n",
       " <selenium.webdriver.remote.webelement.WebElement (session=\"711ebbf98979d5f238f5e081686da543\", element=\"9d796280-9dff-4f16-b537-9e5a0fc2e0a0\")>,\n",
       " <selenium.webdriver.remote.webelement.WebElement (session=\"711ebbf98979d5f238f5e081686da543\", element=\"76f04dd5-3a0a-4e88-94d8-f16ea13ad0e2\")>,\n",
       " <selenium.webdriver.remote.webelement.WebElement (session=\"711ebbf98979d5f238f5e081686da543\", element=\"c261748a-1344-47ea-abd9-660e18a4484a\")>,\n",
       " <selenium.webdriver.remote.webelement.WebElement (session=\"711ebbf98979d5f238f5e081686da543\", element=\"91b413f0-a3f1-4c13-9e63-0c84ffa0dd00\")>,\n",
       " <selenium.webdriver.remote.webelement.WebElement (session=\"711ebbf98979d5f238f5e081686da543\", element=\"d2a16473-2d96-4712-8a9e-68bd2fd7caf1\")>,\n",
       " <selenium.webdriver.remote.webelement.WebElement (session=\"711ebbf98979d5f238f5e081686da543\", element=\"819c7bb8-d402-4c41-a2e5-fd876fdd3da1\")>,\n",
       " <selenium.webdriver.remote.webelement.WebElement (session=\"711ebbf98979d5f238f5e081686da543\", element=\"97350254-b595-497c-b9c7-325e26740808\")>,\n",
       " <selenium.webdriver.remote.webelement.WebElement (session=\"711ebbf98979d5f238f5e081686da543\", element=\"3733eb89-3621-4955-9078-0b74f2c4bdbb\")>,\n",
       " <selenium.webdriver.remote.webelement.WebElement (session=\"711ebbf98979d5f238f5e081686da543\", element=\"43ec863d-ae97-43b3-aafa-a10f5e53029e\")>,\n",
       " <selenium.webdriver.remote.webelement.WebElement (session=\"711ebbf98979d5f238f5e081686da543\", element=\"e9f1e793-a565-466b-8832-49a29eee2795\")>]"
      ]
     },
     "execution_count": 11,
     "metadata": {},
     "output_type": "execute_result"
    }
   ],
   "source": [
    "compaines_tags=driver.find_elements_by_xpath(\"//a[@class='subTitle ellipsis fleft']\")\n",
    "compaines_tags"
   ]
  },
  {
   "cell_type": "code",
   "execution_count": 12,
   "id": "fdffa45a-06d2-45d2-b528-48312fdf409a",
   "metadata": {},
   "outputs": [
    {
     "data": {
      "text/plain": [
       "['Inflexion Analytix Private Limited',\n",
       " 'Inflexion Analytix Private Limited',\n",
       " 'ADF Data Science Private Limited',\n",
       " 'General Mills',\n",
       " 'QUANTIUM ANALYTICS PRIVATE LIMITED',\n",
       " 'Geakminds Technologies Private Limited',\n",
       " 'Baker Hughes Incorporated',\n",
       " 'Baker Hughes - The Network',\n",
       " 'HCL Technologies Limited',\n",
       " 'ALTEN CALSOFT LABS (INDIA) PRIVATE LIMITED',\n",
       " 'Emerson Electric Co',\n",
       " 'Squareroot Consulting Pvt Ltd.',\n",
       " 'Wrackle Technologies Pvt Ltd',\n",
       " 'Multi Recruit',\n",
       " 'Optum Global Solutions (India) Private Limited',\n",
       " 'Datametica Solutions Pvt. Ltd.',\n",
       " 'Prokarma Softech Pvt. Ltd.',\n",
       " 'Sunshine Teahouse Pvt. Ltd.',\n",
       " 'Oracle India Pvt. Ltd.',\n",
       " '24/7 Customer']"
      ]
     },
     "execution_count": 12,
     "metadata": {},
     "output_type": "execute_result"
    }
   ],
   "source": [
    "Companies_Names=[]\n",
    "for i in compaines_tags:\n",
    "    Companies_Names.append(i.text)\n",
    "Companies_Names"
   ]
  },
  {
   "cell_type": "code",
   "execution_count": 13,
   "id": "050aea84-82d7-42c7-9315-3162b1bdbb36",
   "metadata": {},
   "outputs": [
    {
     "data": {
      "text/plain": [
       "['Hyderabad/Secunderabad, Chennai, Bangalore/Bengaluru',\n",
       " 'Pune, Delhi / NCR, Mumbai (All Areas)',\n",
       " 'Chennai',\n",
       " 'Mumbai',\n",
       " 'Hyderabad/Secunderabad',\n",
       " 'Chennai',\n",
       " 'Bangalore/Bengaluru',\n",
       " 'Bangalore/Bengaluru',\n",
       " 'Noida, Chennai',\n",
       " 'Bangalore/Bengaluru(Dairy Circle)',\n",
       " 'Pune, Pune',\n",
       " 'Bangalore/Bengaluru',\n",
       " 'Bangalore/Bengaluru',\n",
       " 'Bangalore/Bengaluru',\n",
       " 'Noida',\n",
       " 'Pune',\n",
       " 'Hyderabad/Secunderabad',\n",
       " 'Delhi / NCR',\n",
       " 'Noida, Bangalore/Bengaluru',\n",
       " 'Bangalore/Bengaluru']"
      ]
     },
     "execution_count": 13,
     "metadata": {},
     "output_type": "execute_result"
    }
   ],
   "source": [
    "Location_Names=[]\n",
    "for i in city_tags:\n",
    "    Location_Names.append(i.text)\n",
    "Location_Names  \n"
   ]
  },
  {
   "cell_type": "code",
   "execution_count": 14,
   "id": "40a29a77-84c8-4425-ac12-59ddbeb9e84e",
   "metadata": {},
   "outputs": [
    {
     "data": {
      "text/html": [
       "<div>\n",
       "<style scoped>\n",
       "    .dataframe tbody tr th:only-of-type {\n",
       "        vertical-align: middle;\n",
       "    }\n",
       "\n",
       "    .dataframe tbody tr th {\n",
       "        vertical-align: top;\n",
       "    }\n",
       "\n",
       "    .dataframe thead th {\n",
       "        text-align: right;\n",
       "    }\n",
       "</style>\n",
       "<table border=\"1\" class=\"dataframe\">\n",
       "  <thead>\n",
       "    <tr style=\"text-align: right;\">\n",
       "      <th></th>\n",
       "      <th>titles</th>\n",
       "      <th>companies Name</th>\n",
       "      <th>Location</th>\n",
       "    </tr>\n",
       "  </thead>\n",
       "  <tbody>\n",
       "    <tr>\n",
       "      <th>0</th>\n",
       "      <td>Data Scientist / Data Analyst -Business Analyst</td>\n",
       "      <td>Inflexion Analytix Private Limited</td>\n",
       "      <td>Hyderabad/Secunderabad, Chennai, Bangalore/Ben...</td>\n",
       "    </tr>\n",
       "    <tr>\n",
       "      <th>1</th>\n",
       "      <td>Data Scientist/Data Analyst /Business Analyst</td>\n",
       "      <td>Inflexion Analytix Private Limited</td>\n",
       "      <td>Pune, Delhi / NCR, Mumbai (All Areas)</td>\n",
       "    </tr>\n",
       "    <tr>\n",
       "      <th>2</th>\n",
       "      <td>Junior Data Scientist/Data Analyst - Remote</td>\n",
       "      <td>ADF Data Science Private Limited</td>\n",
       "      <td>Chennai</td>\n",
       "    </tr>\n",
       "    <tr>\n",
       "      <th>3</th>\n",
       "      <td>Sr . Data Scientist</td>\n",
       "      <td>General Mills</td>\n",
       "      <td>Mumbai</td>\n",
       "    </tr>\n",
       "    <tr>\n",
       "      <th>4</th>\n",
       "      <td>Analyst / Data Scientist</td>\n",
       "      <td>QUANTIUM ANALYTICS PRIVATE LIMITED</td>\n",
       "      <td>Hyderabad/Secunderabad</td>\n",
       "    </tr>\n",
       "    <tr>\n",
       "      <th>5</th>\n",
       "      <td>Sr Data Scientist / Data Science Lead | GeakMi...</td>\n",
       "      <td>Geakminds Technologies Private Limited</td>\n",
       "      <td>Chennai</td>\n",
       "    </tr>\n",
       "    <tr>\n",
       "      <th>6</th>\n",
       "      <td>Sr Data Scientist</td>\n",
       "      <td>Baker Hughes Incorporated</td>\n",
       "      <td>Bangalore/Bengaluru</td>\n",
       "    </tr>\n",
       "    <tr>\n",
       "      <th>7</th>\n",
       "      <td>Sr Data Scientist</td>\n",
       "      <td>Baker Hughes - The Network</td>\n",
       "      <td>Bangalore/Bengaluru</td>\n",
       "    </tr>\n",
       "    <tr>\n",
       "      <th>8</th>\n",
       "      <td>HCL Hiring Data Scientist For Noida Location</td>\n",
       "      <td>HCL Technologies Limited</td>\n",
       "      <td>Noida, Chennai</td>\n",
       "    </tr>\n",
       "    <tr>\n",
       "      <th>9</th>\n",
       "      <td>Lead Data Scientist</td>\n",
       "      <td>ALTEN CALSOFT LABS (INDIA) PRIVATE LIMITED</td>\n",
       "      <td>Bangalore/Bengaluru(Dairy Circle)</td>\n",
       "    </tr>\n",
       "  </tbody>\n",
       "</table>\n",
       "</div>"
      ],
      "text/plain": [
       "                                              titles  \\\n",
       "0    Data Scientist / Data Analyst -Business Analyst   \n",
       "1      Data Scientist/Data Analyst /Business Analyst   \n",
       "2        Junior Data Scientist/Data Analyst - Remote   \n",
       "3                                Sr . Data Scientist   \n",
       "4                           Analyst / Data Scientist   \n",
       "5  Sr Data Scientist / Data Science Lead | GeakMi...   \n",
       "6                                  Sr Data Scientist   \n",
       "7                                  Sr Data Scientist   \n",
       "8       HCL Hiring Data Scientist For Noida Location   \n",
       "9                                Lead Data Scientist   \n",
       "\n",
       "                               companies Name  \\\n",
       "0          Inflexion Analytix Private Limited   \n",
       "1          Inflexion Analytix Private Limited   \n",
       "2            ADF Data Science Private Limited   \n",
       "3                               General Mills   \n",
       "4          QUANTIUM ANALYTICS PRIVATE LIMITED   \n",
       "5      Geakminds Technologies Private Limited   \n",
       "6                   Baker Hughes Incorporated   \n",
       "7                  Baker Hughes - The Network   \n",
       "8                    HCL Technologies Limited   \n",
       "9  ALTEN CALSOFT LABS (INDIA) PRIVATE LIMITED   \n",
       "\n",
       "                                            Location  \n",
       "0  Hyderabad/Secunderabad, Chennai, Bangalore/Ben...  \n",
       "1              Pune, Delhi / NCR, Mumbai (All Areas)  \n",
       "2                                            Chennai  \n",
       "3                                             Mumbai  \n",
       "4                             Hyderabad/Secunderabad  \n",
       "5                                            Chennai  \n",
       "6                                Bangalore/Bengaluru  \n",
       "7                                Bangalore/Bengaluru  \n",
       "8                                     Noida, Chennai  \n",
       "9                  Bangalore/Bengaluru(Dairy Circle)  "
      ]
     },
     "execution_count": 14,
     "metadata": {},
     "output_type": "execute_result"
    }
   ],
   "source": [
    "jobs=pd.DataFrame({})\n",
    "jobs['titles'] = job_titles\n",
    "jobs['companies Name']=Companies_Names\n",
    "jobs['Location']= Location_Names \n",
    "jobs[:10]"
   ]
  },
  {
   "cell_type": "code",
   "execution_count": null,
   "id": "2389ef83-605f-4c46-a1e9-901e8196e290",
   "metadata": {},
   "outputs": [],
   "source": []
  },
  {
   "cell_type": "code",
   "execution_count": null,
   "id": "ea792cef-57e5-444a-a517-6754bbe485d1",
   "metadata": {},
   "outputs": [],
   "source": []
  }
 ],
 "metadata": {
  "kernelspec": {
   "display_name": "Python 3",
   "language": "python",
   "name": "python3"
  },
  "language_info": {
   "codemirror_mode": {
    "name": "ipython",
    "version": 3
   },
   "file_extension": ".py",
   "mimetype": "text/x-python",
   "name": "python",
   "nbconvert_exporter": "python",
   "pygments_lexer": "ipython3",
   "version": "3.8.8"
  }
 },
 "nbformat": 4,
 "nbformat_minor": 5
}
