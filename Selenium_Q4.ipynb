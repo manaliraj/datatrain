{
 "cells": [
  {
   "cell_type": "code",
   "execution_count": 1,
   "id": "2c6ab5c9-cddb-4f7f-b981-b77b9f52a9a2",
   "metadata": {},
   "outputs": [
    {
     "name": "stdout",
     "output_type": "stream",
     "text": [
      "Naveen \n"
     ]
    }
   ],
   "source": [
    "print (\"Naveen \")"
   ]
  },
  {
   "cell_type": "code",
   "execution_count": 2,
   "id": "9e0b1cf1-4abd-4626-abf0-10a868ec4b32",
   "metadata": {},
   "outputs": [],
   "source": [
    "import selenium\n",
    "import pandas as pd\n",
    "from selenium import webdriver "
   ]
  },
  {
   "cell_type": "code",
   "execution_count": 3,
   "id": "7f06c407-e77a-43b1-959c-d91fb5e23ac1",
   "metadata": {},
   "outputs": [],
   "source": [
    "driver= webdriver.Chrome(\"chromedriver.exe\")"
   ]
  },
  {
   "cell_type": "code",
   "execution_count": 4,
   "id": "11d9b276-adc4-42ca-85e6-65a0ce55c4e5",
   "metadata": {},
   "outputs": [],
   "source": [
    "url = 'https://www.glassdoor.co.in/sitedirectory/title-jobs.htm'\n",
    "driver.get(url)"
   ]
  },
  {
   "cell_type": "code",
   "execution_count": 5,
   "id": "a0d07304-7a5e-4682-87e3-eddae2049da6",
   "metadata": {},
   "outputs": [
    {
     "data": {
      "text/plain": [
       "<selenium.webdriver.remote.webelement.WebElement (session=\"43139261a3df889877c5d09450f2ad70\", element=\"c5d495e5-6dea-42da-ad45-f2868ef5c9ee\")>"
      ]
     },
     "execution_count": 5,
     "metadata": {},
     "output_type": "execute_result"
    }
   ],
   "source": [
    "search_job= driver.find_element_by_xpath(\"//input[@id='sc.keyword']\")\n",
    "search_job"
   ]
  },
  {
   "cell_type": "code",
   "execution_count": 6,
   "id": "914ceca8-3439-40c1-8a19-b5533eee4071",
   "metadata": {},
   "outputs": [],
   "source": [
    "search_job.send_keys('data scientist')"
   ]
  },
  {
   "cell_type": "code",
   "execution_count": 7,
   "id": "1383c6ce-67a5-46f4-adf8-94a26d539ca7",
   "metadata": {},
   "outputs": [],
   "source": [
    "location_job= driver.find_element_by_xpath(\"//input[@id='sc.location']\")\n",
    "location_job.send_keys('Noida')"
   ]
  },
  {
   "cell_type": "code",
   "execution_count": 8,
   "id": "096820b8-aef6-4fad-9ec6-a25d1fc3f184",
   "metadata": {},
   "outputs": [],
   "source": [
    "search_btn = driver.find_element_by_xpath(\"//span[normalize-space()='Search']\")\n",
    "search_btn.click()\n",
    "driver.implicitly_wait(15)"
   ]
  },
  {
   "cell_type": "code",
   "execution_count": 9,
   "id": "ab2f65dd-19e5-40ae-8754-94f031eb7d05",
   "metadata": {},
   "outputs": [
    {
     "data": {
      "text/plain": [
       "[<selenium.webdriver.remote.webelement.WebElement (session=\"43139261a3df889877c5d09450f2ad70\", element=\"ef3a3364-2719-4602-97e6-5171dac41feb\")>,\n",
       " <selenium.webdriver.remote.webelement.WebElement (session=\"43139261a3df889877c5d09450f2ad70\", element=\"cc9296c5-d8b9-42d0-bd2a-8aeb0e1b5d60\")>,\n",
       " <selenium.webdriver.remote.webelement.WebElement (session=\"43139261a3df889877c5d09450f2ad70\", element=\"98e89a62-c972-4f9f-b8b2-a588eb8679b6\")>,\n",
       " <selenium.webdriver.remote.webelement.WebElement (session=\"43139261a3df889877c5d09450f2ad70\", element=\"a24b97a2-b93f-42f2-95d0-677832daf459\")>,\n",
       " <selenium.webdriver.remote.webelement.WebElement (session=\"43139261a3df889877c5d09450f2ad70\", element=\"b3ea9ba1-2760-4c89-8bc6-b7f23591c7c8\")>,\n",
       " <selenium.webdriver.remote.webelement.WebElement (session=\"43139261a3df889877c5d09450f2ad70\", element=\"2e0384f0-597c-4b86-a7bb-c3fe5f37f579\")>,\n",
       " <selenium.webdriver.remote.webelement.WebElement (session=\"43139261a3df889877c5d09450f2ad70\", element=\"2a8e86f8-007c-4aa1-8ef3-6d1232b7612f\")>,\n",
       " <selenium.webdriver.remote.webelement.WebElement (session=\"43139261a3df889877c5d09450f2ad70\", element=\"cc31ecee-7a9d-4b58-b842-c3664a97b1dd\")>,\n",
       " <selenium.webdriver.remote.webelement.WebElement (session=\"43139261a3df889877c5d09450f2ad70\", element=\"a0fb21d8-db03-4bee-9fbc-9eea05e30db5\")>,\n",
       " <selenium.webdriver.remote.webelement.WebElement (session=\"43139261a3df889877c5d09450f2ad70\", element=\"d6fab822-181b-42a5-bc39-2753d67f9b79\")>,\n",
       " <selenium.webdriver.remote.webelement.WebElement (session=\"43139261a3df889877c5d09450f2ad70\", element=\"143da000-8e98-4575-9344-d9e831a25ab2\")>,\n",
       " <selenium.webdriver.remote.webelement.WebElement (session=\"43139261a3df889877c5d09450f2ad70\", element=\"3534d9fc-a667-4bb5-a7a2-b098e1c403ff\")>,\n",
       " <selenium.webdriver.remote.webelement.WebElement (session=\"43139261a3df889877c5d09450f2ad70\", element=\"15a1b526-9f3a-4ad9-85e1-204e81e23d17\")>,\n",
       " <selenium.webdriver.remote.webelement.WebElement (session=\"43139261a3df889877c5d09450f2ad70\", element=\"bbbf7541-eb25-4d43-9d88-075efe6909c2\")>,\n",
       " <selenium.webdriver.remote.webelement.WebElement (session=\"43139261a3df889877c5d09450f2ad70\", element=\"602dbb8f-2562-4b4c-9985-16173e2a6649\")>,\n",
       " <selenium.webdriver.remote.webelement.WebElement (session=\"43139261a3df889877c5d09450f2ad70\", element=\"e01f600d-3c3d-47d6-9ae7-722236af2a04\")>,\n",
       " <selenium.webdriver.remote.webelement.WebElement (session=\"43139261a3df889877c5d09450f2ad70\", element=\"13ddcd75-9b03-49b8-a90c-9133a7c40a5f\")>,\n",
       " <selenium.webdriver.remote.webelement.WebElement (session=\"43139261a3df889877c5d09450f2ad70\", element=\"ef7085a4-4b48-4903-b8c9-93fb594d3a04\")>,\n",
       " <selenium.webdriver.remote.webelement.WebElement (session=\"43139261a3df889877c5d09450f2ad70\", element=\"04f728b6-80db-4ca0-8718-0d75f06330a4\")>,\n",
       " <selenium.webdriver.remote.webelement.WebElement (session=\"43139261a3df889877c5d09450f2ad70\", element=\"283fa989-19a6-4f65-9377-6c4e36bcb22b\")>,\n",
       " <selenium.webdriver.remote.webelement.WebElement (session=\"43139261a3df889877c5d09450f2ad70\", element=\"0069dc43-31f0-4aa0-8071-11e4e2464eaf\")>,\n",
       " <selenium.webdriver.remote.webelement.WebElement (session=\"43139261a3df889877c5d09450f2ad70\", element=\"81009e09-84df-4aae-934f-ab7655085fdd\")>,\n",
       " <selenium.webdriver.remote.webelement.WebElement (session=\"43139261a3df889877c5d09450f2ad70\", element=\"0df69ca4-d382-474a-bafc-865a0777189e\")>,\n",
       " <selenium.webdriver.remote.webelement.WebElement (session=\"43139261a3df889877c5d09450f2ad70\", element=\"013e7a82-3509-45e2-9839-90b474c356cb\")>,\n",
       " <selenium.webdriver.remote.webelement.WebElement (session=\"43139261a3df889877c5d09450f2ad70\", element=\"2a105abf-c406-4074-bcb3-2dba2aa842a6\")>,\n",
       " <selenium.webdriver.remote.webelement.WebElement (session=\"43139261a3df889877c5d09450f2ad70\", element=\"748c8cfd-bd56-486c-9b73-4a4b73952772\")>,\n",
       " <selenium.webdriver.remote.webelement.WebElement (session=\"43139261a3df889877c5d09450f2ad70\", element=\"6576edf3-9456-48ce-a183-7fad89673107\")>,\n",
       " <selenium.webdriver.remote.webelement.WebElement (session=\"43139261a3df889877c5d09450f2ad70\", element=\"6f093215-3670-433c-b8f4-c9ef4b04dd78\")>,\n",
       " <selenium.webdriver.remote.webelement.WebElement (session=\"43139261a3df889877c5d09450f2ad70\", element=\"ec0e5686-d420-42af-99c6-936bb8319949\")>,\n",
       " <selenium.webdriver.remote.webelement.WebElement (session=\"43139261a3df889877c5d09450f2ad70\", element=\"ee5aa77a-3fd4-4538-99d5-3cc800949cc2\")>]"
      ]
     },
     "execution_count": 9,
     "metadata": {},
     "output_type": "execute_result"
    }
   ],
   "source": [
    "ten_jobs=driver.find_elements_by_xpath(\"//a[@class='jobLink css-1rd3saf eigr9kq2']\")\n",
    "ten_jobs"
   ]
  },
  {
   "cell_type": "code",
   "execution_count": 10,
   "id": "86c113b5-d745-45ef-8cf0-57643780b748",
   "metadata": {},
   "outputs": [
    {
     "data": {
      "text/plain": [
       "['DATA SCIENTIST',\n",
       " 'COMPUTER VISION AND IMAGE RECOGNITION DATA SCIENTIST',\n",
       " 'SENIOR NLP DATA SCIENTIST',\n",
       " 'SENIOR DATA SCIENTIST',\n",
       " 'Data Scientist (VDAB)',\n",
       " 'Data Scientist',\n",
       " 'Data scientist (m/f/x)',\n",
       " 'Data Scientist',\n",
       " 'Data Analyst',\n",
       " 'Data Scientist | Data-driven Team',\n",
       " 'Visser & Van Baars - Data Scientist',\n",
       " 'Data Scientist for Supply Chain Sustainability (M/F/X)',\n",
       " 'Junior Data Scientist',\n",
       " 'Data Scientist',\n",
       " 'Data Scientist H/F/X',\n",
       " 'Data Analyst',\n",
       " 'Data analist/scientist',\n",
       " 'Data Scientist - Drug Design & Augmented Intelligence',\n",
       " 'Associate Data Scientist',\n",
       " 'Data Scientist',\n",
       " 'Data scientist in Antwerpen',\n",
       " 'Data Scientist - Climate Analytics',\n",
       " 'Data Scientist - Learn',\n",
       " 'Data Scientist',\n",
       " 'Risk data scientist',\n",
       " 'Data Scientist',\n",
       " 'Data Scientist for Industry 4.0',\n",
       " 'Data & Information Quality Analyst',\n",
       " 'Data Scientist',\n",
       " 'Data Scientist - ACRE (CommodityFX Analytics)']"
      ]
     },
     "execution_count": 10,
     "metadata": {},
     "output_type": "execute_result"
    }
   ],
   "source": [
    "job_titles=[]\n",
    "for i in ten_jobs:\n",
    "    job_titles.append(i.text)\n",
    "job_titles    "
   ]
  },
  {
   "cell_type": "code",
   "execution_count": 11,
   "id": "40a29a77-84c8-4425-ac12-59ddbeb9e84e",
   "metadata": {},
   "outputs": [
    {
     "data": {
      "text/html": [
       "<div>\n",
       "<style scoped>\n",
       "    .dataframe tbody tr th:only-of-type {\n",
       "        vertical-align: middle;\n",
       "    }\n",
       "\n",
       "    .dataframe tbody tr th {\n",
       "        vertical-align: top;\n",
       "    }\n",
       "\n",
       "    .dataframe thead th {\n",
       "        text-align: right;\n",
       "    }\n",
       "</style>\n",
       "<table border=\"1\" class=\"dataframe\">\n",
       "  <thead>\n",
       "    <tr style=\"text-align: right;\">\n",
       "      <th></th>\n",
       "      <th>titles</th>\n",
       "    </tr>\n",
       "  </thead>\n",
       "  <tbody>\n",
       "    <tr>\n",
       "      <th>0</th>\n",
       "      <td>DATA SCIENTIST</td>\n",
       "    </tr>\n",
       "    <tr>\n",
       "      <th>1</th>\n",
       "      <td>COMPUTER VISION AND IMAGE RECOGNITION DATA SCI...</td>\n",
       "    </tr>\n",
       "    <tr>\n",
       "      <th>2</th>\n",
       "      <td>SENIOR NLP DATA SCIENTIST</td>\n",
       "    </tr>\n",
       "    <tr>\n",
       "      <th>3</th>\n",
       "      <td>SENIOR DATA SCIENTIST</td>\n",
       "    </tr>\n",
       "    <tr>\n",
       "      <th>4</th>\n",
       "      <td>Data Scientist (VDAB)</td>\n",
       "    </tr>\n",
       "    <tr>\n",
       "      <th>5</th>\n",
       "      <td>Data Scientist</td>\n",
       "    </tr>\n",
       "    <tr>\n",
       "      <th>6</th>\n",
       "      <td>Data scientist (m/f/x)</td>\n",
       "    </tr>\n",
       "    <tr>\n",
       "      <th>7</th>\n",
       "      <td>Data Scientist</td>\n",
       "    </tr>\n",
       "    <tr>\n",
       "      <th>8</th>\n",
       "      <td>Data Analyst</td>\n",
       "    </tr>\n",
       "    <tr>\n",
       "      <th>9</th>\n",
       "      <td>Data Scientist | Data-driven Team</td>\n",
       "    </tr>\n",
       "  </tbody>\n",
       "</table>\n",
       "</div>"
      ],
      "text/plain": [
       "                                              titles\n",
       "0                                     DATA SCIENTIST\n",
       "1  COMPUTER VISION AND IMAGE RECOGNITION DATA SCI...\n",
       "2                          SENIOR NLP DATA SCIENTIST\n",
       "3                              SENIOR DATA SCIENTIST\n",
       "4                              Data Scientist (VDAB)\n",
       "5                                     Data Scientist\n",
       "6                             Data scientist (m/f/x)\n",
       "7                                     Data Scientist\n",
       "8                                       Data Analyst\n",
       "9                  Data Scientist | Data-driven Team"
      ]
     },
     "execution_count": 11,
     "metadata": {},
     "output_type": "execute_result"
    }
   ],
   "source": [
    "jobs=pd.DataFrame({})\n",
    "jobs['titles'] = job_titles\n",
    "jobs[:10]\n"
   ]
  },
  {
   "cell_type": "code",
   "execution_count": 12,
   "id": "2389ef83-605f-4c46-a1e9-901e8196e290",
   "metadata": {},
   "outputs": [],
   "source": [
    "driver.quit()"
   ]
  },
  {
   "cell_type": "code",
   "execution_count": null,
   "id": "ea792cef-57e5-444a-a517-6754bbe485d1",
   "metadata": {},
   "outputs": [],
   "source": []
  }
 ],
 "metadata": {
  "kernelspec": {
   "display_name": "Python 3",
   "language": "python",
   "name": "python3"
  },
  "language_info": {
   "codemirror_mode": {
    "name": "ipython",
    "version": 3
   },
   "file_extension": ".py",
   "mimetype": "text/x-python",
   "name": "python",
   "nbconvert_exporter": "python",
   "pygments_lexer": "ipython3",
   "version": "3.8.8"
  }
 },
 "nbformat": 4,
 "nbformat_minor": 5
}
