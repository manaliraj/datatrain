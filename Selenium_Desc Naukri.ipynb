{
 "cells": [
  {
   "cell_type": "code",
   "execution_count": 1,
   "id": "2c6ab5c9-cddb-4f7f-b981-b77b9f52a9a2",
   "metadata": {},
   "outputs": [
    {
     "name": "stdout",
     "output_type": "stream",
     "text": [
      "Naveen \n"
     ]
    }
   ],
   "source": [
    "print (\"Naveen \")"
   ]
  },
  {
   "cell_type": "code",
   "execution_count": 2,
   "id": "9e0b1cf1-4abd-4626-abf0-10a868ec4b32",
   "metadata": {},
   "outputs": [],
   "source": [
    "import selenium\n",
    "import pandas as pd\n",
    "from selenium import webdriver \n",
    "import time\n",
    "from selenium.common.exceptions import NoSuchElementException"
   ]
  },
  {
   "cell_type": "code",
   "execution_count": 3,
   "id": "7f06c407-e77a-43b1-959c-d91fb5e23ac1",
   "metadata": {},
   "outputs": [],
   "source": [
    "driver= webdriver.Chrome(\"chromedriver.exe\")"
   ]
  },
  {
   "cell_type": "code",
   "execution_count": 4,
   "id": "11d9b276-adc4-42ca-85e6-65a0ce55c4e5",
   "metadata": {},
   "outputs": [],
   "source": [
    "driver.get(\"http://www.naukri.com/data-scientist-jobs-in bangalore-bengaluru\")"
   ]
  },
  {
   "cell_type": "code",
   "execution_count": 5,
   "id": "49677b99-2afd-4e41-ae16-7f5bb2e2ac85",
   "metadata": {},
   "outputs": [],
   "source": [
    "# Get the URLS \n",
    "urls=[]\n",
    "for i in driver.find_elements_by_xpath(\"//a[@class='title fw500 ellipsis']\"):\n",
    "    urls.append(i.get_attribute (\"href\"))"
   ]
  },
  {
   "cell_type": "code",
   "execution_count": 6,
   "id": "1b0b814b-508d-4a72-aac6-6893482201e0",
   "metadata": {},
   "outputs": [
    {
     "data": {
      "text/plain": [
       "0"
      ]
     },
     "execution_count": 6,
     "metadata": {},
     "output_type": "execute_result"
    }
   ],
   "source": [
    "len(urls)"
   ]
  },
  {
   "cell_type": "code",
   "execution_count": 7,
   "id": "8cf7bd16-da1f-4943-bf15-7481414c93dd",
   "metadata": {},
   "outputs": [],
   "source": [
    "# Job Desc variable\n",
    "job_description=[]\n",
    "job_title=[]"
   ]
  },
  {
   "cell_type": "code",
   "execution_count": 8,
   "id": "9636f0e3-0ffd-4abf-8975-11dee4b5ccc1",
   "metadata": {},
   "outputs": [],
   "source": [
    "for i in urls[:10]:\n",
    "    driver.get(i)\n",
    "    driver.implicitly_wait(15)\n",
    "    try:\n",
    "        job=driver.find_element_by_xpath(\"//h1[@class='jd-header-title']\")\n",
    "        job_title.append(job.text)\n",
    "    except NoSuchElementException:\n",
    "        job_tittle.append('_')\n",
    "        \n",
    "        job_desc=driver.find_element_by_xpath(\"//section[@class='job-desc']\")\n",
    "        job_description.append(job_desc.text)\n",
    "    except  NoSuchElementException:\n",
    "        job_description.append('_')\n",
    "        "
   ]
  },
  {
   "cell_type": "code",
   "execution_count": 9,
   "id": "2389ef83-605f-4c46-a1e9-901e8196e290",
   "metadata": {},
   "outputs": [
    {
     "name": "stdout",
     "output_type": "stream",
     "text": [
      "0\n",
      "0\n"
     ]
    }
   ],
   "source": [
    "print(len(job_title))\n",
    "print(len(job_description))"
   ]
  },
  {
   "cell_type": "code",
   "execution_count": null,
   "id": "ea792cef-57e5-444a-a517-6754bbe485d1",
   "metadata": {},
   "outputs": [],
   "source": []
  }
 ],
 "metadata": {
  "kernelspec": {
   "display_name": "Python 3",
   "language": "python",
   "name": "python3"
  },
  "language_info": {
   "codemirror_mode": {
    "name": "ipython",
    "version": 3
   },
   "file_extension": ".py",
   "mimetype": "text/x-python",
   "name": "python",
   "nbconvert_exporter": "python",
   "pygments_lexer": "ipython3",
   "version": "3.8.8"
  }
 },
 "nbformat": 4,
 "nbformat_minor": 5
}
