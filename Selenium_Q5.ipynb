{
 "cells": [
  {
   "cell_type": "code",
   "execution_count": 1,
   "id": "2c6ab5c9-cddb-4f7f-b981-b77b9f52a9a2",
   "metadata": {},
   "outputs": [
    {
     "name": "stdout",
     "output_type": "stream",
     "text": [
      "Naveen \n"
     ]
    }
   ],
   "source": [
    "print (\"Naveen \")"
   ]
  },
  {
   "cell_type": "code",
   "execution_count": 2,
   "id": "9e0b1cf1-4abd-4626-abf0-10a868ec4b32",
   "metadata": {},
   "outputs": [],
   "source": [
    "import selenium\n",
    "import pandas as pd\n",
    "from selenium import webdriver "
   ]
  },
  {
   "cell_type": "code",
   "execution_count": 3,
   "id": "7f06c407-e77a-43b1-959c-d91fb5e23ac1",
   "metadata": {},
   "outputs": [],
   "source": [
    "driver= webdriver.Chrome(\"chromedriver.exe\")"
   ]
  },
  {
   "cell_type": "code",
   "execution_count": 4,
   "id": "11d9b276-adc4-42ca-85e6-65a0ce55c4e5",
   "metadata": {},
   "outputs": [],
   "source": [
    "url = 'https://www.glassdoor.co.in/Salaries/index.htm'\n",
    "driver.get(url)"
   ]
  },
  {
   "cell_type": "code",
   "execution_count": 5,
   "id": "a0d07304-7a5e-4682-87e3-eddae2049da6",
   "metadata": {},
   "outputs": [
    {
     "data": {
      "text/plain": [
       "<selenium.webdriver.remote.webelement.WebElement (session=\"e3544b4b238fe2108b882b68092b0518\", element=\"a5f6add9-e233-48fe-8855-55a15e4cf6c4\")>"
      ]
     },
     "execution_count": 5,
     "metadata": {},
     "output_type": "execute_result"
    }
   ],
   "source": [
    "search_job= driver.find_element_by_xpath(\"//input[@id='KeywordSearch']\")\n",
    "search_job"
   ]
  },
  {
   "cell_type": "code",
   "execution_count": 6,
   "id": "914ceca8-3439-40c1-8a19-b5533eee4071",
   "metadata": {},
   "outputs": [],
   "source": [
    "search_job.send_keys('data scientist')"
   ]
  },
  {
   "cell_type": "code",
   "execution_count": 7,
   "id": "1383c6ce-67a5-46f4-adf8-94a26d539ca7",
   "metadata": {},
   "outputs": [],
   "source": [
    "location_job= driver.find_element_by_xpath(\"//input[@id='LocationSearch']\")\n",
    "location_job.clear()\n",
    "location_job.send_keys('Noida')"
   ]
  },
  {
   "cell_type": "code",
   "execution_count": 8,
   "id": "096820b8-aef6-4fad-9ec6-a25d1fc3f184",
   "metadata": {},
   "outputs": [],
   "source": [
    "search_btn = driver.find_element_by_xpath(\"//button[@id='HeroSearchButton']\")\n",
    "search_btn.click()\n",
    "driver.implicitly_wait(15)"
   ]
  },
  {
   "cell_type": "code",
   "execution_count": 9,
   "id": "ab2f65dd-19e5-40ae-8754-94f031eb7d05",
   "metadata": {},
   "outputs": [
    {
     "data": {
      "text/plain": [
       "[<selenium.webdriver.remote.webelement.WebElement (session=\"e3544b4b238fe2108b882b68092b0518\", element=\"090b0e15-ac24-4dc5-9e3a-5ff1fe58571a\")>,\n",
       " <selenium.webdriver.remote.webelement.WebElement (session=\"e3544b4b238fe2108b882b68092b0518\", element=\"67eca024-7b15-46e0-a67b-a11d2f6b0094\")>,\n",
       " <selenium.webdriver.remote.webelement.WebElement (session=\"e3544b4b238fe2108b882b68092b0518\", element=\"21ed81af-d117-406e-9182-85593fa5aae4\")>,\n",
       " <selenium.webdriver.remote.webelement.WebElement (session=\"e3544b4b238fe2108b882b68092b0518\", element=\"dbac9769-b73f-4019-ae28-6f6163c99bd1\")>,\n",
       " <selenium.webdriver.remote.webelement.WebElement (session=\"e3544b4b238fe2108b882b68092b0518\", element=\"f0729f7f-3c3d-4512-8dbb-a1fe36ff7c89\")>,\n",
       " <selenium.webdriver.remote.webelement.WebElement (session=\"e3544b4b238fe2108b882b68092b0518\", element=\"0a1bb002-c04d-4129-b907-d65ea5160571\")>,\n",
       " <selenium.webdriver.remote.webelement.WebElement (session=\"e3544b4b238fe2108b882b68092b0518\", element=\"4924d060-3705-478a-a059-5e9e591a402c\")>,\n",
       " <selenium.webdriver.remote.webelement.WebElement (session=\"e3544b4b238fe2108b882b68092b0518\", element=\"615e96a3-9c0c-4b86-b2f6-e798f7d1d8a9\")>,\n",
       " <selenium.webdriver.remote.webelement.WebElement (session=\"e3544b4b238fe2108b882b68092b0518\", element=\"18e2d6a6-344a-4aba-b5d7-105088155e13\")>,\n",
       " <selenium.webdriver.remote.webelement.WebElement (session=\"e3544b4b238fe2108b882b68092b0518\", element=\"21f2cf51-1266-4c0d-9141-a68edff8492e\")>,\n",
       " <selenium.webdriver.remote.webelement.WebElement (session=\"e3544b4b238fe2108b882b68092b0518\", element=\"13aab823-0af9-44e7-b4de-f50e4faba852\")>,\n",
       " <selenium.webdriver.remote.webelement.WebElement (session=\"e3544b4b238fe2108b882b68092b0518\", element=\"8ee51a69-7907-4afd-9875-a8f657d8c127\")>,\n",
       " <selenium.webdriver.remote.webelement.WebElement (session=\"e3544b4b238fe2108b882b68092b0518\", element=\"77e9c448-1b5a-4aad-8678-c8ad5886ea14\")>,\n",
       " <selenium.webdriver.remote.webelement.WebElement (session=\"e3544b4b238fe2108b882b68092b0518\", element=\"31cac893-0ef0-4a2d-956d-b2b2c7472772\")>,\n",
       " <selenium.webdriver.remote.webelement.WebElement (session=\"e3544b4b238fe2108b882b68092b0518\", element=\"cccafe34-7ff3-4a4f-9d42-5ccb484fc3ed\")>,\n",
       " <selenium.webdriver.remote.webelement.WebElement (session=\"e3544b4b238fe2108b882b68092b0518\", element=\"d96bc7df-bee3-47c2-81a5-9fa28c6411c6\")>,\n",
       " <selenium.webdriver.remote.webelement.WebElement (session=\"e3544b4b238fe2108b882b68092b0518\", element=\"347effc7-8298-4610-a23e-cb513f4923ea\")>,\n",
       " <selenium.webdriver.remote.webelement.WebElement (session=\"e3544b4b238fe2108b882b68092b0518\", element=\"b684daa1-3c6a-4eca-802c-17ada4faed8a\")>,\n",
       " <selenium.webdriver.remote.webelement.WebElement (session=\"e3544b4b238fe2108b882b68092b0518\", element=\"a8b231de-f7d1-4cb1-b1e5-90292cc0a499\")>,\n",
       " <selenium.webdriver.remote.webelement.WebElement (session=\"e3544b4b238fe2108b882b68092b0518\", element=\"ca8322fd-b726-474a-99be-5aa03e57ba83\")>]"
      ]
     },
     "execution_count": 9,
     "metadata": {},
     "output_type": "execute_result"
    }
   ],
   "source": [
    "company_name=driver.find_elements_by_xpath(\"//a[@class='css-f3vw95 e1aj7ssy3']\")\n",
    "company_name"
   ]
  },
  {
   "cell_type": "code",
   "execution_count": 10,
   "id": "b9363bec-84e6-42b0-9b6b-63ac97c3ea3c",
   "metadata": {},
   "outputs": [
    {
     "data": {
      "text/plain": [
       "[<selenium.webdriver.remote.webelement.WebElement (session=\"e3544b4b238fe2108b882b68092b0518\", element=\"e39ccaef-da95-40c9-bbc7-228177225d31\")>,\n",
       " <selenium.webdriver.remote.webelement.WebElement (session=\"e3544b4b238fe2108b882b68092b0518\", element=\"d0c1455d-ee40-4ee3-a68c-f8508a6a9ab4\")>,\n",
       " <selenium.webdriver.remote.webelement.WebElement (session=\"e3544b4b238fe2108b882b68092b0518\", element=\"8f96b7ab-6a98-4645-8eb8-c8482f9c85bb\")>,\n",
       " <selenium.webdriver.remote.webelement.WebElement (session=\"e3544b4b238fe2108b882b68092b0518\", element=\"2f51551c-bf0f-42a6-9541-5ab7fdec6ccc\")>,\n",
       " <selenium.webdriver.remote.webelement.WebElement (session=\"e3544b4b238fe2108b882b68092b0518\", element=\"079c2960-e8a0-4d1e-94a5-3261bd7e7a66\")>,\n",
       " <selenium.webdriver.remote.webelement.WebElement (session=\"e3544b4b238fe2108b882b68092b0518\", element=\"807258ae-3388-4d3b-9871-61bc5343ab50\")>,\n",
       " <selenium.webdriver.remote.webelement.WebElement (session=\"e3544b4b238fe2108b882b68092b0518\", element=\"cdbb0ad2-2bfe-4ddd-9ab0-d007ae9b0647\")>,\n",
       " <selenium.webdriver.remote.webelement.WebElement (session=\"e3544b4b238fe2108b882b68092b0518\", element=\"7ed7da0e-7c03-4682-beca-93e005e153fb\")>,\n",
       " <selenium.webdriver.remote.webelement.WebElement (session=\"e3544b4b238fe2108b882b68092b0518\", element=\"23b7d769-4f48-4324-abcc-9e29101960e7\")>,\n",
       " <selenium.webdriver.remote.webelement.WebElement (session=\"e3544b4b238fe2108b882b68092b0518\", element=\"51cdc94e-4680-4ff6-859f-aa8b6ee6d174\")>,\n",
       " <selenium.webdriver.remote.webelement.WebElement (session=\"e3544b4b238fe2108b882b68092b0518\", element=\"a3e81a54-0716-46dc-9cc7-7e771cd7f822\")>,\n",
       " <selenium.webdriver.remote.webelement.WebElement (session=\"e3544b4b238fe2108b882b68092b0518\", element=\"f83c673c-18d0-4ca5-848b-b251039269d0\")>,\n",
       " <selenium.webdriver.remote.webelement.WebElement (session=\"e3544b4b238fe2108b882b68092b0518\", element=\"e9ed064c-1802-4f02-afa6-1237f6aacaac\")>,\n",
       " <selenium.webdriver.remote.webelement.WebElement (session=\"e3544b4b238fe2108b882b68092b0518\", element=\"bf1898b0-2fca-4e5f-99a4-97cb5b2cd981\")>,\n",
       " <selenium.webdriver.remote.webelement.WebElement (session=\"e3544b4b238fe2108b882b68092b0518\", element=\"e5b66cd1-eb85-41b3-8ce2-72a84e3c36a4\")>,\n",
       " <selenium.webdriver.remote.webelement.WebElement (session=\"e3544b4b238fe2108b882b68092b0518\", element=\"340b4212-c4db-4de7-8b6d-893b9b3e6bae\")>,\n",
       " <selenium.webdriver.remote.webelement.WebElement (session=\"e3544b4b238fe2108b882b68092b0518\", element=\"689cad06-e68c-4ee3-a289-e74e395fc11c\")>,\n",
       " <selenium.webdriver.remote.webelement.WebElement (session=\"e3544b4b238fe2108b882b68092b0518\", element=\"14777cdb-9a72-4d83-8943-7dc18346f812\")>,\n",
       " <selenium.webdriver.remote.webelement.WebElement (session=\"e3544b4b238fe2108b882b68092b0518\", element=\"61a96ab7-a14b-47eb-890c-7ffbcd05df9e\")>,\n",
       " <selenium.webdriver.remote.webelement.WebElement (session=\"e3544b4b238fe2108b882b68092b0518\", element=\"bf3a6012-7450-45cd-8d4f-865ca60032c6\")>]"
      ]
     },
     "execution_count": 10,
     "metadata": {},
     "output_type": "execute_result"
    }
   ],
   "source": [
    "company_rating=driver.find_elements_by_xpath(\"//span[@class='m-0 css-kyx745']\")\n",
    "company_rating"
   ]
  },
  {
   "cell_type": "code",
   "execution_count": 11,
   "id": "c9033efb-a84c-4401-ba2c-0a28f530e441",
   "metadata": {},
   "outputs": [
    {
     "data": {
      "text/plain": [
       "[<selenium.webdriver.remote.webelement.WebElement (session=\"e3544b4b238fe2108b882b68092b0518\", element=\"e39ccaef-da95-40c9-bbc7-228177225d31\")>,\n",
       " <selenium.webdriver.remote.webelement.WebElement (session=\"e3544b4b238fe2108b882b68092b0518\", element=\"d0c1455d-ee40-4ee3-a68c-f8508a6a9ab4\")>,\n",
       " <selenium.webdriver.remote.webelement.WebElement (session=\"e3544b4b238fe2108b882b68092b0518\", element=\"8f96b7ab-6a98-4645-8eb8-c8482f9c85bb\")>,\n",
       " <selenium.webdriver.remote.webelement.WebElement (session=\"e3544b4b238fe2108b882b68092b0518\", element=\"2f51551c-bf0f-42a6-9541-5ab7fdec6ccc\")>,\n",
       " <selenium.webdriver.remote.webelement.WebElement (session=\"e3544b4b238fe2108b882b68092b0518\", element=\"079c2960-e8a0-4d1e-94a5-3261bd7e7a66\")>,\n",
       " <selenium.webdriver.remote.webelement.WebElement (session=\"e3544b4b238fe2108b882b68092b0518\", element=\"807258ae-3388-4d3b-9871-61bc5343ab50\")>,\n",
       " <selenium.webdriver.remote.webelement.WebElement (session=\"e3544b4b238fe2108b882b68092b0518\", element=\"cdbb0ad2-2bfe-4ddd-9ab0-d007ae9b0647\")>,\n",
       " <selenium.webdriver.remote.webelement.WebElement (session=\"e3544b4b238fe2108b882b68092b0518\", element=\"7ed7da0e-7c03-4682-beca-93e005e153fb\")>,\n",
       " <selenium.webdriver.remote.webelement.WebElement (session=\"e3544b4b238fe2108b882b68092b0518\", element=\"23b7d769-4f48-4324-abcc-9e29101960e7\")>,\n",
       " <selenium.webdriver.remote.webelement.WebElement (session=\"e3544b4b238fe2108b882b68092b0518\", element=\"51cdc94e-4680-4ff6-859f-aa8b6ee6d174\")>,\n",
       " <selenium.webdriver.remote.webelement.WebElement (session=\"e3544b4b238fe2108b882b68092b0518\", element=\"a3e81a54-0716-46dc-9cc7-7e771cd7f822\")>,\n",
       " <selenium.webdriver.remote.webelement.WebElement (session=\"e3544b4b238fe2108b882b68092b0518\", element=\"f83c673c-18d0-4ca5-848b-b251039269d0\")>,\n",
       " <selenium.webdriver.remote.webelement.WebElement (session=\"e3544b4b238fe2108b882b68092b0518\", element=\"e9ed064c-1802-4f02-afa6-1237f6aacaac\")>,\n",
       " <selenium.webdriver.remote.webelement.WebElement (session=\"e3544b4b238fe2108b882b68092b0518\", element=\"bf1898b0-2fca-4e5f-99a4-97cb5b2cd981\")>,\n",
       " <selenium.webdriver.remote.webelement.WebElement (session=\"e3544b4b238fe2108b882b68092b0518\", element=\"e5b66cd1-eb85-41b3-8ce2-72a84e3c36a4\")>,\n",
       " <selenium.webdriver.remote.webelement.WebElement (session=\"e3544b4b238fe2108b882b68092b0518\", element=\"340b4212-c4db-4de7-8b6d-893b9b3e6bae\")>,\n",
       " <selenium.webdriver.remote.webelement.WebElement (session=\"e3544b4b238fe2108b882b68092b0518\", element=\"689cad06-e68c-4ee3-a289-e74e395fc11c\")>,\n",
       " <selenium.webdriver.remote.webelement.WebElement (session=\"e3544b4b238fe2108b882b68092b0518\", element=\"14777cdb-9a72-4d83-8943-7dc18346f812\")>,\n",
       " <selenium.webdriver.remote.webelement.WebElement (session=\"e3544b4b238fe2108b882b68092b0518\", element=\"61a96ab7-a14b-47eb-890c-7ffbcd05df9e\")>,\n",
       " <selenium.webdriver.remote.webelement.WebElement (session=\"e3544b4b238fe2108b882b68092b0518\", element=\"bf3a6012-7450-45cd-8d4f-865ca60032c6\")>]"
      ]
     },
     "execution_count": 11,
     "metadata": {},
     "output_type": "execute_result"
    }
   ],
   "source": [
    "company_salary=driver.find_elements_by_xpath(\"//span[@class='m-0 css-kyx745']\")\n",
    "company_salary"
   ]
  },
  {
   "cell_type": "code",
   "execution_count": 13,
   "id": "86c113b5-d745-45ef-8cf0-57643780b748",
   "metadata": {},
   "outputs": [
    {
     "ename": "WebDriverException",
     "evalue": "Message: chrome not reachable\n  (Session info: chrome=91.0.4472.124)\n",
     "output_type": "error",
     "traceback": [
      "\u001b[1;31m---------------------------------------------------------------------------\u001b[0m",
      "\u001b[1;31mWebDriverException\u001b[0m                        Traceback (most recent call last)",
      "\u001b[1;32m<ipython-input-13-6fb631df73ba>\u001b[0m in \u001b[0;36m<module>\u001b[1;34m\u001b[0m\n\u001b[0;32m      1\u001b[0m \u001b[0mjob_company\u001b[0m\u001b[1;33m=\u001b[0m\u001b[1;33m[\u001b[0m\u001b[1;33m]\u001b[0m\u001b[1;33m\u001b[0m\u001b[1;33m\u001b[0m\u001b[0m\n\u001b[0;32m      2\u001b[0m \u001b[1;32mfor\u001b[0m \u001b[0mi\u001b[0m \u001b[1;32min\u001b[0m \u001b[0mcompany_name\u001b[0m\u001b[1;33m:\u001b[0m\u001b[1;33m\u001b[0m\u001b[1;33m\u001b[0m\u001b[0m\n\u001b[1;32m----> 3\u001b[1;33m     \u001b[0mjob_company\u001b[0m\u001b[1;33m.\u001b[0m\u001b[0mappend\u001b[0m\u001b[1;33m(\u001b[0m\u001b[0mi\u001b[0m\u001b[1;33m.\u001b[0m\u001b[0mtext\u001b[0m\u001b[1;33m)\u001b[0m\u001b[1;33m\u001b[0m\u001b[1;33m\u001b[0m\u001b[0m\n\u001b[0m\u001b[0;32m      4\u001b[0m \u001b[0mjob_company\u001b[0m\u001b[1;33m[\u001b[0m\u001b[1;36m1\u001b[0m\u001b[1;33m]\u001b[0m\u001b[1;33m\u001b[0m\u001b[1;33m\u001b[0m\u001b[0m\n",
      "\u001b[1;32m~\\Anaconda3\\lib\\site-packages\\selenium\\webdriver\\remote\\webelement.py\u001b[0m in \u001b[0;36mtext\u001b[1;34m(self)\u001b[0m\n\u001b[0;32m     74\u001b[0m     \u001b[1;32mdef\u001b[0m \u001b[0mtext\u001b[0m\u001b[1;33m(\u001b[0m\u001b[0mself\u001b[0m\u001b[1;33m)\u001b[0m\u001b[1;33m:\u001b[0m\u001b[1;33m\u001b[0m\u001b[1;33m\u001b[0m\u001b[0m\n\u001b[0;32m     75\u001b[0m         \u001b[1;34m\"\"\"The text of the element.\"\"\"\u001b[0m\u001b[1;33m\u001b[0m\u001b[1;33m\u001b[0m\u001b[0m\n\u001b[1;32m---> 76\u001b[1;33m         \u001b[1;32mreturn\u001b[0m \u001b[0mself\u001b[0m\u001b[1;33m.\u001b[0m\u001b[0m_execute\u001b[0m\u001b[1;33m(\u001b[0m\u001b[0mCommand\u001b[0m\u001b[1;33m.\u001b[0m\u001b[0mGET_ELEMENT_TEXT\u001b[0m\u001b[1;33m)\u001b[0m\u001b[1;33m[\u001b[0m\u001b[1;34m'value'\u001b[0m\u001b[1;33m]\u001b[0m\u001b[1;33m\u001b[0m\u001b[1;33m\u001b[0m\u001b[0m\n\u001b[0m\u001b[0;32m     77\u001b[0m \u001b[1;33m\u001b[0m\u001b[0m\n\u001b[0;32m     78\u001b[0m     \u001b[1;32mdef\u001b[0m \u001b[0mclick\u001b[0m\u001b[1;33m(\u001b[0m\u001b[0mself\u001b[0m\u001b[1;33m)\u001b[0m\u001b[1;33m:\u001b[0m\u001b[1;33m\u001b[0m\u001b[1;33m\u001b[0m\u001b[0m\n",
      "\u001b[1;32m~\\Anaconda3\\lib\\site-packages\\selenium\\webdriver\\remote\\webelement.py\u001b[0m in \u001b[0;36m_execute\u001b[1;34m(self, command, params)\u001b[0m\n\u001b[0;32m    631\u001b[0m             \u001b[0mparams\u001b[0m \u001b[1;33m=\u001b[0m \u001b[1;33m{\u001b[0m\u001b[1;33m}\u001b[0m\u001b[1;33m\u001b[0m\u001b[1;33m\u001b[0m\u001b[0m\n\u001b[0;32m    632\u001b[0m         \u001b[0mparams\u001b[0m\u001b[1;33m[\u001b[0m\u001b[1;34m'id'\u001b[0m\u001b[1;33m]\u001b[0m \u001b[1;33m=\u001b[0m \u001b[0mself\u001b[0m\u001b[1;33m.\u001b[0m\u001b[0m_id\u001b[0m\u001b[1;33m\u001b[0m\u001b[1;33m\u001b[0m\u001b[0m\n\u001b[1;32m--> 633\u001b[1;33m         \u001b[1;32mreturn\u001b[0m \u001b[0mself\u001b[0m\u001b[1;33m.\u001b[0m\u001b[0m_parent\u001b[0m\u001b[1;33m.\u001b[0m\u001b[0mexecute\u001b[0m\u001b[1;33m(\u001b[0m\u001b[0mcommand\u001b[0m\u001b[1;33m,\u001b[0m \u001b[0mparams\u001b[0m\u001b[1;33m)\u001b[0m\u001b[1;33m\u001b[0m\u001b[1;33m\u001b[0m\u001b[0m\n\u001b[0m\u001b[0;32m    634\u001b[0m \u001b[1;33m\u001b[0m\u001b[0m\n\u001b[0;32m    635\u001b[0m     \u001b[1;32mdef\u001b[0m \u001b[0mfind_element\u001b[0m\u001b[1;33m(\u001b[0m\u001b[0mself\u001b[0m\u001b[1;33m,\u001b[0m \u001b[0mby\u001b[0m\u001b[1;33m=\u001b[0m\u001b[0mBy\u001b[0m\u001b[1;33m.\u001b[0m\u001b[0mID\u001b[0m\u001b[1;33m,\u001b[0m \u001b[0mvalue\u001b[0m\u001b[1;33m=\u001b[0m\u001b[1;32mNone\u001b[0m\u001b[1;33m)\u001b[0m\u001b[1;33m:\u001b[0m\u001b[1;33m\u001b[0m\u001b[1;33m\u001b[0m\u001b[0m\n",
      "\u001b[1;32m~\\Anaconda3\\lib\\site-packages\\selenium\\webdriver\\remote\\webdriver.py\u001b[0m in \u001b[0;36mexecute\u001b[1;34m(self, driver_command, params)\u001b[0m\n\u001b[0;32m    319\u001b[0m         \u001b[0mresponse\u001b[0m \u001b[1;33m=\u001b[0m \u001b[0mself\u001b[0m\u001b[1;33m.\u001b[0m\u001b[0mcommand_executor\u001b[0m\u001b[1;33m.\u001b[0m\u001b[0mexecute\u001b[0m\u001b[1;33m(\u001b[0m\u001b[0mdriver_command\u001b[0m\u001b[1;33m,\u001b[0m \u001b[0mparams\u001b[0m\u001b[1;33m)\u001b[0m\u001b[1;33m\u001b[0m\u001b[1;33m\u001b[0m\u001b[0m\n\u001b[0;32m    320\u001b[0m         \u001b[1;32mif\u001b[0m \u001b[0mresponse\u001b[0m\u001b[1;33m:\u001b[0m\u001b[1;33m\u001b[0m\u001b[1;33m\u001b[0m\u001b[0m\n\u001b[1;32m--> 321\u001b[1;33m             \u001b[0mself\u001b[0m\u001b[1;33m.\u001b[0m\u001b[0merror_handler\u001b[0m\u001b[1;33m.\u001b[0m\u001b[0mcheck_response\u001b[0m\u001b[1;33m(\u001b[0m\u001b[0mresponse\u001b[0m\u001b[1;33m)\u001b[0m\u001b[1;33m\u001b[0m\u001b[1;33m\u001b[0m\u001b[0m\n\u001b[0m\u001b[0;32m    322\u001b[0m             response['value'] = self._unwrap_value(\n\u001b[0;32m    323\u001b[0m                 response.get('value', None))\n",
      "\u001b[1;32m~\\Anaconda3\\lib\\site-packages\\selenium\\webdriver\\remote\\errorhandler.py\u001b[0m in \u001b[0;36mcheck_response\u001b[1;34m(self, response)\u001b[0m\n\u001b[0;32m    240\u001b[0m                 \u001b[0malert_text\u001b[0m \u001b[1;33m=\u001b[0m \u001b[0mvalue\u001b[0m\u001b[1;33m[\u001b[0m\u001b[1;34m'alert'\u001b[0m\u001b[1;33m]\u001b[0m\u001b[1;33m.\u001b[0m\u001b[0mget\u001b[0m\u001b[1;33m(\u001b[0m\u001b[1;34m'text'\u001b[0m\u001b[1;33m)\u001b[0m\u001b[1;33m\u001b[0m\u001b[1;33m\u001b[0m\u001b[0m\n\u001b[0;32m    241\u001b[0m             \u001b[1;32mraise\u001b[0m \u001b[0mexception_class\u001b[0m\u001b[1;33m(\u001b[0m\u001b[0mmessage\u001b[0m\u001b[1;33m,\u001b[0m \u001b[0mscreen\u001b[0m\u001b[1;33m,\u001b[0m \u001b[0mstacktrace\u001b[0m\u001b[1;33m,\u001b[0m \u001b[0malert_text\u001b[0m\u001b[1;33m)\u001b[0m\u001b[1;33m\u001b[0m\u001b[1;33m\u001b[0m\u001b[0m\n\u001b[1;32m--> 242\u001b[1;33m         \u001b[1;32mraise\u001b[0m \u001b[0mexception_class\u001b[0m\u001b[1;33m(\u001b[0m\u001b[0mmessage\u001b[0m\u001b[1;33m,\u001b[0m \u001b[0mscreen\u001b[0m\u001b[1;33m,\u001b[0m \u001b[0mstacktrace\u001b[0m\u001b[1;33m)\u001b[0m\u001b[1;33m\u001b[0m\u001b[1;33m\u001b[0m\u001b[0m\n\u001b[0m\u001b[0;32m    243\u001b[0m \u001b[1;33m\u001b[0m\u001b[0m\n\u001b[0;32m    244\u001b[0m     \u001b[1;32mdef\u001b[0m \u001b[0m_value_or_default\u001b[0m\u001b[1;33m(\u001b[0m\u001b[0mself\u001b[0m\u001b[1;33m,\u001b[0m \u001b[0mobj\u001b[0m\u001b[1;33m,\u001b[0m \u001b[0mkey\u001b[0m\u001b[1;33m,\u001b[0m \u001b[0mdefault\u001b[0m\u001b[1;33m)\u001b[0m\u001b[1;33m:\u001b[0m\u001b[1;33m\u001b[0m\u001b[1;33m\u001b[0m\u001b[0m\n",
      "\u001b[1;31mWebDriverException\u001b[0m: Message: chrome not reachable\n  (Session info: chrome=91.0.4472.124)\n"
     ]
    }
   ],
   "source": [
    "job_company=[]\n",
    "for i in company_name:\n",
    "    job_company.append(i.text)\n",
    "job_company"
   ]
  },
  {
   "cell_type": "code",
   "execution_count": null,
   "id": "5be3afd5-af2f-482e-8cdc-ca6e837b64de",
   "metadata": {},
   "outputs": [],
   "source": [
    "job_rating=[]\n",
    "for i in company_rating:\n",
    "    job_rating.append(i.text)\n",
    "\n"
   ]
  },
  {
   "cell_type": "code",
   "execution_count": null,
   "id": "5a7fba92-ab9b-43ec-84d4-b54251ac75a3",
   "metadata": {},
   "outputs": [],
   "source": [
    "job_salary=[]\n",
    "for i in company_salary:\n",
    "    job_salary.append(i.text)"
   ]
  },
  {
   "cell_type": "code",
   "execution_count": null,
   "id": "ea792cef-57e5-444a-a517-6754bbe485d1",
   "metadata": {},
   "outputs": [],
   "source": [
    "Salary=pd.DataFrame({})\n",
    "Salary['Company Name'] = job_company\n",
    "Salary['Rating'] = job_rating\n",
    "Salary['Salary'] = job_salary\n",
    "Salary[:10]"
   ]
  },
  {
   "cell_type": "code",
   "execution_count": null,
   "id": "d5011999-390d-4fc4-9da5-c22b7fedf800",
   "metadata": {},
   "outputs": [],
   "source": [
    "driver.quit()"
   ]
  }
 ],
 "metadata": {
  "kernelspec": {
   "display_name": "Python 3",
   "language": "python",
   "name": "python3"
  },
  "language_info": {
   "codemirror_mode": {
    "name": "ipython",
    "version": 3
   },
   "file_extension": ".py",
   "mimetype": "text/x-python",
   "name": "python",
   "nbconvert_exporter": "python",
   "pygments_lexer": "ipython3",
   "version": "3.8.8"
  }
 },
 "nbformat": 4,
 "nbformat_minor": 5
}
