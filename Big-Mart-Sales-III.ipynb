{
 "cells": [
  {
   "cell_type": "code",
   "execution_count": 1,
   "metadata": {},
   "outputs": [],
   "source": [
    "import pandas as pd\n",
    "import numpy as np\n",
    "import matplotlib.pyplot as plt\n",
    "import seaborn as sns\n",
    "%matplotlib inline"
   ]
  },
  {
   "cell_type": "code",
   "execution_count": 2,
   "metadata": {},
   "outputs": [
    {
     "name": "stdout",
     "output_type": "stream",
     "text": [
      "(8523, 13)\n"
     ]
    }
   ],
   "source": [
    "Sales_train = pd.read_csv('Documents/Train1.csv')\n",
    "Sales_train[\"Type\"] = \"train\"\n",
    "print(Sales_train.shape)"
   ]
  },
  {
   "cell_type": "code",
   "execution_count": 3,
   "metadata": {},
   "outputs": [
    {
     "name": "stdout",
     "output_type": "stream",
     "text": [
      "(5681, 12)\n"
     ]
    }
   ],
   "source": [
    "Sales_test = pd.read_csv('Documents/Test1.csv')\n",
    "Sales_test[\"Type\"] = \"test\"\n",
    "print(Sales_test.shape)\n",
    "\n",
    "Data_Predicted = Sales_test.loc[:,[\"Item_Identifier\",\"Outlet_Identifier\",\"Item_MRP\"]]  ## will use later while prediction\n",
    "#Data_Predicted.head()"
   ]
  },
  {
   "cell_type": "code",
   "execution_count": 4,
   "metadata": {
    "scrolled": true
   },
   "outputs": [
    {
     "name": "stdout",
     "output_type": "stream",
     "text": [
      "(14204, 13)\n"
     ]
    },
    {
     "data": {
      "text/html": [
       "<div>\n",
       "<style scoped>\n",
       "    .dataframe tbody tr th:only-of-type {\n",
       "        vertical-align: middle;\n",
       "    }\n",
       "\n",
       "    .dataframe tbody tr th {\n",
       "        vertical-align: top;\n",
       "    }\n",
       "\n",
       "    .dataframe thead th {\n",
       "        text-align: right;\n",
       "    }\n",
       "</style>\n",
       "<table border=\"1\" class=\"dataframe\">\n",
       "  <thead>\n",
       "    <tr style=\"text-align: right;\">\n",
       "      <th></th>\n",
       "      <th>Item_Identifier</th>\n",
       "      <th>Item_Weight</th>\n",
       "      <th>Item_Fat_Content</th>\n",
       "      <th>Item_Visibility</th>\n",
       "      <th>Item_Type</th>\n",
       "      <th>Item_MRP</th>\n",
       "      <th>Outlet_Identifier</th>\n",
       "      <th>Outlet_Establishment_Year</th>\n",
       "      <th>Outlet_Size</th>\n",
       "      <th>Outlet_Location_Type</th>\n",
       "      <th>Outlet_Type</th>\n",
       "      <th>Item_Outlet_Sales</th>\n",
       "      <th>Type</th>\n",
       "    </tr>\n",
       "  </thead>\n",
       "  <tbody>\n",
       "    <tr>\n",
       "      <th>14199</th>\n",
       "      <td>FDB58</td>\n",
       "      <td>10.5</td>\n",
       "      <td>Regular</td>\n",
       "      <td>0.013496</td>\n",
       "      <td>Snack Foods</td>\n",
       "      <td>141.3154</td>\n",
       "      <td>OUT046</td>\n",
       "      <td>1997</td>\n",
       "      <td>Small</td>\n",
       "      <td>Tier 1</td>\n",
       "      <td>Supermarket Type1</td>\n",
       "      <td>NaN</td>\n",
       "      <td>test</td>\n",
       "    </tr>\n",
       "    <tr>\n",
       "      <th>14200</th>\n",
       "      <td>FDD47</td>\n",
       "      <td>7.6</td>\n",
       "      <td>Regular</td>\n",
       "      <td>0.142991</td>\n",
       "      <td>Starchy Foods</td>\n",
       "      <td>169.1448</td>\n",
       "      <td>OUT018</td>\n",
       "      <td>2009</td>\n",
       "      <td>Medium</td>\n",
       "      <td>Tier 3</td>\n",
       "      <td>Supermarket Type2</td>\n",
       "      <td>NaN</td>\n",
       "      <td>test</td>\n",
       "    </tr>\n",
       "    <tr>\n",
       "      <th>14201</th>\n",
       "      <td>NCO17</td>\n",
       "      <td>10.0</td>\n",
       "      <td>Low Fat</td>\n",
       "      <td>0.073529</td>\n",
       "      <td>Health and Hygiene</td>\n",
       "      <td>118.7440</td>\n",
       "      <td>OUT045</td>\n",
       "      <td>2002</td>\n",
       "      <td>NaN</td>\n",
       "      <td>Tier 2</td>\n",
       "      <td>Supermarket Type1</td>\n",
       "      <td>NaN</td>\n",
       "      <td>test</td>\n",
       "    </tr>\n",
       "    <tr>\n",
       "      <th>14202</th>\n",
       "      <td>FDJ26</td>\n",
       "      <td>15.3</td>\n",
       "      <td>Regular</td>\n",
       "      <td>0.000000</td>\n",
       "      <td>Canned</td>\n",
       "      <td>214.6218</td>\n",
       "      <td>OUT017</td>\n",
       "      <td>2007</td>\n",
       "      <td>NaN</td>\n",
       "      <td>Tier 2</td>\n",
       "      <td>Supermarket Type1</td>\n",
       "      <td>NaN</td>\n",
       "      <td>test</td>\n",
       "    </tr>\n",
       "    <tr>\n",
       "      <th>14203</th>\n",
       "      <td>FDU37</td>\n",
       "      <td>9.5</td>\n",
       "      <td>Regular</td>\n",
       "      <td>0.104720</td>\n",
       "      <td>Canned</td>\n",
       "      <td>79.7960</td>\n",
       "      <td>OUT045</td>\n",
       "      <td>2002</td>\n",
       "      <td>NaN</td>\n",
       "      <td>Tier 2</td>\n",
       "      <td>Supermarket Type1</td>\n",
       "      <td>NaN</td>\n",
       "      <td>test</td>\n",
       "    </tr>\n",
       "  </tbody>\n",
       "</table>\n",
       "</div>"
      ],
      "text/plain": [
       "      Item_Identifier  Item_Weight Item_Fat_Content  Item_Visibility  \\\n",
       "14199           FDB58         10.5          Regular         0.013496   \n",
       "14200           FDD47          7.6          Regular         0.142991   \n",
       "14201           NCO17         10.0          Low Fat         0.073529   \n",
       "14202           FDJ26         15.3          Regular         0.000000   \n",
       "14203           FDU37          9.5          Regular         0.104720   \n",
       "\n",
       "                Item_Type  Item_MRP Outlet_Identifier  \\\n",
       "14199         Snack Foods  141.3154            OUT046   \n",
       "14200       Starchy Foods  169.1448            OUT018   \n",
       "14201  Health and Hygiene  118.7440            OUT045   \n",
       "14202              Canned  214.6218            OUT017   \n",
       "14203              Canned   79.7960            OUT045   \n",
       "\n",
       "       Outlet_Establishment_Year Outlet_Size Outlet_Location_Type  \\\n",
       "14199                       1997       Small               Tier 1   \n",
       "14200                       2009      Medium               Tier 3   \n",
       "14201                       2002         NaN               Tier 2   \n",
       "14202                       2007         NaN               Tier 2   \n",
       "14203                       2002         NaN               Tier 2   \n",
       "\n",
       "             Outlet_Type  Item_Outlet_Sales  Type  \n",
       "14199  Supermarket Type1                NaN  test  \n",
       "14200  Supermarket Type2                NaN  test  \n",
       "14201  Supermarket Type1                NaN  test  \n",
       "14202  Supermarket Type1                NaN  test  \n",
       "14203  Supermarket Type1                NaN  test  "
      ]
     },
     "execution_count": 4,
     "metadata": {},
     "output_type": "execute_result"
    }
   ],
   "source": [
    "dframes = [Sales_train,Sales_test]\n",
    "Sales = pd.concat(dframes,ignore_index = True)\n",
    "print(Sales.shape)\n",
    "Sales.tail()"
   ]
  },
  {
   "cell_type": "code",
   "execution_count": 5,
   "metadata": {},
   "outputs": [
    {
     "data": {
      "text/html": [
       "<div>\n",
       "<style scoped>\n",
       "    .dataframe tbody tr th:only-of-type {\n",
       "        vertical-align: middle;\n",
       "    }\n",
       "\n",
       "    .dataframe tbody tr th {\n",
       "        vertical-align: top;\n",
       "    }\n",
       "\n",
       "    .dataframe thead th {\n",
       "        text-align: right;\n",
       "    }\n",
       "</style>\n",
       "<table border=\"1\" class=\"dataframe\">\n",
       "  <thead>\n",
       "    <tr style=\"text-align: right;\">\n",
       "      <th></th>\n",
       "      <th>Item_Identifier</th>\n",
       "      <th>Item_Weight</th>\n",
       "      <th>Item_Fat_Content</th>\n",
       "      <th>Item_Visibility</th>\n",
       "      <th>Item_Type</th>\n",
       "      <th>Item_MRP</th>\n",
       "      <th>Outlet_Identifier</th>\n",
       "      <th>Outlet_Establishment_Year</th>\n",
       "      <th>Outlet_Size</th>\n",
       "      <th>Outlet_Location_Type</th>\n",
       "      <th>Outlet_Type</th>\n",
       "      <th>Item_Outlet_Sales</th>\n",
       "      <th>Type</th>\n",
       "    </tr>\n",
       "  </thead>\n",
       "  <tbody>\n",
       "    <tr>\n",
       "      <th>count</th>\n",
       "      <td>14204</td>\n",
       "      <td>11765.000000</td>\n",
       "      <td>14204</td>\n",
       "      <td>14204.000000</td>\n",
       "      <td>14204</td>\n",
       "      <td>14204.000000</td>\n",
       "      <td>14204</td>\n",
       "      <td>14204.000000</td>\n",
       "      <td>10188</td>\n",
       "      <td>14204</td>\n",
       "      <td>14204</td>\n",
       "      <td>8523.000000</td>\n",
       "      <td>14204</td>\n",
       "    </tr>\n",
       "    <tr>\n",
       "      <th>unique</th>\n",
       "      <td>1559</td>\n",
       "      <td>NaN</td>\n",
       "      <td>5</td>\n",
       "      <td>NaN</td>\n",
       "      <td>16</td>\n",
       "      <td>NaN</td>\n",
       "      <td>10</td>\n",
       "      <td>NaN</td>\n",
       "      <td>3</td>\n",
       "      <td>3</td>\n",
       "      <td>4</td>\n",
       "      <td>NaN</td>\n",
       "      <td>2</td>\n",
       "    </tr>\n",
       "    <tr>\n",
       "      <th>top</th>\n",
       "      <td>FDR12</td>\n",
       "      <td>NaN</td>\n",
       "      <td>Low Fat</td>\n",
       "      <td>NaN</td>\n",
       "      <td>Fruits and Vegetables</td>\n",
       "      <td>NaN</td>\n",
       "      <td>OUT027</td>\n",
       "      <td>NaN</td>\n",
       "      <td>Medium</td>\n",
       "      <td>Tier 3</td>\n",
       "      <td>Supermarket Type1</td>\n",
       "      <td>NaN</td>\n",
       "      <td>train</td>\n",
       "    </tr>\n",
       "    <tr>\n",
       "      <th>freq</th>\n",
       "      <td>10</td>\n",
       "      <td>NaN</td>\n",
       "      <td>8485</td>\n",
       "      <td>NaN</td>\n",
       "      <td>2013</td>\n",
       "      <td>NaN</td>\n",
       "      <td>1559</td>\n",
       "      <td>NaN</td>\n",
       "      <td>4655</td>\n",
       "      <td>5583</td>\n",
       "      <td>9294</td>\n",
       "      <td>NaN</td>\n",
       "      <td>8523</td>\n",
       "    </tr>\n",
       "    <tr>\n",
       "      <th>mean</th>\n",
       "      <td>NaN</td>\n",
       "      <td>12.792854</td>\n",
       "      <td>NaN</td>\n",
       "      <td>0.065953</td>\n",
       "      <td>NaN</td>\n",
       "      <td>141.004977</td>\n",
       "      <td>NaN</td>\n",
       "      <td>1997.830681</td>\n",
       "      <td>NaN</td>\n",
       "      <td>NaN</td>\n",
       "      <td>NaN</td>\n",
       "      <td>2181.288914</td>\n",
       "      <td>NaN</td>\n",
       "    </tr>\n",
       "    <tr>\n",
       "      <th>std</th>\n",
       "      <td>NaN</td>\n",
       "      <td>4.652502</td>\n",
       "      <td>NaN</td>\n",
       "      <td>0.051459</td>\n",
       "      <td>NaN</td>\n",
       "      <td>62.086938</td>\n",
       "      <td>NaN</td>\n",
       "      <td>8.371664</td>\n",
       "      <td>NaN</td>\n",
       "      <td>NaN</td>\n",
       "      <td>NaN</td>\n",
       "      <td>1706.499616</td>\n",
       "      <td>NaN</td>\n",
       "    </tr>\n",
       "    <tr>\n",
       "      <th>min</th>\n",
       "      <td>NaN</td>\n",
       "      <td>4.555000</td>\n",
       "      <td>NaN</td>\n",
       "      <td>0.000000</td>\n",
       "      <td>NaN</td>\n",
       "      <td>31.290000</td>\n",
       "      <td>NaN</td>\n",
       "      <td>1985.000000</td>\n",
       "      <td>NaN</td>\n",
       "      <td>NaN</td>\n",
       "      <td>NaN</td>\n",
       "      <td>33.290000</td>\n",
       "      <td>NaN</td>\n",
       "    </tr>\n",
       "    <tr>\n",
       "      <th>25%</th>\n",
       "      <td>NaN</td>\n",
       "      <td>8.710000</td>\n",
       "      <td>NaN</td>\n",
       "      <td>0.027036</td>\n",
       "      <td>NaN</td>\n",
       "      <td>94.012000</td>\n",
       "      <td>NaN</td>\n",
       "      <td>1987.000000</td>\n",
       "      <td>NaN</td>\n",
       "      <td>NaN</td>\n",
       "      <td>NaN</td>\n",
       "      <td>834.247400</td>\n",
       "      <td>NaN</td>\n",
       "    </tr>\n",
       "    <tr>\n",
       "      <th>50%</th>\n",
       "      <td>NaN</td>\n",
       "      <td>12.600000</td>\n",
       "      <td>NaN</td>\n",
       "      <td>0.054021</td>\n",
       "      <td>NaN</td>\n",
       "      <td>142.247000</td>\n",
       "      <td>NaN</td>\n",
       "      <td>1999.000000</td>\n",
       "      <td>NaN</td>\n",
       "      <td>NaN</td>\n",
       "      <td>NaN</td>\n",
       "      <td>1794.331000</td>\n",
       "      <td>NaN</td>\n",
       "    </tr>\n",
       "    <tr>\n",
       "      <th>75%</th>\n",
       "      <td>NaN</td>\n",
       "      <td>16.750000</td>\n",
       "      <td>NaN</td>\n",
       "      <td>0.094037</td>\n",
       "      <td>NaN</td>\n",
       "      <td>185.855600</td>\n",
       "      <td>NaN</td>\n",
       "      <td>2004.000000</td>\n",
       "      <td>NaN</td>\n",
       "      <td>NaN</td>\n",
       "      <td>NaN</td>\n",
       "      <td>3101.296400</td>\n",
       "      <td>NaN</td>\n",
       "    </tr>\n",
       "    <tr>\n",
       "      <th>max</th>\n",
       "      <td>NaN</td>\n",
       "      <td>21.350000</td>\n",
       "      <td>NaN</td>\n",
       "      <td>0.328391</td>\n",
       "      <td>NaN</td>\n",
       "      <td>266.888400</td>\n",
       "      <td>NaN</td>\n",
       "      <td>2009.000000</td>\n",
       "      <td>NaN</td>\n",
       "      <td>NaN</td>\n",
       "      <td>NaN</td>\n",
       "      <td>13086.964800</td>\n",
       "      <td>NaN</td>\n",
       "    </tr>\n",
       "  </tbody>\n",
       "</table>\n",
       "</div>"
      ],
      "text/plain": [
       "       Item_Identifier   Item_Weight Item_Fat_Content  Item_Visibility  \\\n",
       "count            14204  11765.000000            14204     14204.000000   \n",
       "unique            1559           NaN                5              NaN   \n",
       "top              FDR12           NaN          Low Fat              NaN   \n",
       "freq                10           NaN             8485              NaN   \n",
       "mean               NaN     12.792854              NaN         0.065953   \n",
       "std                NaN      4.652502              NaN         0.051459   \n",
       "min                NaN      4.555000              NaN         0.000000   \n",
       "25%                NaN      8.710000              NaN         0.027036   \n",
       "50%                NaN     12.600000              NaN         0.054021   \n",
       "75%                NaN     16.750000              NaN         0.094037   \n",
       "max                NaN     21.350000              NaN         0.328391   \n",
       "\n",
       "                    Item_Type      Item_MRP Outlet_Identifier  \\\n",
       "count                   14204  14204.000000             14204   \n",
       "unique                     16           NaN                10   \n",
       "top     Fruits and Vegetables           NaN            OUT027   \n",
       "freq                     2013           NaN              1559   \n",
       "mean                      NaN    141.004977               NaN   \n",
       "std                       NaN     62.086938               NaN   \n",
       "min                       NaN     31.290000               NaN   \n",
       "25%                       NaN     94.012000               NaN   \n",
       "50%                       NaN    142.247000               NaN   \n",
       "75%                       NaN    185.855600               NaN   \n",
       "max                       NaN    266.888400               NaN   \n",
       "\n",
       "        Outlet_Establishment_Year Outlet_Size Outlet_Location_Type  \\\n",
       "count                14204.000000       10188                14204   \n",
       "unique                        NaN           3                    3   \n",
       "top                           NaN      Medium               Tier 3   \n",
       "freq                          NaN        4655                 5583   \n",
       "mean                  1997.830681         NaN                  NaN   \n",
       "std                      8.371664         NaN                  NaN   \n",
       "min                   1985.000000         NaN                  NaN   \n",
       "25%                   1987.000000         NaN                  NaN   \n",
       "50%                   1999.000000         NaN                  NaN   \n",
       "75%                   2004.000000         NaN                  NaN   \n",
       "max                   2009.000000         NaN                  NaN   \n",
       "\n",
       "              Outlet_Type  Item_Outlet_Sales   Type  \n",
       "count               14204        8523.000000  14204  \n",
       "unique                  4                NaN      2  \n",
       "top     Supermarket Type1                NaN  train  \n",
       "freq                 9294                NaN   8523  \n",
       "mean                  NaN        2181.288914    NaN  \n",
       "std                   NaN        1706.499616    NaN  \n",
       "min                   NaN          33.290000    NaN  \n",
       "25%                   NaN         834.247400    NaN  \n",
       "50%                   NaN        1794.331000    NaN  \n",
       "75%                   NaN        3101.296400    NaN  \n",
       "max                   NaN       13086.964800    NaN  "
      ]
     },
     "execution_count": 5,
     "metadata": {},
     "output_type": "execute_result"
    }
   ],
   "source": [
    "Sales.describe(include=\"all\")"
   ]
  },
  {
   "cell_type": "code",
   "execution_count": 6,
   "metadata": {},
   "outputs": [],
   "source": [
    "#imputing the visibility"
   ]
  },
  {
   "cell_type": "code",
   "execution_count": 7,
   "metadata": {},
   "outputs": [
    {
     "data": {
      "text/plain": [
       "count    14204.000000\n",
       "mean         0.065953\n",
       "std          0.051459\n",
       "min          0.000000\n",
       "25%          0.027036\n",
       "50%          0.054021\n",
       "75%          0.094037\n",
       "max          0.328391\n",
       "Name: Item_Visibility, dtype: float64"
      ]
     },
     "execution_count": 7,
     "metadata": {},
     "output_type": "execute_result"
    }
   ],
   "source": [
    "Sales[\"Item_Visibility\"].describe()"
   ]
  },
  {
   "cell_type": "code",
   "execution_count": 8,
   "metadata": {},
   "outputs": [
    {
     "data": {
      "text/plain": [
       "count    14204.000000\n",
       "mean         0.070458\n",
       "std          0.050086\n",
       "min          0.003575\n",
       "25%          0.031381\n",
       "50%          0.058064\n",
       "75%          0.098042\n",
       "max          0.328391\n",
       "Name: Item_Visibility, dtype: float64"
      ]
     },
     "execution_count": 8,
     "metadata": {},
     "output_type": "execute_result"
    }
   ],
   "source": [
    "UniqueItems = set(Sales.Item_Identifier)\n",
    "for each in UniqueItems:\n",
    "    Sales.loc[(Sales[\"Item_Identifier\"]==str(each)) & (Sales[\"Item_Visibility\"]==0),\"Item_Visibility\"] = Sales.loc[(Sales[\"Item_Identifier\"]==str(each)) & (Sales[\"Item_Visibility\"]!=0),\"Item_Visibility\"].mean()\n",
    "Sales[\"Item_Visibility\"].describe()"
   ]
  },
  {
   "cell_type": "code",
   "execution_count": 9,
   "metadata": {},
   "outputs": [],
   "source": [
    "### Adding new feature Quantity Sold"
   ]
  },
  {
   "cell_type": "code",
   "execution_count": 10,
   "metadata": {},
   "outputs": [
    {
     "data": {
      "text/html": [
       "<div>\n",
       "<style scoped>\n",
       "    .dataframe tbody tr th:only-of-type {\n",
       "        vertical-align: middle;\n",
       "    }\n",
       "\n",
       "    .dataframe tbody tr th {\n",
       "        vertical-align: top;\n",
       "    }\n",
       "\n",
       "    .dataframe thead th {\n",
       "        text-align: right;\n",
       "    }\n",
       "</style>\n",
       "<table border=\"1\" class=\"dataframe\">\n",
       "  <thead>\n",
       "    <tr style=\"text-align: right;\">\n",
       "      <th></th>\n",
       "      <th>Item_Identifier</th>\n",
       "      <th>Item_Weight</th>\n",
       "      <th>Item_Fat_Content</th>\n",
       "      <th>Item_Visibility</th>\n",
       "      <th>Item_Type</th>\n",
       "      <th>Item_MRP</th>\n",
       "      <th>Outlet_Identifier</th>\n",
       "      <th>Outlet_Establishment_Year</th>\n",
       "      <th>Outlet_Size</th>\n",
       "      <th>Outlet_Location_Type</th>\n",
       "      <th>Outlet_Type</th>\n",
       "      <th>Item_Outlet_Sales</th>\n",
       "      <th>Type</th>\n",
       "      <th>Qty_Sold</th>\n",
       "    </tr>\n",
       "  </thead>\n",
       "  <tbody>\n",
       "    <tr>\n",
       "      <th>0</th>\n",
       "      <td>FDA15</td>\n",
       "      <td>9.30</td>\n",
       "      <td>Low Fat</td>\n",
       "      <td>0.016047</td>\n",
       "      <td>Dairy</td>\n",
       "      <td>249.8092</td>\n",
       "      <td>OUT049</td>\n",
       "      <td>1999</td>\n",
       "      <td>Medium</td>\n",
       "      <td>Tier 1</td>\n",
       "      <td>Supermarket Type1</td>\n",
       "      <td>3735.1380</td>\n",
       "      <td>train</td>\n",
       "      <td>14.951963</td>\n",
       "    </tr>\n",
       "    <tr>\n",
       "      <th>1</th>\n",
       "      <td>DRC01</td>\n",
       "      <td>5.92</td>\n",
       "      <td>Regular</td>\n",
       "      <td>0.019278</td>\n",
       "      <td>Soft Drinks</td>\n",
       "      <td>48.2692</td>\n",
       "      <td>OUT018</td>\n",
       "      <td>2009</td>\n",
       "      <td>Medium</td>\n",
       "      <td>Tier 3</td>\n",
       "      <td>Supermarket Type2</td>\n",
       "      <td>443.4228</td>\n",
       "      <td>train</td>\n",
       "      <td>9.186454</td>\n",
       "    </tr>\n",
       "    <tr>\n",
       "      <th>2</th>\n",
       "      <td>FDN15</td>\n",
       "      <td>17.50</td>\n",
       "      <td>Low Fat</td>\n",
       "      <td>0.016760</td>\n",
       "      <td>Meat</td>\n",
       "      <td>141.6180</td>\n",
       "      <td>OUT049</td>\n",
       "      <td>1999</td>\n",
       "      <td>Medium</td>\n",
       "      <td>Tier 1</td>\n",
       "      <td>Supermarket Type1</td>\n",
       "      <td>2097.2700</td>\n",
       "      <td>train</td>\n",
       "      <td>14.809346</td>\n",
       "    </tr>\n",
       "    <tr>\n",
       "      <th>3</th>\n",
       "      <td>FDX07</td>\n",
       "      <td>19.20</td>\n",
       "      <td>Regular</td>\n",
       "      <td>0.022930</td>\n",
       "      <td>Fruits and Vegetables</td>\n",
       "      <td>182.0950</td>\n",
       "      <td>OUT010</td>\n",
       "      <td>1998</td>\n",
       "      <td>NaN</td>\n",
       "      <td>Tier 3</td>\n",
       "      <td>Grocery Store</td>\n",
       "      <td>732.3800</td>\n",
       "      <td>train</td>\n",
       "      <td>4.021967</td>\n",
       "    </tr>\n",
       "    <tr>\n",
       "      <th>4</th>\n",
       "      <td>NCD19</td>\n",
       "      <td>8.93</td>\n",
       "      <td>Low Fat</td>\n",
       "      <td>0.014670</td>\n",
       "      <td>Household</td>\n",
       "      <td>53.8614</td>\n",
       "      <td>OUT013</td>\n",
       "      <td>1987</td>\n",
       "      <td>High</td>\n",
       "      <td>Tier 3</td>\n",
       "      <td>Supermarket Type1</td>\n",
       "      <td>994.7052</td>\n",
       "      <td>train</td>\n",
       "      <td>18.467868</td>\n",
       "    </tr>\n",
       "  </tbody>\n",
       "</table>\n",
       "</div>"
      ],
      "text/plain": [
       "  Item_Identifier  Item_Weight Item_Fat_Content  Item_Visibility  \\\n",
       "0           FDA15         9.30          Low Fat         0.016047   \n",
       "1           DRC01         5.92          Regular         0.019278   \n",
       "2           FDN15        17.50          Low Fat         0.016760   \n",
       "3           FDX07        19.20          Regular         0.022930   \n",
       "4           NCD19         8.93          Low Fat         0.014670   \n",
       "\n",
       "               Item_Type  Item_MRP Outlet_Identifier  \\\n",
       "0                  Dairy  249.8092            OUT049   \n",
       "1            Soft Drinks   48.2692            OUT018   \n",
       "2                   Meat  141.6180            OUT049   \n",
       "3  Fruits and Vegetables  182.0950            OUT010   \n",
       "4              Household   53.8614            OUT013   \n",
       "\n",
       "   Outlet_Establishment_Year Outlet_Size Outlet_Location_Type  \\\n",
       "0                       1999      Medium               Tier 1   \n",
       "1                       2009      Medium               Tier 3   \n",
       "2                       1999      Medium               Tier 1   \n",
       "3                       1998         NaN               Tier 3   \n",
       "4                       1987        High               Tier 3   \n",
       "\n",
       "         Outlet_Type  Item_Outlet_Sales   Type   Qty_Sold  \n",
       "0  Supermarket Type1          3735.1380  train  14.951963  \n",
       "1  Supermarket Type2           443.4228  train   9.186454  \n",
       "2  Supermarket Type1          2097.2700  train  14.809346  \n",
       "3      Grocery Store           732.3800  train   4.021967  \n",
       "4  Supermarket Type1           994.7052  train  18.467868  "
      ]
     },
     "execution_count": 10,
     "metadata": {},
     "output_type": "execute_result"
    }
   ],
   "source": [
    "Sales[\"Qty_Sold\"] = (Sales[\"Item_Outlet_Sales\"]/Sales[\"Item_MRP\"])\n",
    "Sales.head()"
   ]
  },
  {
   "cell_type": "code",
   "execution_count": 11,
   "metadata": {},
   "outputs": [
    {
     "data": {
      "text/plain": [
       "Item_Identifier                 0\n",
       "Item_Weight                  2439\n",
       "Item_Fat_Content                0\n",
       "Item_Visibility                 0\n",
       "Item_Type                       0\n",
       "Item_MRP                        0\n",
       "Outlet_Identifier               0\n",
       "Outlet_Establishment_Year       0\n",
       "Outlet_Size                  4016\n",
       "Outlet_Location_Type            0\n",
       "Outlet_Type                     0\n",
       "Item_Outlet_Sales            5681\n",
       "Type                            0\n",
       "Qty_Sold                     5681\n",
       "dtype: int64"
      ]
     },
     "execution_count": 11,
     "metadata": {},
     "output_type": "execute_result"
    }
   ],
   "source": [
    "Sales.isnull().sum()"
   ]
  },
  {
   "cell_type": "code",
   "execution_count": 12,
   "metadata": {},
   "outputs": [],
   "source": [
    "### To impute \"Item_Weight\", we are filtering the data for each unique \"Item_Identifier\" and then assigning the mean value of that category to the one which is \"NA\""
   ]
  },
  {
   "cell_type": "code",
   "execution_count": 13,
   "metadata": {},
   "outputs": [],
   "source": [
    "for each in UniqueItems:\n",
    "    Sales.loc[(Sales[\"Item_Identifier\"]==str(each)) & (Sales[\"Item_Weight\"].isnull()),\"Item_Weight\"] = Sales.loc[Sales[\"Item_Identifier\"]==str(each),\"Item_Weight\"].mode()[0]"
   ]
  },
  {
   "cell_type": "code",
   "execution_count": 14,
   "metadata": {},
   "outputs": [],
   "source": [
    "### cheking the imputation"
   ]
  },
  {
   "cell_type": "code",
   "execution_count": 15,
   "metadata": {},
   "outputs": [
    {
     "data": {
      "text/plain": [
       "0"
      ]
     },
     "execution_count": 15,
     "metadata": {},
     "output_type": "execute_result"
    }
   ],
   "source": [
    "Sales.Item_Weight.isnull().sum()"
   ]
  },
  {
   "cell_type": "code",
   "execution_count": 16,
   "metadata": {},
   "outputs": [],
   "source": [
    "### Changing the Year Establishment year to Age"
   ]
  },
  {
   "cell_type": "code",
   "execution_count": 17,
   "metadata": {},
   "outputs": [
    {
     "data": {
      "text/plain": [
       "0    22\n",
       "1    12\n",
       "2    22\n",
       "3    23\n",
       "4    34\n",
       "Name: Outlet_Age, dtype: int64"
      ]
     },
     "execution_count": 17,
     "metadata": {},
     "output_type": "execute_result"
    }
   ],
   "source": [
    "import datetime\n",
    "now = datetime.datetime.now()\n",
    "now.year\n",
    "\n",
    "Sales[\"Outlet_Age\"] = now.year - Sales[\"Outlet_Establishment_Year\"]\n",
    "Sales[\"Outlet_Age\"].head()"
   ]
  },
  {
   "cell_type": "code",
   "execution_count": 18,
   "metadata": {},
   "outputs": [],
   "source": [
    "# checking the relationship with the relationship comparison with heat map"
   ]
  },
  {
   "cell_type": "code",
   "execution_count": 19,
   "metadata": {},
   "outputs": [
    {
     "data": {
      "text/plain": [
       "<AxesSubplot:>"
      ]
     },
     "execution_count": 19,
     "metadata": {},
     "output_type": "execute_result"
    },
    {
     "data": {
      "image/png": "[encoded data removed]",
      "text/plain": [
       "<Figure size 720x504 with 2 Axes>"
      ]
     },
     "metadata": {
      "needs_background": "light"
     },
     "output_type": "display_data"
    }
   ],
   "source": [
    "plt.figure(figsize=(10,7))\n",
    "sns.heatmap(Sales.corr())"
   ]
  },
  {
   "cell_type": "code",
   "execution_count": 20,
   "metadata": {},
   "outputs": [
    {
     "data": {
      "text/plain": [
       "Index(['Item_Identifier', 'Item_Fat_Content', 'Item_Type', 'Outlet_Identifier',\n",
       "       'Outlet_Size', 'Outlet_Location_Type', 'Outlet_Type', 'Type'],\n",
       "      dtype='object')"
      ]
     },
     "execution_count": 20,
     "metadata": {},
     "output_type": "execute_result"
    }
   ],
   "source": [
    "Sales.describe(include=[\"object\"]).columns"
   ]
  },
  {
   "cell_type": "code",
   "execution_count": 21,
   "metadata": {},
   "outputs": [
    {
     "data": {
      "text/plain": [
       "Medium    4655\n",
       "Small     3980\n",
       "High      1553\n",
       "Name: Outlet_Size, dtype: int64"
      ]
     },
     "execution_count": 21,
     "metadata": {},
     "output_type": "execute_result"
    }
   ],
   "source": [
    "Sales.Outlet_Size.value_counts()"
   ]
  },
  {
   "cell_type": "code",
   "execution_count": 22,
   "metadata": {
    "scrolled": true
   },
   "outputs": [
    {
     "data": {
      "text/plain": [
       "OUT045    1548\n",
       "OUT017    1543\n",
       "OUT010     925\n",
       "Name: Outlet_Identifier, dtype: int64"
      ]
     },
     "execution_count": 22,
     "metadata": {},
     "output_type": "execute_result"
    }
   ],
   "source": [
    "Sales.loc[Sales[\"Outlet_Size\"].isnull(),\"Outlet_Identifier\"].value_counts()"
   ]
  },
  {
   "cell_type": "code",
   "execution_count": 23,
   "metadata": {},
   "outputs": [],
   "source": [
    "# Looking for pattern for the missing Outlet_size"
   ]
  },
  {
   "cell_type": "code",
   "execution_count": 24,
   "metadata": {},
   "outputs": [
    {
     "data": {
      "text/html": [
       "<div>\n",
       "<style scoped>\n",
       "    .dataframe tbody tr th:only-of-type {\n",
       "        vertical-align: middle;\n",
       "    }\n",
       "\n",
       "    .dataframe tbody tr th {\n",
       "        vertical-align: top;\n",
       "    }\n",
       "\n",
       "    .dataframe thead th {\n",
       "        text-align: right;\n",
       "    }\n",
       "</style>\n",
       "<table border=\"1\" class=\"dataframe\">\n",
       "  <thead>\n",
       "    <tr style=\"text-align: right;\">\n",
       "      <th></th>\n",
       "      <th>Item_Identifier</th>\n",
       "      <th>Item_Fat_Content</th>\n",
       "      <th>Item_Type</th>\n",
       "      <th>Outlet_Identifier</th>\n",
       "      <th>Outlet_Size</th>\n",
       "      <th>Outlet_Location_Type</th>\n",
       "      <th>Outlet_Type</th>\n",
       "      <th>Type</th>\n",
       "    </tr>\n",
       "  </thead>\n",
       "  <tbody>\n",
       "    <tr>\n",
       "      <th>count</th>\n",
       "      <td>1548</td>\n",
       "      <td>1548</td>\n",
       "      <td>1548</td>\n",
       "      <td>1548</td>\n",
       "      <td>0</td>\n",
       "      <td>1548</td>\n",
       "      <td>1548</td>\n",
       "      <td>1548</td>\n",
       "    </tr>\n",
       "    <tr>\n",
       "      <th>unique</th>\n",
       "      <td>1548</td>\n",
       "      <td>5</td>\n",
       "      <td>16</td>\n",
       "      <td>1</td>\n",
       "      <td>0</td>\n",
       "      <td>1</td>\n",
       "      <td>1</td>\n",
       "      <td>2</td>\n",
       "    </tr>\n",
       "    <tr>\n",
       "      <th>top</th>\n",
       "      <td>FDS01</td>\n",
       "      <td>Low Fat</td>\n",
       "      <td>Snack Foods</td>\n",
       "      <td>OUT045</td>\n",
       "      <td>NaN</td>\n",
       "      <td>Tier 2</td>\n",
       "      <td>Supermarket Type1</td>\n",
       "      <td>train</td>\n",
       "    </tr>\n",
       "    <tr>\n",
       "      <th>freq</th>\n",
       "      <td>1</td>\n",
       "      <td>932</td>\n",
       "      <td>218</td>\n",
       "      <td>1548</td>\n",
       "      <td>NaN</td>\n",
       "      <td>1548</td>\n",
       "      <td>1548</td>\n",
       "      <td>929</td>\n",
       "    </tr>\n",
       "  </tbody>\n",
       "</table>\n",
       "</div>"
      ],
      "text/plain": [
       "       Item_Identifier Item_Fat_Content    Item_Type Outlet_Identifier  \\\n",
       "count             1548             1548         1548              1548   \n",
       "unique            1548                5           16                 1   \n",
       "top              FDS01          Low Fat  Snack Foods            OUT045   \n",
       "freq                 1              932          218              1548   \n",
       "\n",
       "       Outlet_Size Outlet_Location_Type        Outlet_Type   Type  \n",
       "count            0                 1548               1548   1548  \n",
       "unique           0                    1                  1      2  \n",
       "top            NaN               Tier 2  Supermarket Type1  train  \n",
       "freq           NaN                 1548               1548    929  "
      ]
     },
     "execution_count": 24,
     "metadata": {},
     "output_type": "execute_result"
    }
   ],
   "source": [
    "Sales.loc[(Sales[\"Outlet_Size\"].isnull()) & (Sales[\"Outlet_Identifier\"] == \"OUT045\") ,].describe(include = [object])"
   ]
  },
  {
   "cell_type": "code",
   "execution_count": 25,
   "metadata": {},
   "outputs": [
    {
     "data": {
      "text/html": [
       "<div>\n",
       "<style scoped>\n",
       "    .dataframe tbody tr th:only-of-type {\n",
       "        vertical-align: middle;\n",
       "    }\n",
       "\n",
       "    .dataframe tbody tr th {\n",
       "        vertical-align: top;\n",
       "    }\n",
       "\n",
       "    .dataframe thead th {\n",
       "        text-align: right;\n",
       "    }\n",
       "</style>\n",
       "<table border=\"1\" class=\"dataframe\">\n",
       "  <thead>\n",
       "    <tr style=\"text-align: right;\">\n",
       "      <th></th>\n",
       "      <th>Item_Identifier</th>\n",
       "      <th>Item_Fat_Content</th>\n",
       "      <th>Item_Type</th>\n",
       "      <th>Outlet_Identifier</th>\n",
       "      <th>Outlet_Size</th>\n",
       "      <th>Outlet_Location_Type</th>\n",
       "      <th>Outlet_Type</th>\n",
       "      <th>Type</th>\n",
       "    </tr>\n",
       "  </thead>\n",
       "  <tbody>\n",
       "    <tr>\n",
       "      <th>count</th>\n",
       "      <td>1543</td>\n",
       "      <td>1543</td>\n",
       "      <td>1543</td>\n",
       "      <td>1543</td>\n",
       "      <td>0</td>\n",
       "      <td>1543</td>\n",
       "      <td>1543</td>\n",
       "      <td>1543</td>\n",
       "    </tr>\n",
       "    <tr>\n",
       "      <th>unique</th>\n",
       "      <td>1543</td>\n",
       "      <td>5</td>\n",
       "      <td>16</td>\n",
       "      <td>1</td>\n",
       "      <td>0</td>\n",
       "      <td>1</td>\n",
       "      <td>1</td>\n",
       "      <td>2</td>\n",
       "    </tr>\n",
       "    <tr>\n",
       "      <th>top</th>\n",
       "      <td>FDS01</td>\n",
       "      <td>Low Fat</td>\n",
       "      <td>Snack Foods</td>\n",
       "      <td>OUT017</td>\n",
       "      <td>NaN</td>\n",
       "      <td>Tier 2</td>\n",
       "      <td>Supermarket Type1</td>\n",
       "      <td>train</td>\n",
       "    </tr>\n",
       "    <tr>\n",
       "      <th>freq</th>\n",
       "      <td>1</td>\n",
       "      <td>928</td>\n",
       "      <td>219</td>\n",
       "      <td>1543</td>\n",
       "      <td>NaN</td>\n",
       "      <td>1543</td>\n",
       "      <td>1543</td>\n",
       "      <td>926</td>\n",
       "    </tr>\n",
       "  </tbody>\n",
       "</table>\n",
       "</div>"
      ],
      "text/plain": [
       "       Item_Identifier Item_Fat_Content    Item_Type Outlet_Identifier  \\\n",
       "count             1543             1543         1543              1543   \n",
       "unique            1543                5           16                 1   \n",
       "top              FDS01          Low Fat  Snack Foods            OUT017   \n",
       "freq                 1              928          219              1543   \n",
       "\n",
       "       Outlet_Size Outlet_Location_Type        Outlet_Type   Type  \n",
       "count            0                 1543               1543   1543  \n",
       "unique           0                    1                  1      2  \n",
       "top            NaN               Tier 2  Supermarket Type1  train  \n",
       "freq           NaN                 1543               1543    926  "
      ]
     },
     "execution_count": 25,
     "metadata": {},
     "output_type": "execute_result"
    }
   ],
   "source": [
    "Sales.loc[(Sales[\"Outlet_Size\"].isnull()) & (Sales[\"Outlet_Identifier\"] == \"OUT017\") ,].describe(include = [object])"
   ]
  },
  {
   "cell_type": "code",
   "execution_count": 26,
   "metadata": {},
   "outputs": [
    {
     "data": {
      "text/html": [
       "<div>\n",
       "<style scoped>\n",
       "    .dataframe tbody tr th:only-of-type {\n",
       "        vertical-align: middle;\n",
       "    }\n",
       "\n",
       "    .dataframe tbody tr th {\n",
       "        vertical-align: top;\n",
       "    }\n",
       "\n",
       "    .dataframe thead th {\n",
       "        text-align: right;\n",
       "    }\n",
       "</style>\n",
       "<table border=\"1\" class=\"dataframe\">\n",
       "  <thead>\n",
       "    <tr style=\"text-align: right;\">\n",
       "      <th></th>\n",
       "      <th>Item_Identifier</th>\n",
       "      <th>Item_Fat_Content</th>\n",
       "      <th>Item_Type</th>\n",
       "      <th>Outlet_Identifier</th>\n",
       "      <th>Outlet_Size</th>\n",
       "      <th>Outlet_Location_Type</th>\n",
       "      <th>Outlet_Type</th>\n",
       "      <th>Type</th>\n",
       "    </tr>\n",
       "  </thead>\n",
       "  <tbody>\n",
       "    <tr>\n",
       "      <th>count</th>\n",
       "      <td>925</td>\n",
       "      <td>925</td>\n",
       "      <td>925</td>\n",
       "      <td>925</td>\n",
       "      <td>0</td>\n",
       "      <td>925</td>\n",
       "      <td>925</td>\n",
       "      <td>925</td>\n",
       "    </tr>\n",
       "    <tr>\n",
       "      <th>unique</th>\n",
       "      <td>925</td>\n",
       "      <td>5</td>\n",
       "      <td>16</td>\n",
       "      <td>1</td>\n",
       "      <td>0</td>\n",
       "      <td>1</td>\n",
       "      <td>1</td>\n",
       "      <td>2</td>\n",
       "    </tr>\n",
       "    <tr>\n",
       "      <th>top</th>\n",
       "      <td>FDS01</td>\n",
       "      <td>Low Fat</td>\n",
       "      <td>Fruits and Vegetables</td>\n",
       "      <td>OUT010</td>\n",
       "      <td>NaN</td>\n",
       "      <td>Tier 3</td>\n",
       "      <td>Grocery Store</td>\n",
       "      <td>train</td>\n",
       "    </tr>\n",
       "    <tr>\n",
       "      <th>freq</th>\n",
       "      <td>1</td>\n",
       "      <td>543</td>\n",
       "      <td>137</td>\n",
       "      <td>925</td>\n",
       "      <td>NaN</td>\n",
       "      <td>925</td>\n",
       "      <td>925</td>\n",
       "      <td>555</td>\n",
       "    </tr>\n",
       "  </tbody>\n",
       "</table>\n",
       "</div>"
      ],
      "text/plain": [
       "       Item_Identifier Item_Fat_Content              Item_Type  \\\n",
       "count              925              925                    925   \n",
       "unique             925                5                     16   \n",
       "top              FDS01          Low Fat  Fruits and Vegetables   \n",
       "freq                 1              543                    137   \n",
       "\n",
       "       Outlet_Identifier Outlet_Size Outlet_Location_Type    Outlet_Type  \\\n",
       "count                925           0                  925            925   \n",
       "unique                 1           0                    1              1   \n",
       "top               OUT010         NaN               Tier 3  Grocery Store   \n",
       "freq                 925         NaN                  925            925   \n",
       "\n",
       "         Type  \n",
       "count     925  \n",
       "unique      2  \n",
       "top     train  \n",
       "freq      555  "
      ]
     },
     "execution_count": 26,
     "metadata": {},
     "output_type": "execute_result"
    }
   ],
   "source": [
    "Sales.loc[(Sales[\"Outlet_Size\"].isnull()) & (Sales[\"Outlet_Identifier\"] == \"OUT010\") ,].describe(include = [object])"
   ]
  },
  {
   "cell_type": "code",
   "execution_count": 27,
   "metadata": {},
   "outputs": [],
   "source": [
    "### As for OUT045 and OUT017; Outlet_Location_Type\tand Outlet_Type are same i.e. Tier 2 and Supermarket Type1, hence we can impute the data as per this"
   ]
  },
  {
   "cell_type": "code",
   "execution_count": 28,
   "metadata": {},
   "outputs": [
    {
     "data": {
      "text/plain": [
       "Small    1550\n",
       "Name: Outlet_Size, dtype: int64"
      ]
     },
     "execution_count": 28,
     "metadata": {},
     "output_type": "execute_result"
    }
   ],
   "source": [
    "Sales.loc[(Sales[\"Outlet_Location_Type\"]== \"Tier 2\") & (Sales[\"Outlet_Type\"]==\"Supermarket Type1\") ,\"Outlet_Size\"].value_counts()"
   ]
  },
  {
   "cell_type": "code",
   "execution_count": 29,
   "metadata": {},
   "outputs": [
    {
     "data": {
      "text/plain": [
       "Small    3091\n",
       "Name: Outlet_Size, dtype: int64"
      ]
     },
     "execution_count": 29,
     "metadata": {},
     "output_type": "execute_result"
    }
   ],
   "source": [
    "Sales.loc[(Sales[\"Outlet_Size\"].isnull()) & (Sales[\"Outlet_Identifier\"].isin([\"OUT045\",\"OUT017\"])) ,\"Outlet_Size\"] = \"Small\"\n",
    "Sales.loc[ (Sales[\"Outlet_Identifier\"].isin([\"OUT045\",\"OUT017\"])) ,\"Outlet_Size\"].value_counts()"
   ]
  },
  {
   "cell_type": "code",
   "execution_count": 30,
   "metadata": {},
   "outputs": [],
   "source": [
    "#for \"OUT010\""
   ]
  },
  {
   "cell_type": "code",
   "execution_count": 31,
   "metadata": {},
   "outputs": [
    {
     "data": {
      "text/plain": [
       "Series([], Name: Outlet_Size, dtype: int64)"
      ]
     },
     "execution_count": 31,
     "metadata": {},
     "output_type": "execute_result"
    }
   ],
   "source": [
    "Sales.loc[(Sales[\"Outlet_Location_Type\"]== \"Tier 3\") & (Sales[\"Outlet_Type\"]==\"Grocery Store\") ,\"Outlet_Size\"].value_counts()"
   ]
  },
  {
   "cell_type": "code",
   "execution_count": 32,
   "metadata": {},
   "outputs": [
    {
     "data": {
      "text/plain": [
       "Small    880\n",
       "Name: Outlet_Size, dtype: int64"
      ]
     },
     "execution_count": 32,
     "metadata": {},
     "output_type": "execute_result"
    }
   ],
   "source": [
    "Sales.loc[(Sales[\"Outlet_Type\"]==\"Grocery Store\") ,\"Outlet_Size\"].value_counts()"
   ]
  },
  {
   "cell_type": "code",
   "execution_count": 33,
   "metadata": {},
   "outputs": [
    {
     "data": {
      "text/plain": [
       "Medium    3105\n",
       "High      1553\n",
       "Name: Outlet_Size, dtype: int64"
      ]
     },
     "execution_count": 33,
     "metadata": {},
     "output_type": "execute_result"
    }
   ],
   "source": [
    "Sales.loc[(Sales[\"Outlet_Location_Type\"]== \"Tier 3\") ,\"Outlet_Size\"].value_counts()"
   ]
  },
  {
   "cell_type": "code",
   "execution_count": 34,
   "metadata": {},
   "outputs": [
    {
     "data": {
      "text/plain": [
       "(925, 15)"
      ]
     },
     "execution_count": 34,
     "metadata": {},
     "output_type": "execute_result"
    }
   ],
   "source": [
    "Sales.loc[Sales[\"Outlet_Size\"].isnull(),].shape"
   ]
  },
  {
   "cell_type": "code",
   "execution_count": 35,
   "metadata": {},
   "outputs": [
    {
     "data": {
      "text/plain": [
       "Fruits and Vegetables    2013\n",
       "Snack Foods              1989\n",
       "Household                1548\n",
       "Frozen Foods             1426\n",
       "Dairy                    1136\n",
       "Baking Goods             1086\n",
       "Canned                   1084\n",
       "Health and Hygiene        858\n",
       "Meat                      736\n",
       "Soft Drinks               726\n",
       "Breads                    416\n",
       "Hard Drinks               362\n",
       "Others                    280\n",
       "Starchy Foods             269\n",
       "Breakfast                 186\n",
       "Seafood                    89\n",
       "Name: Item_Type, dtype: int64"
      ]
     },
     "execution_count": 35,
     "metadata": {},
     "output_type": "execute_result"
    }
   ],
   "source": [
    "Sales['Item_Type'].value_counts()"
   ]
  },
  {
   "cell_type": "code",
   "execution_count": 36,
   "metadata": {},
   "outputs": [],
   "source": [
    "### To impute \"Outlet_Size for OUT010\", we will build a classifier"
   ]
  },
  {
   "cell_type": "code",
   "execution_count": 37,
   "metadata": {},
   "outputs": [],
   "source": [
    "### Changing the categorical data to numerical"
   ]
  },
  {
   "cell_type": "code",
   "execution_count": 38,
   "metadata": {},
   "outputs": [],
   "source": [
    "## imputing ordinal data"
   ]
  },
  {
   "cell_type": "code",
   "execution_count": 39,
   "metadata": {},
   "outputs": [],
   "source": [
    "mapping_Item_Type = {'Fruits and Vegetables': \"Fruit_Veg\",\n",
    "                    'Household':\"HH_HH\", 'Health and Hygiene':\"HH_HH\",\n",
    "                    'Baking Goods': \"Bake_Snacks\", 'Snack Foods': \"Bake_Snacks\",\n",
    "                    'Canned': \"Frozen_Canned\", 'Frozen Foods': \"Frozen_Canned\",\n",
    "                    'Dairy': \"DBBS\", 'Breakfast': \"DBBS\", 'Breads': \"DBBS\", 'Starchy Foods': \"DBBS\",\n",
    "                    'Seafood':\"Seafood_Meat\", 'Meat': \"Seafood_Meat\",\n",
    "                    'Hard Drinks': \"Drinks\", 'Soft Drinks': \"Drinks\",\n",
    "                    'Others':\"Others\"}\n",
    "Sales['Item_Type'] = Sales['Item_Type'].map(mapping_Item_Type)\n",
    "\n",
    "mapping_Item_Fat_Content = {'Regular': 1, \"reg\": 1,'LF': 0,'Low Fat': 0, \"low fat\":0}\n",
    "Sales['Item_Fat_Content'] = Sales['Item_Fat_Content'].map(mapping_Item_Fat_Content)\n",
    "\n",
    "mapping_Outlet_Size = {'Small': 1, \"Medium\": 2,'High': 3}\n",
    "Sales['Outlet_Size'] = Sales['Outlet_Size'].map(mapping_Outlet_Size)"
   ]
  },
  {
   "cell_type": "code",
   "execution_count": 40,
   "metadata": {},
   "outputs": [
    {
     "data": {
      "text/html": [
       "<div>\n",
       "<style scoped>\n",
       "    .dataframe tbody tr th:only-of-type {\n",
       "        vertical-align: middle;\n",
       "    }\n",
       "\n",
       "    .dataframe tbody tr th {\n",
       "        vertical-align: top;\n",
       "    }\n",
       "\n",
       "    .dataframe thead th {\n",
       "        text-align: right;\n",
       "    }\n",
       "</style>\n",
       "<table border=\"1\" class=\"dataframe\">\n",
       "  <thead>\n",
       "    <tr style=\"text-align: right;\">\n",
       "      <th></th>\n",
       "      <th>Item_Identifier</th>\n",
       "      <th>Item_Weight</th>\n",
       "      <th>Item_Fat_Content</th>\n",
       "      <th>Item_Visibility</th>\n",
       "      <th>Item_Type</th>\n",
       "      <th>Item_MRP</th>\n",
       "      <th>Outlet_Identifier</th>\n",
       "      <th>Outlet_Establishment_Year</th>\n",
       "      <th>Outlet_Size</th>\n",
       "      <th>Outlet_Location_Type</th>\n",
       "      <th>Outlet_Type</th>\n",
       "      <th>Item_Outlet_Sales</th>\n",
       "      <th>Type</th>\n",
       "      <th>Qty_Sold</th>\n",
       "      <th>Outlet_Age</th>\n",
       "    </tr>\n",
       "  </thead>\n",
       "  <tbody>\n",
       "    <tr>\n",
       "      <th>0</th>\n",
       "      <td>FDA15</td>\n",
       "      <td>9.30</td>\n",
       "      <td>0</td>\n",
       "      <td>0.016047</td>\n",
       "      <td>DBBS</td>\n",
       "      <td>249.8092</td>\n",
       "      <td>OUT049</td>\n",
       "      <td>1999</td>\n",
       "      <td>2.0</td>\n",
       "      <td>Tier 1</td>\n",
       "      <td>Supermarket Type1</td>\n",
       "      <td>3735.1380</td>\n",
       "      <td>train</td>\n",
       "      <td>14.951963</td>\n",
       "      <td>22</td>\n",
       "    </tr>\n",
       "    <tr>\n",
       "      <th>1</th>\n",
       "      <td>DRC01</td>\n",
       "      <td>5.92</td>\n",
       "      <td>1</td>\n",
       "      <td>0.019278</td>\n",
       "      <td>Drinks</td>\n",
       "      <td>48.2692</td>\n",
       "      <td>OUT018</td>\n",
       "      <td>2009</td>\n",
       "      <td>2.0</td>\n",
       "      <td>Tier 3</td>\n",
       "      <td>Supermarket Type2</td>\n",
       "      <td>443.4228</td>\n",
       "      <td>train</td>\n",
       "      <td>9.186454</td>\n",
       "      <td>12</td>\n",
       "    </tr>\n",
       "    <tr>\n",
       "      <th>2</th>\n",
       "      <td>FDN15</td>\n",
       "      <td>17.50</td>\n",
       "      <td>0</td>\n",
       "      <td>0.016760</td>\n",
       "      <td>Seafood_Meat</td>\n",
       "      <td>141.6180</td>\n",
       "      <td>OUT049</td>\n",
       "      <td>1999</td>\n",
       "      <td>2.0</td>\n",
       "      <td>Tier 1</td>\n",
       "      <td>Supermarket Type1</td>\n",
       "      <td>2097.2700</td>\n",
       "      <td>train</td>\n",
       "      <td>14.809346</td>\n",
       "      <td>22</td>\n",
       "    </tr>\n",
       "    <tr>\n",
       "      <th>3</th>\n",
       "      <td>FDX07</td>\n",
       "      <td>19.20</td>\n",
       "      <td>1</td>\n",
       "      <td>0.022930</td>\n",
       "      <td>Fruit_Veg</td>\n",
       "      <td>182.0950</td>\n",
       "      <td>OUT010</td>\n",
       "      <td>1998</td>\n",
       "      <td>NaN</td>\n",
       "      <td>Tier 3</td>\n",
       "      <td>Grocery Store</td>\n",
       "      <td>732.3800</td>\n",
       "      <td>train</td>\n",
       "      <td>4.021967</td>\n",
       "      <td>23</td>\n",
       "    </tr>\n",
       "    <tr>\n",
       "      <th>4</th>\n",
       "      <td>NCD19</td>\n",
       "      <td>8.93</td>\n",
       "      <td>0</td>\n",
       "      <td>0.014670</td>\n",
       "      <td>HH_HH</td>\n",
       "      <td>53.8614</td>\n",
       "      <td>OUT013</td>\n",
       "      <td>1987</td>\n",
       "      <td>3.0</td>\n",
       "      <td>Tier 3</td>\n",
       "      <td>Supermarket Type1</td>\n",
       "      <td>994.7052</td>\n",
       "      <td>train</td>\n",
       "      <td>18.467868</td>\n",
       "      <td>34</td>\n",
       "    </tr>\n",
       "  </tbody>\n",
       "</table>\n",
       "</div>"
      ],
      "text/plain": [
       "  Item_Identifier  Item_Weight  Item_Fat_Content  Item_Visibility  \\\n",
       "0           FDA15         9.30                 0         0.016047   \n",
       "1           DRC01         5.92                 1         0.019278   \n",
       "2           FDN15        17.50                 0         0.016760   \n",
       "3           FDX07        19.20                 1         0.022930   \n",
       "4           NCD19         8.93                 0         0.014670   \n",
       "\n",
       "      Item_Type  Item_MRP Outlet_Identifier  Outlet_Establishment_Year  \\\n",
       "0          DBBS  249.8092            OUT049                       1999   \n",
       "1        Drinks   48.2692            OUT018                       2009   \n",
       "2  Seafood_Meat  141.6180            OUT049                       1999   \n",
       "3     Fruit_Veg  182.0950            OUT010                       1998   \n",
       "4         HH_HH   53.8614            OUT013                       1987   \n",
       "\n",
       "   Outlet_Size Outlet_Location_Type        Outlet_Type  Item_Outlet_Sales  \\\n",
       "0          2.0               Tier 1  Supermarket Type1          3735.1380   \n",
       "1          2.0               Tier 3  Supermarket Type2           443.4228   \n",
       "2          2.0               Tier 1  Supermarket Type1          2097.2700   \n",
       "3          NaN               Tier 3      Grocery Store           732.3800   \n",
       "4          3.0               Tier 3  Supermarket Type1           994.7052   \n",
       "\n",
       "    Type   Qty_Sold  Outlet_Age  \n",
       "0  train  14.951963          22  \n",
       "1  train   9.186454          12  \n",
       "2  train  14.809346          22  \n",
       "3  train   4.021967          23  \n",
       "4  train  18.467868          34  "
      ]
     },
     "execution_count": 40,
     "metadata": {},
     "output_type": "execute_result"
    }
   ],
   "source": [
    "Sales.head()"
   ]
  },
  {
   "cell_type": "code",
   "execution_count": 41,
   "metadata": {},
   "outputs": [],
   "source": [
    "## imputing nominal data"
   ]
  },
  {
   "cell_type": "code",
   "execution_count": 42,
   "metadata": {},
   "outputs": [],
   "source": [
    "Sales = pd.get_dummies(Sales,columns=[\"Item_Type\",\"Outlet_Identifier\",\"Outlet_Location_Type\",\"Outlet_Type\"],drop_first=True)"
   ]
  },
  {
   "cell_type": "code",
   "execution_count": 43,
   "metadata": {
    "scrolled": true
   },
   "outputs": [
    {
     "data": {
      "text/html": [
       "<div>\n",
       "<style scoped>\n",
       "    .dataframe tbody tr th:only-of-type {\n",
       "        vertical-align: middle;\n",
       "    }\n",
       "\n",
       "    .dataframe tbody tr th {\n",
       "        vertical-align: top;\n",
       "    }\n",
       "\n",
       "    .dataframe thead th {\n",
       "        text-align: right;\n",
       "    }\n",
       "</style>\n",
       "<table border=\"1\" class=\"dataframe\">\n",
       "  <thead>\n",
       "    <tr style=\"text-align: right;\">\n",
       "      <th></th>\n",
       "      <th>Item_Identifier</th>\n",
       "      <th>Item_Weight</th>\n",
       "      <th>Item_Fat_Content</th>\n",
       "      <th>Item_Visibility</th>\n",
       "      <th>Item_MRP</th>\n",
       "      <th>Outlet_Establishment_Year</th>\n",
       "      <th>Outlet_Size</th>\n",
       "      <th>Item_Outlet_Sales</th>\n",
       "      <th>Type</th>\n",
       "      <th>Qty_Sold</th>\n",
       "      <th>...</th>\n",
       "      <th>Outlet_Identifier_OUT027</th>\n",
       "      <th>Outlet_Identifier_OUT035</th>\n",
       "      <th>Outlet_Identifier_OUT045</th>\n",
       "      <th>Outlet_Identifier_OUT046</th>\n",
       "      <th>Outlet_Identifier_OUT049</th>\n",
       "      <th>Outlet_Location_Type_Tier 2</th>\n",
       "      <th>Outlet_Location_Type_Tier 3</th>\n",
       "      <th>Outlet_Type_Supermarket Type1</th>\n",
       "      <th>Outlet_Type_Supermarket Type2</th>\n",
       "      <th>Outlet_Type_Supermarket Type3</th>\n",
       "    </tr>\n",
       "  </thead>\n",
       "  <tbody>\n",
       "    <tr>\n",
       "      <th>0</th>\n",
       "      <td>FDA15</td>\n",
       "      <td>9.30</td>\n",
       "      <td>0</td>\n",
       "      <td>0.016047</td>\n",
       "      <td>249.8092</td>\n",
       "      <td>1999</td>\n",
       "      <td>2.0</td>\n",
       "      <td>3735.1380</td>\n",
       "      <td>train</td>\n",
       "      <td>14.951963</td>\n",
       "      <td>...</td>\n",
       "      <td>0</td>\n",
       "      <td>0</td>\n",
       "      <td>0</td>\n",
       "      <td>0</td>\n",
       "      <td>1</td>\n",
       "      <td>0</td>\n",
       "      <td>0</td>\n",
       "      <td>1</td>\n",
       "      <td>0</td>\n",
       "      <td>0</td>\n",
       "    </tr>\n",
       "    <tr>\n",
       "      <th>1</th>\n",
       "      <td>DRC01</td>\n",
       "      <td>5.92</td>\n",
       "      <td>1</td>\n",
       "      <td>0.019278</td>\n",
       "      <td>48.2692</td>\n",
       "      <td>2009</td>\n",
       "      <td>2.0</td>\n",
       "      <td>443.4228</td>\n",
       "      <td>train</td>\n",
       "      <td>9.186454</td>\n",
       "      <td>...</td>\n",
       "      <td>0</td>\n",
       "      <td>0</td>\n",
       "      <td>0</td>\n",
       "      <td>0</td>\n",
       "      <td>0</td>\n",
       "      <td>0</td>\n",
       "      <td>1</td>\n",
       "      <td>0</td>\n",
       "      <td>1</td>\n",
       "      <td>0</td>\n",
       "    </tr>\n",
       "    <tr>\n",
       "      <th>2</th>\n",
       "      <td>FDN15</td>\n",
       "      <td>17.50</td>\n",
       "      <td>0</td>\n",
       "      <td>0.016760</td>\n",
       "      <td>141.6180</td>\n",
       "      <td>1999</td>\n",
       "      <td>2.0</td>\n",
       "      <td>2097.2700</td>\n",
       "      <td>train</td>\n",
       "      <td>14.809346</td>\n",
       "      <td>...</td>\n",
       "      <td>0</td>\n",
       "      <td>0</td>\n",
       "      <td>0</td>\n",
       "      <td>0</td>\n",
       "      <td>1</td>\n",
       "      <td>0</td>\n",
       "      <td>0</td>\n",
       "      <td>1</td>\n",
       "      <td>0</td>\n",
       "      <td>0</td>\n",
       "    </tr>\n",
       "    <tr>\n",
       "      <th>3</th>\n",
       "      <td>FDX07</td>\n",
       "      <td>19.20</td>\n",
       "      <td>1</td>\n",
       "      <td>0.022930</td>\n",
       "      <td>182.0950</td>\n",
       "      <td>1998</td>\n",
       "      <td>NaN</td>\n",
       "      <td>732.3800</td>\n",
       "      <td>train</td>\n",
       "      <td>4.021967</td>\n",
       "      <td>...</td>\n",
       "      <td>0</td>\n",
       "      <td>0</td>\n",
       "      <td>0</td>\n",
       "      <td>0</td>\n",
       "      <td>0</td>\n",
       "      <td>0</td>\n",
       "      <td>1</td>\n",
       "      <td>0</td>\n",
       "      <td>0</td>\n",
       "      <td>0</td>\n",
       "    </tr>\n",
       "    <tr>\n",
       "      <th>4</th>\n",
       "      <td>NCD19</td>\n",
       "      <td>8.93</td>\n",
       "      <td>0</td>\n",
       "      <td>0.014670</td>\n",
       "      <td>53.8614</td>\n",
       "      <td>1987</td>\n",
       "      <td>3.0</td>\n",
       "      <td>994.7052</td>\n",
       "      <td>train</td>\n",
       "      <td>18.467868</td>\n",
       "      <td>...</td>\n",
       "      <td>0</td>\n",
       "      <td>0</td>\n",
       "      <td>0</td>\n",
       "      <td>0</td>\n",
       "      <td>0</td>\n",
       "      <td>0</td>\n",
       "      <td>1</td>\n",
       "      <td>1</td>\n",
       "      <td>0</td>\n",
       "      <td>0</td>\n",
       "    </tr>\n",
       "  </tbody>\n",
       "</table>\n",
       "<p>5 rows × 32 columns</p>\n",
       "</div>"
      ],
      "text/plain": [
       "  Item_Identifier  Item_Weight  Item_Fat_Content  Item_Visibility  Item_MRP  \\\n",
       "0           FDA15         9.30                 0         0.016047  249.8092   \n",
       "1           DRC01         5.92                 1         0.019278   48.2692   \n",
       "2           FDN15        17.50                 0         0.016760  141.6180   \n",
       "3           FDX07        19.20                 1         0.022930  182.0950   \n",
       "4           NCD19         8.93                 0         0.014670   53.8614   \n",
       "\n",
       "   Outlet_Establishment_Year  Outlet_Size  Item_Outlet_Sales   Type  \\\n",
       "0                       1999          2.0          3735.1380  train   \n",
       "1                       2009          2.0           443.4228  train   \n",
       "2                       1999          2.0          2097.2700  train   \n",
       "3                       1998          NaN           732.3800  train   \n",
       "4                       1987          3.0           994.7052  train   \n",
       "\n",
       "    Qty_Sold  ...  Outlet_Identifier_OUT027  Outlet_Identifier_OUT035  \\\n",
       "0  14.951963  ...                         0                         0   \n",
       "1   9.186454  ...                         0                         0   \n",
       "2  14.809346  ...                         0                         0   \n",
       "3   4.021967  ...                         0                         0   \n",
       "4  18.467868  ...                         0                         0   \n",
       "\n",
       "   Outlet_Identifier_OUT045  Outlet_Identifier_OUT046  \\\n",
       "0                         0                         0   \n",
       "1                         0                         0   \n",
       "2                         0                         0   \n",
       "3                         0                         0   \n",
       "4                         0                         0   \n",
       "\n",
       "   Outlet_Identifier_OUT049  Outlet_Location_Type_Tier 2  \\\n",
       "0                         1                            0   \n",
       "1                         0                            0   \n",
       "2                         1                            0   \n",
       "3                         0                            0   \n",
       "4                         0                            0   \n",
       "\n",
       "   Outlet_Location_Type_Tier 3  Outlet_Type_Supermarket Type1  \\\n",
       "0                            0                              1   \n",
       "1                            1                              0   \n",
       "2                            0                              1   \n",
       "3                            1                              0   \n",
       "4                            1                              1   \n",
       "\n",
       "   Outlet_Type_Supermarket Type2  Outlet_Type_Supermarket Type3  \n",
       "0                              0                              0  \n",
       "1                              1                              0  \n",
       "2                              0                              0  \n",
       "3                              0                              0  \n",
       "4                              0                              0  \n",
       "\n",
       "[5 rows x 32 columns]"
      ]
     },
     "execution_count": 43,
     "metadata": {},
     "output_type": "execute_result"
    }
   ],
   "source": [
    "Sales.head()"
   ]
  },
  {
   "cell_type": "code",
   "execution_count": 44,
   "metadata": {},
   "outputs": [
    {
     "data": {
      "text/plain": [
       "Index(['Item_Identifier', 'Item_Weight', 'Item_Fat_Content', 'Item_Visibility',\n",
       "       'Item_MRP', 'Outlet_Establishment_Year', 'Outlet_Size',\n",
       "       'Item_Outlet_Sales', 'Type', 'Qty_Sold', 'Outlet_Age', 'Item_Type_DBBS',\n",
       "       'Item_Type_Drinks', 'Item_Type_Frozen_Canned', 'Item_Type_Fruit_Veg',\n",
       "       'Item_Type_HH_HH', 'Item_Type_Others', 'Item_Type_Seafood_Meat',\n",
       "       'Outlet_Identifier_OUT013', 'Outlet_Identifier_OUT017',\n",
       "       'Outlet_Identifier_OUT018', 'Outlet_Identifier_OUT019',\n",
       "       'Outlet_Identifier_OUT027', 'Outlet_Identifier_OUT035',\n",
       "       'Outlet_Identifier_OUT045', 'Outlet_Identifier_OUT046',\n",
       "       'Outlet_Identifier_OUT049', 'Outlet_Location_Type_Tier 2',\n",
       "       'Outlet_Location_Type_Tier 3', 'Outlet_Type_Supermarket Type1',\n",
       "       'Outlet_Type_Supermarket Type2', 'Outlet_Type_Supermarket Type3'],\n",
       "      dtype='object')"
      ]
     },
     "execution_count": 44,
     "metadata": {},
     "output_type": "execute_result"
    }
   ],
   "source": [
    "Sales.columns"
   ]
  },
  {
   "cell_type": "code",
   "execution_count": 45,
   "metadata": {},
   "outputs": [],
   "source": [
    "X_Cols = ['Item_Fat_Content', 'Item_MRP',\n",
    "       'Item_Visibility', 'Item_Weight',\n",
    "       'Qty_Sold', 'Outlet_Age', 'Item_Type_DBBS',\n",
    "       'Item_Type_Drinks', 'Item_Type_Frozen_Canned', 'Item_Type_Fruit_Veg',\n",
    "       'Item_Type_HH_HH', 'Item_Type_Others', 'Item_Type_Seafood_Meat',\n",
    "       'Outlet_Identifier_OUT013', 'Outlet_Identifier_OUT017',\n",
    "       'Outlet_Identifier_OUT018', 'Outlet_Identifier_OUT019',\n",
    "       'Outlet_Identifier_OUT027', 'Outlet_Identifier_OUT035',\n",
    "       'Outlet_Identifier_OUT045', 'Outlet_Identifier_OUT046',\n",
    "       'Outlet_Identifier_OUT049', 'Outlet_Location_Type_Tier 2',\n",
    "       'Outlet_Location_Type_Tier 3', 'Outlet_Type_Supermarket Type1',\n",
    "       'Outlet_Type_Supermarket Type2', 'Outlet_Type_Supermarket Type3']\n",
    "y_cols = 'Outlet_Size'"
   ]
  },
  {
   "cell_type": "code",
   "execution_count": 46,
   "metadata": {},
   "outputs": [],
   "source": [
    "from sklearn.model_selection import train_test_split\n",
    "X = Sales.loc[(Sales[y_cols].notnull()) & (Sales['Type'] == \"train\"), X_Cols]\n",
    "y = Sales.loc[(Sales[y_cols].notnull()) & (Sales['Type'] == \"train\"), y_cols]\n",
    "X_train, X_test, y_train, y_test = train_test_split(X, y, test_size=0.3, random_state=20)"
   ]
  },
  {
   "cell_type": "code",
   "execution_count": 47,
   "metadata": {},
   "outputs": [
    {
     "name": "stdout",
     "output_type": "stream",
     "text": [
      "Shape of X_train:  (5577, 27)\n",
      "Shape of y_train:  (5577,)\n",
      "Shape of X_test:  (2391, 27)\n",
      "Shape of y_test:  (2391,)\n"
     ]
    }
   ],
   "source": [
    "print(\"Shape of X_train: \",X_train.shape)\n",
    "print(\"Shape of y_train: \",y_train.shape)\n",
    "print(\"Shape of X_test: \",X_test.shape)\n",
    "print(\"Shape of y_test: \",y_test.shape)"
   ]
  },
  {
   "cell_type": "code",
   "execution_count": 48,
   "metadata": {},
   "outputs": [
    {
     "data": {
      "text/plain": [
       "1.0    7071\n",
       "2.0    4655\n",
       "3.0    1553\n",
       "Name: Outlet_Size, dtype: int64"
      ]
     },
     "execution_count": 48,
     "metadata": {},
     "output_type": "execute_result"
    }
   ],
   "source": [
    "Sales[y_cols].value_counts()"
   ]
  },
  {
   "cell_type": "code",
   "execution_count": 49,
   "metadata": {},
   "outputs": [],
   "source": [
    "### As there are 3 categories, we can use all the classificaition techniques except Logistic Regression"
   ]
  },
  {
   "cell_type": "code",
   "execution_count": 50,
   "metadata": {},
   "outputs": [],
   "source": [
    "## Trying K-Nearest Neighbours"
   ]
  },
  {
   "cell_type": "code",
   "execution_count": 51,
   "metadata": {},
   "outputs": [
    {
     "data": {
      "text/plain": [
       "KNeighborsClassifier()"
      ]
     },
     "execution_count": 51,
     "metadata": {},
     "output_type": "execute_result"
    }
   ],
   "source": [
    "from sklearn import metrics\n",
    "from sklearn.model_selection import cross_val_score\n",
    "from sklearn.neighbors import KNeighborsClassifier\n",
    "KNeighborsClassifier()"
   ]
  },
  {
   "cell_type": "code",
   "execution_count": 52,
   "metadata": {},
   "outputs": [],
   "source": [
    "def IdentifyKValueCrossValidation(X,Y,startK,endK,cv,scoring):\n",
    "    k_range = list(range(startK, endK+1))\n",
    "    k_scores = []\n",
    "    for k in k_range:\n",
    "        knn = KNeighborsClassifier(n_neighbors=k)\n",
    "        scores = cross_val_score(knn, X, Y, cv=cv, scoring=scoring)\n",
    "        k_scores.append(scores.mean())\n",
    "    z = [i for i, j in enumerate(k_scores) if j == max(k_scores)]\n",
    "    \n",
    "    print(\"Location for Max Accuaracy is:\")\n",
    "    \n",
    "    for i in z:\n",
    "        print(k_range[i])\n",
    "    \n",
    "    # plot the value of K for KNN (x-axis) versus the cross-validated accuracy (y-axis)\n",
    "    plt.plot(k_range, k_scores)\n",
    "    plt.xlabel('Value of K for KNN')\n",
    "    plt.ylabel('Cross-Validated Accuracy')\n",
    "    \n",
    "    return k_range[i]\n",
    "\n",
    "def metrices(Predicted,Actual):\n",
    "    print(\"Confusion Matrix for the model is:\\n\\n {}\".format(metrics.confusion_matrix(y_pred=Predicted,y_true=Actual)))\n",
    "    print(\"\\nAccuracy for the model is: {}\".format(metrics.accuracy_score(y_pred=Predicted, y_true= Actual)))\n",
    "    print(\"\\nArea under the curve for the model is: {}\".format(metrics.roc_auc_score(y_score=Predicted,y_true=Actual)))\n",
    "    print(\"\\nClassification Report for the model is:\\n {}\".format(metrics.classification_report(y_pred=Y_Predict,y_true=y_test)))"
   ]
  },
  {
   "cell_type": "code",
   "execution_count": 53,
   "metadata": {},
   "outputs": [
    {
     "name": "stdout",
     "output_type": "stream",
     "text": [
      "Location for Max Accuaracy is:\n",
      "1\n",
      "Value of K with is: 1\n"
     ]
    },
    {
     "data": {
      "image/png": "[encoded data removed]",
      "text/plain": [
       "<Figure size 432x288 with 1 Axes>"
      ]
     },
     "metadata": {
      "needs_background": "light"
     },
     "output_type": "display_data"
    }
   ],
   "source": [
    "\n",
    "K = IdentifyKValueCrossValidation(X=X,Y=y,cv=5,startK=1,endK=50,scoring=\"accuracy\")\n",
    "print(\"Value of K with is: {}\".format(K))"
   ]
  },
  {
   "cell_type": "code",
   "execution_count": 54,
   "metadata": {},
   "outputs": [
    {
     "name": "stdout",
     "output_type": "stream",
     "text": [
      "Test Accuracy:  0.8519447929736512\n"
     ]
    }
   ],
   "source": [
    "knn = KNeighborsClassifier(n_neighbors=K)\n",
    "y_predicted = knn.fit(X_train,y_train).predict(X_test)\n",
    "print(\"Test Accuracy: \", (y_predicted == y_test).astype(int).sum()/y_test.shape[0])"
   ]
  },
  {
   "cell_type": "code",
   "execution_count": 55,
   "metadata": {},
   "outputs": [
    {
     "data": {
      "text/plain": [
       "1.0    303\n",
       "2.0    252\n",
       "dtype: int64"
      ]
     },
     "execution_count": 55,
     "metadata": {},
     "output_type": "execute_result"
    }
   ],
   "source": [
    "pd.Series(knn.predict(X=Sales.loc[(Sales[y_cols].isnull()) & (Sales['Type'] == \"train\"), X_Cols])).value_counts()"
   ]
  },
  {
   "cell_type": "code",
   "execution_count": 56,
   "metadata": {},
   "outputs": [],
   "source": [
    "### Multinomial Classifier"
   ]
  },
  {
   "cell_type": "code",
   "execution_count": 57,
   "metadata": {},
   "outputs": [],
   "source": [
    "from sklearn.multiclass import OneVsOneClassifier\n",
    "from sklearn.svm import LinearSVC"
   ]
  },
  {
   "cell_type": "code",
   "execution_count": 58,
   "metadata": {},
   "outputs": [
    {
     "name": "stderr",
     "output_type": "stream",
     "text": [
      "/opt/anaconda3/lib/python3.8/site-packages/sklearn/svm/_base.py:976: ConvergenceWarning: Liblinear failed to converge, increase the number of iterations.\n",
      "  warnings.warn(\"Liblinear failed to converge, increase \"\n",
      "/opt/anaconda3/lib/python3.8/site-packages/sklearn/svm/_base.py:976: ConvergenceWarning: Liblinear failed to converge, increase the number of iterations.\n",
      "  warnings.warn(\"Liblinear failed to converge, increase \"\n",
      "/opt/anaconda3/lib/python3.8/site-packages/sklearn/svm/_base.py:976: ConvergenceWarning: Liblinear failed to converge, increase the number of iterations.\n",
      "  warnings.warn(\"Liblinear failed to converge, increase \"\n"
     ]
    }
   ],
   "source": [
    "md = OneVsOneClassifier(LinearSVC(random_state=0)).fit(X_train, y_train)"
   ]
  },
  {
   "cell_type": "code",
   "execution_count": 59,
   "metadata": {},
   "outputs": [
    {
     "name": "stdout",
     "output_type": "stream",
     "text": [
      "Test Accuracy:  1.0\n"
     ]
    }
   ],
   "source": [
    "y_predicted = md.predict(X=X_test)\n",
    "print(\"Test Accuracy: \", (y_predicted == y_test).astype(int).sum()/y_test.shape[0])\n",
    "#pd.Series(y_predicted).value_counts()"
   ]
  },
  {
   "cell_type": "code",
   "execution_count": 60,
   "metadata": {},
   "outputs": [
    {
     "data": {
      "text/plain": [
       "2.0    555\n",
       "dtype: int64"
      ]
     },
     "execution_count": 60,
     "metadata": {},
     "output_type": "execute_result"
    }
   ],
   "source": [
    "pd.Series(md.predict(X=Sales.loc[(Sales[y_cols].isnull()) & (Sales['Type'] == \"train\"), X_Cols])).value_counts()"
   ]
  },
  {
   "cell_type": "code",
   "execution_count": 61,
   "metadata": {},
   "outputs": [],
   "source": [
    "### AdaBoost"
   ]
  },
  {
   "cell_type": "code",
   "execution_count": 62,
   "metadata": {},
   "outputs": [
    {
     "data": {
      "text/plain": [
       "1.0"
      ]
     },
     "execution_count": 62,
     "metadata": {},
     "output_type": "execute_result"
    }
   ],
   "source": [
    "from sklearn.ensemble import AdaBoostClassifier\n",
    "clf = AdaBoostClassifier(n_estimators=100)\n",
    "scores = cross_val_score(clf, X_train, y_train)\n",
    "scores.mean() "
   ]
  },
  {
   "cell_type": "code",
   "execution_count": 63,
   "metadata": {},
   "outputs": [
    {
     "data": {
      "text/plain": [
       "AdaBoostClassifier(n_estimators=100)"
      ]
     },
     "execution_count": 63,
     "metadata": {},
     "output_type": "execute_result"
    }
   ],
   "source": [
    "clf.fit(X_train, y_train)"
   ]
  },
  {
   "cell_type": "code",
   "execution_count": 64,
   "metadata": {},
   "outputs": [
    {
     "data": {
      "text/plain": [
       "2.0    555\n",
       "dtype: int64"
      ]
     },
     "execution_count": 64,
     "metadata": {},
     "output_type": "execute_result"
    }
   ],
   "source": [
    "pd.Series(clf.predict(X=Sales.loc[(Sales[y_cols].isnull()) & (Sales['Type'] == \"train\"), X_Cols])).value_counts()"
   ]
  },
  {
   "cell_type": "code",
   "execution_count": 65,
   "metadata": {},
   "outputs": [],
   "source": [
    "### As majority of the predictions for Multinomial and AdaBoost was 100% accuracy were Medium, hence we will impute accordingly"
   ]
  },
  {
   "cell_type": "code",
   "execution_count": 66,
   "metadata": {},
   "outputs": [
    {
     "data": {
      "text/plain": [
       "1.0    7071\n",
       "2.0    5580\n",
       "3.0    1553\n",
       "Name: Outlet_Size, dtype: int64"
      ]
     },
     "execution_count": 66,
     "metadata": {},
     "output_type": "execute_result"
    }
   ],
   "source": [
    "Sales.loc[(Sales[\"Outlet_Size\"].isnull()),\"Outlet_Size\"] = 2\n",
    "Sales[\"Outlet_Size\"].value_counts()"
   ]
  },
  {
   "cell_type": "code",
   "execution_count": 67,
   "metadata": {},
   "outputs": [
    {
     "data": {
      "text/plain": [
       "1    7071\n",
       "2    5580\n",
       "3    1553\n",
       "Name: Outlet_Size, dtype: int64"
      ]
     },
     "execution_count": 67,
     "metadata": {},
     "output_type": "execute_result"
    }
   ],
   "source": [
    "Sales[\"Outlet_Size\"] = Sales[\"Outlet_Size\"].astype(int).astype(object)\n",
    "Sales[\"Outlet_Size\"].value_counts()"
   ]
  },
  {
   "cell_type": "code",
   "execution_count": 68,
   "metadata": {},
   "outputs": [
    {
     "data": {
      "text/plain": [
       "Item_Identifier                     0\n",
       "Item_Weight                         0\n",
       "Item_Fat_Content                    0\n",
       "Item_Visibility                     0\n",
       "Item_MRP                            0\n",
       "Outlet_Establishment_Year           0\n",
       "Outlet_Size                         0\n",
       "Item_Outlet_Sales                5681\n",
       "Type                                0\n",
       "Qty_Sold                         5681\n",
       "Outlet_Age                          0\n",
       "Item_Type_DBBS                      0\n",
       "Item_Type_Drinks                    0\n",
       "Item_Type_Frozen_Canned             0\n",
       "Item_Type_Fruit_Veg                 0\n",
       "Item_Type_HH_HH                     0\n",
       "Item_Type_Others                    0\n",
       "Item_Type_Seafood_Meat              0\n",
       "Outlet_Identifier_OUT013            0\n",
       "Outlet_Identifier_OUT017            0\n",
       "Outlet_Identifier_OUT018            0\n",
       "Outlet_Identifier_OUT019            0\n",
       "Outlet_Identifier_OUT027            0\n",
       "Outlet_Identifier_OUT035            0\n",
       "Outlet_Identifier_OUT045            0\n",
       "Outlet_Identifier_OUT046            0\n",
       "Outlet_Identifier_OUT049            0\n",
       "Outlet_Location_Type_Tier 2         0\n",
       "Outlet_Location_Type_Tier 3         0\n",
       "Outlet_Type_Supermarket Type1       0\n",
       "Outlet_Type_Supermarket Type2       0\n",
       "Outlet_Type_Supermarket Type3       0\n",
       "dtype: int64"
      ]
     },
     "execution_count": 68,
     "metadata": {},
     "output_type": "execute_result"
    }
   ],
   "source": [
    "Sales.isnull().sum()"
   ]
  },
  {
   "cell_type": "code",
   "execution_count": 69,
   "metadata": {},
   "outputs": [],
   "source": [
    "from sklearn import metrics\n",
    "from sklearn.metrics import r2_score"
   ]
  },
  {
   "cell_type": "code",
   "execution_count": 70,
   "metadata": {},
   "outputs": [
    {
     "data": {
      "text/plain": [
       "Index(['Item_Identifier', 'Item_Weight', 'Item_Fat_Content', 'Item_Visibility',\n",
       "       'Item_MRP', 'Outlet_Establishment_Year', 'Outlet_Size',\n",
       "       'Item_Outlet_Sales', 'Type', 'Qty_Sold', 'Outlet_Age', 'Item_Type_DBBS',\n",
       "       'Item_Type_Drinks', 'Item_Type_Frozen_Canned', 'Item_Type_Fruit_Veg',\n",
       "       'Item_Type_HH_HH', 'Item_Type_Others', 'Item_Type_Seafood_Meat',\n",
       "       'Outlet_Identifier_OUT013', 'Outlet_Identifier_OUT017',\n",
       "       'Outlet_Identifier_OUT018', 'Outlet_Identifier_OUT019',\n",
       "       'Outlet_Identifier_OUT027', 'Outlet_Identifier_OUT035',\n",
       "       'Outlet_Identifier_OUT045', 'Outlet_Identifier_OUT046',\n",
       "       'Outlet_Identifier_OUT049', 'Outlet_Location_Type_Tier 2',\n",
       "       'Outlet_Location_Type_Tier 3', 'Outlet_Type_Supermarket Type1',\n",
       "       'Outlet_Type_Supermarket Type2', 'Outlet_Type_Supermarket Type3'],\n",
       "      dtype='object')"
      ]
     },
     "execution_count": 70,
     "metadata": {},
     "output_type": "execute_result"
    }
   ],
   "source": [
    "Sales.columns"
   ]
  },
  {
   "cell_type": "code",
   "execution_count": 71,
   "metadata": {},
   "outputs": [],
   "source": [
    "XCols = ['Item_Fat_Content', 'Item_MRP',\n",
    "       'Item_Visibility', 'Item_Weight',\n",
    "       'Outlet_Size', 'Outlet_Age', 'Item_Type_DBBS',\n",
    "       'Item_Type_Drinks', 'Item_Type_Frozen_Canned', 'Item_Type_Fruit_Veg',\n",
    "       'Item_Type_HH_HH', 'Item_Type_Others', 'Item_Type_Seafood_Meat',\n",
    "       'Outlet_Identifier_OUT013', 'Outlet_Identifier_OUT017',\n",
    "       'Outlet_Identifier_OUT018', 'Outlet_Identifier_OUT019',\n",
    "       'Outlet_Identifier_OUT027', 'Outlet_Identifier_OUT035',\n",
    "       'Outlet_Identifier_OUT045', 'Outlet_Identifier_OUT046',\n",
    "       'Outlet_Identifier_OUT049', 'Outlet_Location_Type_Tier 2',\n",
    "       'Outlet_Location_Type_Tier 3', 'Outlet_Type_Supermarket Type1',\n",
    "       'Outlet_Type_Supermarket Type2', 'Outlet_Type_Supermarket Type3']\n",
    "YCols = 'Qty_Sold'"
   ]
  },
  {
   "cell_type": "code",
   "execution_count": 72,
   "metadata": {
    "scrolled": true
   },
   "outputs": [
    {
     "name": "stdout",
     "output_type": "stream",
     "text": [
      "(8523, 27)\n",
      "(8523,)\n"
     ]
    }
   ],
   "source": [
    "XX = Sales.loc[Sales[\"Type\"]==\"train\",XCols]\n",
    "yy = Sales.loc[Sales[\"Type\"]==\"train\",YCols]\n",
    "print(XX.shape)\n",
    "print(yy.shape)\n",
    "XX_train, XX_test, yy_train, yy_test = train_test_split(XX, yy, test_size=0.3, random_state=5)"
   ]
  },
  {
   "cell_type": "code",
   "execution_count": 73,
   "metadata": {},
   "outputs": [],
   "source": [
    "### Linear Regression with all the columns"
   ]
  },
  {
   "cell_type": "code",
   "execution_count": 74,
   "metadata": {},
   "outputs": [
    {
     "name": "stdout",
     "output_type": "stream",
     "text": [
      "3.571515661359184\n"
     ]
    },
    {
     "data": {
      "text/plain": [
       "array([ 3.62534516e-01,  1.97125177e-03, -4.75344569e-01, -2.41986204e-02,\n",
       "        4.46190132e-02,  9.67378310e-02, -3.26130084e-01,  4.12913460e-02,\n",
       "       -5.16302906e-02,  2.04488397e-01,  5.14234912e-02, -2.63428399e-01,\n",
       "        4.12101856e-02,  5.39592959e+00,  2.47052074e+00,  6.28876741e+00,\n",
       "       -4.64406211e+00,  1.15404264e+01,  1.97612887e+00,  5.60706140e-01,\n",
       "        3.05114647e+00,  3.46491004e+00,  2.21588498e+00, -3.56499323e+00,\n",
       "        7.29245908e+00,  6.28876741e+00,  1.15404264e+01])"
      ]
     },
     "execution_count": 74,
     "metadata": {},
     "output_type": "execute_result"
    }
   ],
   "source": [
    "from sklearn import linear_model\n",
    "reg = linear_model.LinearRegression(fit_intercept=True,normalize=True)\n",
    "reg.fit (XX_train,yy_train)\n",
    "print(reg.intercept_)\n",
    "reg.coef_"
   ]
  },
  {
   "cell_type": "code",
   "execution_count": 75,
   "metadata": {},
   "outputs": [
    {
     "name": "stdout",
     "output_type": "stream",
     "text": [
      "27\n"
     ]
    },
    {
     "data": {
      "text/plain": [
       "27"
      ]
     },
     "execution_count": 75,
     "metadata": {},
     "output_type": "execute_result"
    }
   ],
   "source": [
    "print(len(reg.coef_))\n",
    "len(XCols)"
   ]
  },
  {
   "cell_type": "code",
   "execution_count": 76,
   "metadata": {},
   "outputs": [],
   "source": [
    "coef1 = pd.DataFrame(reg.coef_,XCols,columns=[\"Value\"])\n",
    "#coef1[coef1[\"Value\"]>0].sort_values(by=\"Value\",ascending=False)"
   ]
  },
  {
   "cell_type": "code",
   "execution_count": 77,
   "metadata": {},
   "outputs": [
    {
     "data": {
      "text/plain": [
       "48.69988209652185"
      ]
     },
     "execution_count": 77,
     "metadata": {},
     "output_type": "execute_result"
    }
   ],
   "source": [
    "yy_predicted = reg.predict(XX_test)\n",
    "metrics.mean_squared_error(y_true=yy_test, y_pred=yy_predicted)"
   ]
  },
  {
   "cell_type": "code",
   "execution_count": 78,
   "metadata": {},
   "outputs": [
    {
     "data": {
      "text/plain": [
       "0.41814067440785574"
      ]
     },
     "execution_count": 78,
     "metadata": {},
     "output_type": "execute_result"
    }
   ],
   "source": [
    "r2_score(yy_test, yy_predicted)"
   ]
  },
  {
   "cell_type": "code",
   "execution_count": 79,
   "metadata": {},
   "outputs": [],
   "source": [
    "### LASSO"
   ]
  },
  {
   "cell_type": "code",
   "execution_count": 80,
   "metadata": {},
   "outputs": [
    {
     "name": "stdout",
     "output_type": "stream",
     "text": [
      "3.0052265275853234\n"
     ]
    },
    {
     "data": {
      "text/html": [
       "<div>\n",
       "<style scoped>\n",
       "    .dataframe tbody tr th:only-of-type {\n",
       "        vertical-align: middle;\n",
       "    }\n",
       "\n",
       "    .dataframe tbody tr th {\n",
       "        vertical-align: top;\n",
       "    }\n",
       "\n",
       "    .dataframe thead th {\n",
       "        text-align: right;\n",
       "    }\n",
       "</style>\n",
       "<table border=\"1\" class=\"dataframe\">\n",
       "  <thead>\n",
       "    <tr style=\"text-align: right;\">\n",
       "      <th></th>\n",
       "      <th>Value</th>\n",
       "    </tr>\n",
       "  </thead>\n",
       "  <tbody>\n",
       "    <tr>\n",
       "      <th>Outlet_Type_Supermarket Type1</th>\n",
       "      <td>13.441345</td>\n",
       "    </tr>\n",
       "    <tr>\n",
       "      <th>Outlet_Identifier_OUT027</th>\n",
       "      <td>12.640825</td>\n",
       "    </tr>\n",
       "    <tr>\n",
       "      <th>Outlet_Type_Supermarket Type3</th>\n",
       "      <td>11.181365</td>\n",
       "    </tr>\n",
       "    <tr>\n",
       "      <th>Outlet_Type_Supermarket Type2</th>\n",
       "      <td>10.809769</td>\n",
       "    </tr>\n",
       "    <tr>\n",
       "      <th>Outlet_Identifier_OUT017</th>\n",
       "      <td>0.499518</td>\n",
       "    </tr>\n",
       "    <tr>\n",
       "      <th>Outlet_Identifier_OUT035</th>\n",
       "      <td>0.316412</td>\n",
       "    </tr>\n",
       "    <tr>\n",
       "      <th>Item_Fat_Content</th>\n",
       "      <td>0.276729</td>\n",
       "    </tr>\n",
       "    <tr>\n",
       "      <th>Outlet_Identifier_OUT049</th>\n",
       "      <td>0.158667</td>\n",
       "    </tr>\n",
       "    <tr>\n",
       "      <th>Item_Type_Fruit_Veg</th>\n",
       "      <td>0.123331</td>\n",
       "    </tr>\n",
       "    <tr>\n",
       "      <th>Item_MRP</th>\n",
       "      <td>0.001319</td>\n",
       "    </tr>\n",
       "  </tbody>\n",
       "</table>\n",
       "</div>"
      ],
      "text/plain": [
       "                                   Value\n",
       "Outlet_Type_Supermarket Type1  13.441345\n",
       "Outlet_Identifier_OUT027       12.640825\n",
       "Outlet_Type_Supermarket Type3  11.181365\n",
       "Outlet_Type_Supermarket Type2  10.809769\n",
       "Outlet_Identifier_OUT017        0.499518\n",
       "Outlet_Identifier_OUT035        0.316412\n",
       "Item_Fat_Content                0.276729\n",
       "Outlet_Identifier_OUT049        0.158667\n",
       "Item_Type_Fruit_Veg             0.123331\n",
       "Item_MRP                        0.001319"
      ]
     },
     "execution_count": 80,
     "metadata": {},
     "output_type": "execute_result"
    }
   ],
   "source": [
    "Lasso = linear_model.LassoCV(cv=5,normalize=True,random_state=10,alphas=[.0005])\n",
    "Lasso\n",
    "Lasso.fit(XX_train,yy_train)\n",
    "print(Lasso.intercept_)\n",
    "coef1 = pd.DataFrame(Lasso.coef_,XCols,columns=[\"Value\"])\n",
    "coef1[coef1[\"Value\"]>0].sort_values(by=\"Value\",ascending=False)"
   ]
  },
  {
   "cell_type": "code",
   "execution_count": 81,
   "metadata": {},
   "outputs": [
    {
     "name": "stdout",
     "output_type": "stream",
     "text": [
      "48.656871372516605\n",
      "0.41865456047462923\n"
     ]
    }
   ],
   "source": [
    "yy_predicted = Lasso.predict(XX_test)\n",
    "print(metrics.mean_squared_error(y_true=yy_test, y_pred=yy_predicted))\n",
    "print(r2_score(yy_test, yy_predicted))"
   ]
  },
  {
   "cell_type": "code",
   "execution_count": 82,
   "metadata": {},
   "outputs": [
    {
     "data": {
      "text/plain": [
       "LassoCV(alphas=[0.0005], cv=5, normalize=True, random_state=10)"
      ]
     },
     "execution_count": 82,
     "metadata": {},
     "output_type": "execute_result"
    }
   ],
   "source": [
    "Lasso.fit(XX,yy)"
   ]
  },
  {
   "cell_type": "code",
   "execution_count": 83,
   "metadata": {},
   "outputs": [],
   "source": [
    "## Adaptive Boost"
   ]
  },
  {
   "cell_type": "code",
   "execution_count": 84,
   "metadata": {},
   "outputs": [],
   "source": [
    "from sklearn.ensemble import AdaBoostRegressor\n",
    "regressor = AdaBoostRegressor(n_estimators=100,loss=\"linear\",learning_rate=.005)"
   ]
  },
  {
   "cell_type": "code",
   "execution_count": 85,
   "metadata": {},
   "outputs": [
    {
     "data": {
      "text/plain": [
       "AdaBoostRegressor(learning_rate=0.005, n_estimators=100)"
      ]
     },
     "execution_count": 85,
     "metadata": {},
     "output_type": "execute_result"
    }
   ],
   "source": [
    "regressor.fit(XX_train, yy_train)"
   ]
  },
  {
   "cell_type": "code",
   "execution_count": 86,
   "metadata": {},
   "outputs": [
    {
     "name": "stdout",
     "output_type": "stream",
     "text": [
      "48.6654470210263\n",
      "0.41855209983522823\n"
     ]
    }
   ],
   "source": [
    "yy_predicted = regressor.predict(XX_test)\n",
    "print(metrics.mean_squared_error(y_true=yy_test, y_pred=yy_predicted))\n",
    "print(r2_score(yy_test, yy_predicted))"
   ]
  },
  {
   "cell_type": "code",
   "execution_count": 87,
   "metadata": {},
   "outputs": [
    {
     "data": {
      "text/plain": [
       "AdaBoostRegressor(learning_rate=0.005, n_estimators=100)"
      ]
     },
     "execution_count": 87,
     "metadata": {},
     "output_type": "execute_result"
    }
   ],
   "source": [
    "regressor.fit(XX,yy)"
   ]
  },
  {
   "cell_type": "code",
   "execution_count": 88,
   "metadata": {},
   "outputs": [],
   "source": [
    "### Ridge"
   ]
  },
  {
   "cell_type": "code",
   "execution_count": 89,
   "metadata": {},
   "outputs": [
    {
     "data": {
      "text/plain": [
       "Ridge(alpha=0.001, normalize=True, random_state=10)"
      ]
     },
     "execution_count": 89,
     "metadata": {},
     "output_type": "execute_result"
    }
   ],
   "source": [
    "Ridge = linear_model.Ridge(random_state=10,normalize=True,alpha=.001)\n",
    "Ridge"
   ]
  },
  {
   "cell_type": "code",
   "execution_count": 90,
   "metadata": {},
   "outputs": [],
   "source": [
    "Ridge.fit(XX_train,yy_train)\n",
    "#print(Ridge.intercept_)\n",
    "coef1 = pd.DataFrame(Ridge.coef_,XCols,columns=[\"Value\"])\n",
    "#coef1[coef1[\"Value\"]>0].sort_values(by=\"Value\",ascending=False)"
   ]
  },
  {
   "cell_type": "code",
   "execution_count": 91,
   "metadata": {},
   "outputs": [
    {
     "name": "stdout",
     "output_type": "stream",
     "text": [
      "48.69851612158346\n",
      "0.41815699488384483\n"
     ]
    }
   ],
   "source": [
    "yy_predicted = Ridge.predict(XX_test)\n",
    "print(metrics.mean_squared_error(y_true=yy_test, y_pred=yy_predicted))\n",
    "print(r2_score(yy_test, yy_predicted))"
   ]
  },
  {
   "cell_type": "code",
   "execution_count": 92,
   "metadata": {},
   "outputs": [
    {
     "data": {
      "text/plain": [
       "Ridge(alpha=0.001, normalize=True, random_state=10)"
      ]
     },
     "execution_count": 92,
     "metadata": {},
     "output_type": "execute_result"
    }
   ],
   "source": [
    "Ridge.fit(XX,yy)"
   ]
  },
  {
   "cell_type": "code",
   "execution_count": 93,
   "metadata": {},
   "outputs": [],
   "source": [
    "### Decision tree for Regression"
   ]
  },
  {
   "cell_type": "code",
   "execution_count": 94,
   "metadata": {},
   "outputs": [
    {
     "data": {
      "text/plain": [
       "DecisionTreeRegressor(max_depth=3)"
      ]
     },
     "execution_count": 94,
     "metadata": {},
     "output_type": "execute_result"
    }
   ],
   "source": [
    "from sklearn.tree import DecisionTreeRegressor\n",
    "Dtree = DecisionTreeRegressor(max_depth=3)\n",
    "Dtree.fit(XX_train,yy_train)"
   ]
  },
  {
   "cell_type": "code",
   "execution_count": 95,
   "metadata": {},
   "outputs": [
    {
     "name": "stdout",
     "output_type": "stream",
     "text": [
      "48.865410192892234\n",
      "0.4161629680485317\n"
     ]
    }
   ],
   "source": [
    "yy_predicted = Dtree.predict(XX_test)\n",
    "print(metrics.mean_squared_error(y_true=yy_test, y_pred=yy_predicted))\n",
    "print(r2_score(yy_test, yy_predicted))"
   ]
  },
  {
   "cell_type": "code",
   "execution_count": 96,
   "metadata": {},
   "outputs": [
    {
     "data": {
      "text/plain": [
       "DecisionTreeRegressor(max_depth=3)"
      ]
     },
     "execution_count": 96,
     "metadata": {},
     "output_type": "execute_result"
    }
   ],
   "source": [
    "Dtree.fit(XX,yy)"
   ]
  },
  {
   "cell_type": "code",
   "execution_count": 97,
   "metadata": {},
   "outputs": [
    {
     "data": {
      "text/plain": [
       "RandomForestRegressor()"
      ]
     },
     "execution_count": 97,
     "metadata": {},
     "output_type": "execute_result"
    }
   ],
   "source": [
    "from sklearn.ensemble import RandomForestRegressor\n",
    "RForrest = RandomForestRegressor()\n",
    "RForrest.fit(XX_train,yy_train)"
   ]
  },
  {
   "cell_type": "code",
   "execution_count": 98,
   "metadata": {},
   "outputs": [
    {
     "name": "stdout",
     "output_type": "stream",
     "text": [
      "48.44411027965153\n",
      "0.42119660001717596\n"
     ]
    }
   ],
   "source": [
    "yy_predicted = Dtree.predict(XX_test)\n",
    "print(metrics.mean_squared_error(y_true=yy_test, y_pred=yy_predicted))\n",
    "print(r2_score(yy_test, yy_predicted))"
   ]
  },
  {
   "cell_type": "code",
   "execution_count": 99,
   "metadata": {},
   "outputs": [
    {
     "data": {
      "text/plain": [
       "DecisionTreeRegressor(max_depth=3)"
      ]
     },
     "execution_count": 99,
     "metadata": {},
     "output_type": "execute_result"
    }
   ],
   "source": [
    "Dtree.fit(XX,yy)"
   ]
  },
  {
   "cell_type": "code",
   "execution_count": 100,
   "metadata": {},
   "outputs": [],
   "source": [
    "## Testing the MODEL "
   ]
  },
  {
   "cell_type": "code",
   "execution_count": 101,
   "metadata": {},
   "outputs": [
    {
     "data": {
      "text/html": [
       "<div>\n",
       "<style scoped>\n",
       "    .dataframe tbody tr th:only-of-type {\n",
       "        vertical-align: middle;\n",
       "    }\n",
       "\n",
       "    .dataframe tbody tr th {\n",
       "        vertical-align: top;\n",
       "    }\n",
       "\n",
       "    .dataframe thead th {\n",
       "        text-align: right;\n",
       "    }\n",
       "</style>\n",
       "<table border=\"1\" class=\"dataframe\">\n",
       "  <thead>\n",
       "    <tr style=\"text-align: right;\">\n",
       "      <th></th>\n",
       "      <th>Item_Fat_Content</th>\n",
       "      <th>Item_MRP</th>\n",
       "      <th>Item_Visibility</th>\n",
       "      <th>Item_Weight</th>\n",
       "      <th>Outlet_Size</th>\n",
       "      <th>Outlet_Age</th>\n",
       "      <th>Item_Type_DBBS</th>\n",
       "      <th>Item_Type_Drinks</th>\n",
       "      <th>Item_Type_Frozen_Canned</th>\n",
       "      <th>Item_Type_Fruit_Veg</th>\n",
       "      <th>...</th>\n",
       "      <th>Outlet_Identifier_OUT027</th>\n",
       "      <th>Outlet_Identifier_OUT035</th>\n",
       "      <th>Outlet_Identifier_OUT045</th>\n",
       "      <th>Outlet_Identifier_OUT046</th>\n",
       "      <th>Outlet_Identifier_OUT049</th>\n",
       "      <th>Outlet_Location_Type_Tier 2</th>\n",
       "      <th>Outlet_Location_Type_Tier 3</th>\n",
       "      <th>Outlet_Type_Supermarket Type1</th>\n",
       "      <th>Outlet_Type_Supermarket Type2</th>\n",
       "      <th>Outlet_Type_Supermarket Type3</th>\n",
       "    </tr>\n",
       "  </thead>\n",
       "  <tbody>\n",
       "    <tr>\n",
       "      <th>8523</th>\n",
       "      <td>0</td>\n",
       "      <td>107.8622</td>\n",
       "      <td>0.007565</td>\n",
       "      <td>20.750</td>\n",
       "      <td>2</td>\n",
       "      <td>22</td>\n",
       "      <td>0</td>\n",
       "      <td>0</td>\n",
       "      <td>0</td>\n",
       "      <td>0</td>\n",
       "      <td>...</td>\n",
       "      <td>0</td>\n",
       "      <td>0</td>\n",
       "      <td>0</td>\n",
       "      <td>0</td>\n",
       "      <td>1</td>\n",
       "      <td>0</td>\n",
       "      <td>0</td>\n",
       "      <td>1</td>\n",
       "      <td>0</td>\n",
       "      <td>0</td>\n",
       "    </tr>\n",
       "    <tr>\n",
       "      <th>8524</th>\n",
       "      <td>1</td>\n",
       "      <td>87.3198</td>\n",
       "      <td>0.038428</td>\n",
       "      <td>8.300</td>\n",
       "      <td>1</td>\n",
       "      <td>14</td>\n",
       "      <td>1</td>\n",
       "      <td>0</td>\n",
       "      <td>0</td>\n",
       "      <td>0</td>\n",
       "      <td>...</td>\n",
       "      <td>0</td>\n",
       "      <td>0</td>\n",
       "      <td>0</td>\n",
       "      <td>0</td>\n",
       "      <td>0</td>\n",
       "      <td>1</td>\n",
       "      <td>0</td>\n",
       "      <td>1</td>\n",
       "      <td>0</td>\n",
       "      <td>0</td>\n",
       "    </tr>\n",
       "    <tr>\n",
       "      <th>8525</th>\n",
       "      <td>0</td>\n",
       "      <td>241.7538</td>\n",
       "      <td>0.099575</td>\n",
       "      <td>14.600</td>\n",
       "      <td>2</td>\n",
       "      <td>23</td>\n",
       "      <td>0</td>\n",
       "      <td>0</td>\n",
       "      <td>0</td>\n",
       "      <td>0</td>\n",
       "      <td>...</td>\n",
       "      <td>0</td>\n",
       "      <td>0</td>\n",
       "      <td>0</td>\n",
       "      <td>0</td>\n",
       "      <td>0</td>\n",
       "      <td>0</td>\n",
       "      <td>1</td>\n",
       "      <td>0</td>\n",
       "      <td>0</td>\n",
       "      <td>0</td>\n",
       "    </tr>\n",
       "    <tr>\n",
       "      <th>8526</th>\n",
       "      <td>0</td>\n",
       "      <td>155.0340</td>\n",
       "      <td>0.015388</td>\n",
       "      <td>7.315</td>\n",
       "      <td>1</td>\n",
       "      <td>14</td>\n",
       "      <td>0</td>\n",
       "      <td>0</td>\n",
       "      <td>0</td>\n",
       "      <td>0</td>\n",
       "      <td>...</td>\n",
       "      <td>0</td>\n",
       "      <td>0</td>\n",
       "      <td>0</td>\n",
       "      <td>0</td>\n",
       "      <td>0</td>\n",
       "      <td>1</td>\n",
       "      <td>0</td>\n",
       "      <td>1</td>\n",
       "      <td>0</td>\n",
       "      <td>0</td>\n",
       "    </tr>\n",
       "    <tr>\n",
       "      <th>8527</th>\n",
       "      <td>1</td>\n",
       "      <td>234.2300</td>\n",
       "      <td>0.118599</td>\n",
       "      <td>13.600</td>\n",
       "      <td>2</td>\n",
       "      <td>36</td>\n",
       "      <td>1</td>\n",
       "      <td>0</td>\n",
       "      <td>0</td>\n",
       "      <td>0</td>\n",
       "      <td>...</td>\n",
       "      <td>1</td>\n",
       "      <td>0</td>\n",
       "      <td>0</td>\n",
       "      <td>0</td>\n",
       "      <td>0</td>\n",
       "      <td>0</td>\n",
       "      <td>1</td>\n",
       "      <td>0</td>\n",
       "      <td>0</td>\n",
       "      <td>1</td>\n",
       "    </tr>\n",
       "  </tbody>\n",
       "</table>\n",
       "<p>5 rows × 27 columns</p>\n",
       "</div>"
      ],
      "text/plain": [
       "      Item_Fat_Content  Item_MRP  Item_Visibility  Item_Weight Outlet_Size  \\\n",
       "8523                 0  107.8622         0.007565       20.750           2   \n",
       "8524                 1   87.3198         0.038428        8.300           1   \n",
       "8525                 0  241.7538         0.099575       14.600           2   \n",
       "8526                 0  155.0340         0.015388        7.315           1   \n",
       "8527                 1  234.2300         0.118599       13.600           2   \n",
       "\n",
       "      Outlet_Age  Item_Type_DBBS  Item_Type_Drinks  Item_Type_Frozen_Canned  \\\n",
       "8523          22               0                 0                        0   \n",
       "8524          14               1                 0                        0   \n",
       "8525          23               0                 0                        0   \n",
       "8526          14               0                 0                        0   \n",
       "8527          36               1                 0                        0   \n",
       "\n",
       "      Item_Type_Fruit_Veg  ...  Outlet_Identifier_OUT027  \\\n",
       "8523                    0  ...                         0   \n",
       "8524                    0  ...                         0   \n",
       "8525                    0  ...                         0   \n",
       "8526                    0  ...                         0   \n",
       "8527                    0  ...                         1   \n",
       "\n",
       "      Outlet_Identifier_OUT035  Outlet_Identifier_OUT045  \\\n",
       "8523                         0                         0   \n",
       "8524                         0                         0   \n",
       "8525                         0                         0   \n",
       "8526                         0                         0   \n",
       "8527                         0                         0   \n",
       "\n",
       "      Outlet_Identifier_OUT046  Outlet_Identifier_OUT049  \\\n",
       "8523                         0                         1   \n",
       "8524                         0                         0   \n",
       "8525                         0                         0   \n",
       "8526                         0                         0   \n",
       "8527                         0                         0   \n",
       "\n",
       "      Outlet_Location_Type_Tier 2  Outlet_Location_Type_Tier 3  \\\n",
       "8523                            0                            0   \n",
       "8524                            1                            0   \n",
       "8525                            0                            1   \n",
       "8526                            1                            0   \n",
       "8527                            0                            1   \n",
       "\n",
       "      Outlet_Type_Supermarket Type1  Outlet_Type_Supermarket Type2  \\\n",
       "8523                              1                              0   \n",
       "8524                              1                              0   \n",
       "8525                              0                              0   \n",
       "8526                              1                              0   \n",
       "8527                              0                              0   \n",
       "\n",
       "      Outlet_Type_Supermarket Type3  \n",
       "8523                              0  \n",
       "8524                              0  \n",
       "8525                              0  \n",
       "8526                              0  \n",
       "8527                              1  \n",
       "\n",
       "[5 rows x 27 columns]"
      ]
     },
     "execution_count": 101,
     "metadata": {},
     "output_type": "execute_result"
    }
   ],
   "source": [
    "Sales_Predict = Sales.loc[Sales[\"Type\"]==\"test\",XCols]\n",
    "Sales_Predict.head()"
   ]
  },
  {
   "cell_type": "code",
   "execution_count": 102,
   "metadata": {},
   "outputs": [],
   "source": [
    "##### Combining LASSO, ADB and Ridge together"
   ]
  },
  {
   "cell_type": "code",
   "execution_count": 103,
   "metadata": {},
   "outputs": [],
   "source": [
    "Lasso_Prediction = Lasso.predict(Sales_Predict)\n",
    "ADB_Prediction = regressor.predict(Sales_Predict)\n",
    "Ridge_Prediction = Ridge.predict(Sales_Predict)\n",
    "RForrest_Prediction = RForrest.predict(Sales_Predict)\n",
    "Dtree_Prediction = Dtree.predict(Sales_Predict)"
   ]
  },
  {
   "cell_type": "code",
   "execution_count": 104,
   "metadata": {},
   "outputs": [
    {
     "name": "stdout",
     "output_type": "stream",
     "text": [
      "[16.38839972 16.53388655  3.02660887 16.50001025 26.61073934]\n",
      "[16.19228727 16.62740409  2.41441605 16.63544957 26.59126962]\n",
      "[16.36215476 16.58448813  2.56700997 16.6545641  26.76259173]\n",
      "[17.77504321 15.13441667  2.27147656 13.02067095 27.01097635]\n",
      "[16.49094575 16.49094575  2.41317621 16.49094575 26.50672595]\n"
     ]
    }
   ],
   "source": [
    "print(Lasso_Prediction[:5])\n",
    "print(ADB_Prediction[:5])\n",
    "print(Ridge_Prediction[:5])\n",
    "print(RForrest_Prediction[:5])\n",
    "print(Dtree_Prediction[:5])"
   ]
  },
  {
   "cell_type": "code",
   "execution_count": 105,
   "metadata": {},
   "outputs": [],
   "source": [
    "#Data_Predicted"
   ]
  },
  {
   "cell_type": "code",
   "execution_count": 106,
   "metadata": {},
   "outputs": [],
   "source": [
    "Data_Predicted[\"Lasso_Prediction\"] = pd.Series(Lasso_Prediction) * Data_Predicted[\"Item_MRP\"]\n",
    "Data_Predicted[\"ADB_Prediction\"] = pd.Series(ADB_Prediction) * Data_Predicted[\"Item_MRP\"]\n",
    "Data_Predicted[\"Ridge_Prediction\"] = pd.Series(Ridge_Prediction) * Data_Predicted[\"Item_MRP\"]\n",
    "Data_Predicted[\"DTree_Prediction\"] = pd.Series(Dtree_Prediction) * Data_Predicted[\"Item_MRP\"]\n",
    "Data_Predicted[\"RForrest_Prediction\"] = pd.Series(RForrest_Prediction) * Data_Predicted[\"Item_MRP\"]"
   ]
  },
  {
   "cell_type": "code",
   "execution_count": 107,
   "metadata": {},
   "outputs": [],
   "source": [
    "Data_Predicted[\"Item_Outlet_Sales\"] = (Data_Predicted[\"Lasso_Prediction\"]+Data_Predicted[\"ADB_Prediction\"]+Data_Predicted[\"ADB_Prediction\"]+Data_Predicted[\"DTree_Prediction\"]+Data_Predicted[\"RForrest_Prediction\"])/5"
   ]
  },
  {
   "cell_type": "code",
   "execution_count": 108,
   "metadata": {},
   "outputs": [
    {
     "data": {
      "text/html": [
       "<div>\n",
       "<style scoped>\n",
       "    .dataframe tbody tr th:only-of-type {\n",
       "        vertical-align: middle;\n",
       "    }\n",
       "\n",
       "    .dataframe tbody tr th {\n",
       "        vertical-align: top;\n",
       "    }\n",
       "\n",
       "    .dataframe thead th {\n",
       "        text-align: right;\n",
       "    }\n",
       "</style>\n",
       "<table border=\"1\" class=\"dataframe\">\n",
       "  <thead>\n",
       "    <tr style=\"text-align: right;\">\n",
       "      <th></th>\n",
       "      <th>Item_Identifier</th>\n",
       "      <th>Outlet_Identifier</th>\n",
       "      <th>Item_Outlet_Sales</th>\n",
       "    </tr>\n",
       "  </thead>\n",
       "  <tbody>\n",
       "    <tr>\n",
       "      <th>0</th>\n",
       "      <td>FDW58</td>\n",
       "      <td>OUT049</td>\n",
       "      <td>1791.353052</td>\n",
       "    </tr>\n",
       "    <tr>\n",
       "      <th>1</th>\n",
       "      <td>FDW14</td>\n",
       "      <td>OUT017</td>\n",
       "      <td>1421.811838</td>\n",
       "    </tr>\n",
       "    <tr>\n",
       "      <th>2</th>\n",
       "      <td>NCN55</td>\n",
       "      <td>OUT010</td>\n",
       "      <td>606.323063</td>\n",
       "    </tr>\n",
       "    <tr>\n",
       "      <th>3</th>\n",
       "      <td>FDQ58</td>\n",
       "      <td>OUT017</td>\n",
       "      <td>2458.297430</td>\n",
       "    </tr>\n",
       "    <tr>\n",
       "      <th>4</th>\n",
       "      <td>FDY38</td>\n",
       "      <td>OUT027</td>\n",
       "      <td>6245.086211</td>\n",
       "    </tr>\n",
       "  </tbody>\n",
       "</table>\n",
       "</div>"
      ],
      "text/plain": [
       "  Item_Identifier Outlet_Identifier  Item_Outlet_Sales\n",
       "0           FDW58            OUT049        1791.353052\n",
       "1           FDW14            OUT017        1421.811838\n",
       "2           NCN55            OUT010         606.323063\n",
       "3           FDQ58            OUT017        2458.297430\n",
       "4           FDY38            OUT027        6245.086211"
      ]
     },
     "execution_count": 108,
     "metadata": {},
     "output_type": "execute_result"
    }
   ],
   "source": [
    "Data_Predicted.drop([\"Item_MRP\",\"Lasso_Prediction\",\"ADB_Prediction\",\"Ridge_Prediction\",\"RForrest_Prediction\",\"DTree_Prediction\"],axis=1,inplace=True)\n",
    "Data_Predicted.head()"
   ]
  },
  {
   "cell_type": "code",
   "execution_count": 109,
   "metadata": {},
   "outputs": [],
   "source": [
    "Data_Predicted.to_csv('Documents/SalesPrediction_submission.csv', index=False)"
   ]
  }
 ],
 "metadata": {
  "anaconda-cloud": {},
  "kernelspec": {
   "display_name": "Python 3",
   "language": "python",
   "name": "python3"
  },
  "language_info": {
   "codemirror_mode": {
    "name": "ipython",
    "version": 3
   },
   "file_extension": ".py",
   "mimetype": "text/x-python",
   "name": "python",
   "nbconvert_exporter": "python",
   "pygments_lexer": "ipython3",
   "version": "3.8.5"
  }
 },
 "nbformat": 4,
 "nbformat_minor": 1
}
