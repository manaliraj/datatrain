{
 "cells": [
  {
   "cell_type": "code",
   "execution_count": 1,
   "id": "2c6ab5c9-cddb-4f7f-b981-b77b9f52a9a2",
   "metadata": {},
   "outputs": [
    {
     "name": "stdout",
     "output_type": "stream",
     "text": [
      "Naveen \n"
     ]
    }
   ],
   "source": [
    "print (\"Naveen \")"
   ]
  },
  {
   "cell_type": "code",
   "execution_count": 2,
   "id": "9e0b1cf1-4abd-4626-abf0-10a868ec4b32",
   "metadata": {},
   "outputs": [],
   "source": [
    "import selenium\n",
    "import pandas as pd\n",
    "from selenium import webdriver "
   ]
  },
  {
   "cell_type": "code",
   "execution_count": 3,
   "id": "7f06c407-e77a-43b1-959c-d91fb5e23ac1",
   "metadata": {},
   "outputs": [],
   "source": [
    "driver= webdriver.Chrome(\"chromedriver.exe\")"
   ]
  },
  {
   "cell_type": "code",
   "execution_count": 4,
   "id": "11d9b276-adc4-42ca-85e6-65a0ce55c4e5",
   "metadata": {},
   "outputs": [],
   "source": [
    "url = 'http://www.naukri.com/'\n",
    "driver.get(url)"
   ]
  },
  {
   "cell_type": "code",
   "execution_count": 5,
   "id": "a0d07304-7a5e-4682-87e3-eddae2049da6",
   "metadata": {},
   "outputs": [
    {
     "data": {
      "text/plain": [
       "<selenium.webdriver.remote.webelement.WebElement (session=\"53eb73dd1e6f9ec32a833e83f7cd92ec\", element=\"34d60f8d-93bf-4a35-8103-c0899ddf87fe\")>"
      ]
     },
     "execution_count": 5,
     "metadata": {},
     "output_type": "execute_result"
    }
   ],
   "source": [
    "search_job= driver.find_element_by_id('qsb-keyword-sugg')\n",
    "search_job"
   ]
  },
  {
   "cell_type": "code",
   "execution_count": 6,
   "id": "914ceca8-3439-40c1-8a19-b5533eee4071",
   "metadata": {},
   "outputs": [],
   "source": [
    "search_job.send_keys('data scientist')"
   ]
  },
  {
   "cell_type": "code",
   "execution_count": 7,
   "id": "1383c6ce-67a5-46f4-adf8-94a26d539ca7",
   "metadata": {},
   "outputs": [],
   "source": [
    "search_btn = driver.find_element_by_xpath(\"//button[@class='btn']\")\n",
    "search_btn.click()\n",
    "driver.implicitly_wait(15)"
   ]
  },
  {
   "cell_type": "code",
   "execution_count": 8,
   "id": "e149e505-c346-4a01-a4b3-7625057b3ff3",
   "metadata": {},
   "outputs": [],
   "source": [
    "salary_chxbox = driver.find_element_by_xpath(\"//label[@for='chk-0-3 Lakhs-ctcFilter-']//i[@class='fleft naukicon naukicon-checkbox']\")\n",
    "salary_chxbox.click()\n",
    "driver.implicitly_wait(15)"
   ]
  },
  {
   "cell_type": "code",
   "execution_count": 9,
   "id": "bd8e4e87-7ae2-4343-bea5-733cbeeb39ff",
   "metadata": {},
   "outputs": [],
   "source": [
    "city_chxbox = driver.find_element_by_xpath(\"//label[@for='chk-Delhi / NCR-cityTypeGid-']//i[@class='fleft naukicon naukicon-checkbox']\")\n",
    "city_chxbox.click()\n",
    "driver.implicitly_wait(15)"
   ]
  },
  {
   "cell_type": "code",
   "execution_count": 10,
   "id": "05f1a5ce-f434-476b-b4f5-3318f9d9856f",
   "metadata": {},
   "outputs": [
    {
     "data": {
      "text/plain": [
       "[<selenium.webdriver.remote.webelement.WebElement (session=\"53eb73dd1e6f9ec32a833e83f7cd92ec\", element=\"6cb48172-cdb9-45c8-9d0a-23b4f19fd23e\")>,\n",
       " <selenium.webdriver.remote.webelement.WebElement (session=\"53eb73dd1e6f9ec32a833e83f7cd92ec\", element=\"fabb5729-2a06-4cf7-b12c-9339a462b762\")>,\n",
       " <selenium.webdriver.remote.webelement.WebElement (session=\"53eb73dd1e6f9ec32a833e83f7cd92ec\", element=\"17c29eac-5b7b-47f7-aedb-1dcc65530d13\")>,\n",
       " <selenium.webdriver.remote.webelement.WebElement (session=\"53eb73dd1e6f9ec32a833e83f7cd92ec\", element=\"da137133-32dd-4a07-9a37-b27cf13002b0\")>,\n",
       " <selenium.webdriver.remote.webelement.WebElement (session=\"53eb73dd1e6f9ec32a833e83f7cd92ec\", element=\"e991a6bd-6377-4bae-b201-588c7f823628\")>,\n",
       " <selenium.webdriver.remote.webelement.WebElement (session=\"53eb73dd1e6f9ec32a833e83f7cd92ec\", element=\"2492fd4e-5aa0-46d2-9be3-f5fbf73f7778\")>,\n",
       " <selenium.webdriver.remote.webelement.WebElement (session=\"53eb73dd1e6f9ec32a833e83f7cd92ec\", element=\"7e00726b-1dd1-4bfa-a5e8-c94e62ef112b\")>,\n",
       " <selenium.webdriver.remote.webelement.WebElement (session=\"53eb73dd1e6f9ec32a833e83f7cd92ec\", element=\"1096f3f7-fc43-4197-819a-aacf255dd84d\")>,\n",
       " <selenium.webdriver.remote.webelement.WebElement (session=\"53eb73dd1e6f9ec32a833e83f7cd92ec\", element=\"6e0f96a7-0069-4508-9305-dbed53d2e43b\")>,\n",
       " <selenium.webdriver.remote.webelement.WebElement (session=\"53eb73dd1e6f9ec32a833e83f7cd92ec\", element=\"4314e4e4-5677-4ae0-b9ea-5a3ccd1c8078\")>,\n",
       " <selenium.webdriver.remote.webelement.WebElement (session=\"53eb73dd1e6f9ec32a833e83f7cd92ec\", element=\"7c1fc191-5328-4904-87c4-da3b07e75741\")>,\n",
       " <selenium.webdriver.remote.webelement.WebElement (session=\"53eb73dd1e6f9ec32a833e83f7cd92ec\", element=\"30089d7a-b03a-4df3-8f31-0d9c4ec09cf3\")>,\n",
       " <selenium.webdriver.remote.webelement.WebElement (session=\"53eb73dd1e6f9ec32a833e83f7cd92ec\", element=\"b413f29d-6c74-4029-8cfd-a356fff9f03b\")>,\n",
       " <selenium.webdriver.remote.webelement.WebElement (session=\"53eb73dd1e6f9ec32a833e83f7cd92ec\", element=\"28e61966-29f2-4dd9-8ee6-b903640dff2b\")>,\n",
       " <selenium.webdriver.remote.webelement.WebElement (session=\"53eb73dd1e6f9ec32a833e83f7cd92ec\", element=\"3f6d2b9f-72ff-4a70-bcc1-ae6e616b9afe\")>,\n",
       " <selenium.webdriver.remote.webelement.WebElement (session=\"53eb73dd1e6f9ec32a833e83f7cd92ec\", element=\"ede3dafa-83ab-4237-9e38-502e3170409e\")>,\n",
       " <selenium.webdriver.remote.webelement.WebElement (session=\"53eb73dd1e6f9ec32a833e83f7cd92ec\", element=\"c503b600-7e43-4ca3-88d1-f21f4cee421e\")>,\n",
       " <selenium.webdriver.remote.webelement.WebElement (session=\"53eb73dd1e6f9ec32a833e83f7cd92ec\", element=\"36e849e6-d61b-47a9-8fc8-7977a60ee6ee\")>,\n",
       " <selenium.webdriver.remote.webelement.WebElement (session=\"53eb73dd1e6f9ec32a833e83f7cd92ec\", element=\"d6d2bc44-a062-4b12-9bec-6c7b184554d5\")>,\n",
       " <selenium.webdriver.remote.webelement.WebElement (session=\"53eb73dd1e6f9ec32a833e83f7cd92ec\", element=\"7847b309-71c3-4265-9714-4fed7fab6a45\")>]"
      ]
     },
     "execution_count": 10,
     "metadata": {},
     "output_type": "execute_result"
    }
   ],
   "source": [
    "city_tags=driver.find_elements_by_xpath(\"//li[@class='fleft grey-text br2 placeHolderLi location']/span\")\n",
    "city_tags"
   ]
  },
  {
   "cell_type": "code",
   "execution_count": 11,
   "id": "9f35dfb1-79ca-41b9-a5e3-99513c84132f",
   "metadata": {},
   "outputs": [
    {
     "data": {
      "text/plain": [
       "[<selenium.webdriver.remote.webelement.WebElement (session=\"53eb73dd1e6f9ec32a833e83f7cd92ec\", element=\"af33db6f-54b8-4c2e-918c-43cc0e879fdb\")>,\n",
       " <selenium.webdriver.remote.webelement.WebElement (session=\"53eb73dd1e6f9ec32a833e83f7cd92ec\", element=\"541d3fef-ea1c-4782-8710-895433efb451\")>,\n",
       " <selenium.webdriver.remote.webelement.WebElement (session=\"53eb73dd1e6f9ec32a833e83f7cd92ec\", element=\"56a847d1-adb7-43c6-8559-d4a15946d657\")>,\n",
       " <selenium.webdriver.remote.webelement.WebElement (session=\"53eb73dd1e6f9ec32a833e83f7cd92ec\", element=\"bb26232c-87d8-4670-8926-a91798d0107d\")>,\n",
       " <selenium.webdriver.remote.webelement.WebElement (session=\"53eb73dd1e6f9ec32a833e83f7cd92ec\", element=\"d97d9a87-26c3-4712-aa6b-3f01e4d964b8\")>,\n",
       " <selenium.webdriver.remote.webelement.WebElement (session=\"53eb73dd1e6f9ec32a833e83f7cd92ec\", element=\"8d7b7c8a-c28c-4b9a-aca5-5885514935ac\")>,\n",
       " <selenium.webdriver.remote.webelement.WebElement (session=\"53eb73dd1e6f9ec32a833e83f7cd92ec\", element=\"c18f4048-d168-4599-bb85-eb35ddf91c7e\")>,\n",
       " <selenium.webdriver.remote.webelement.WebElement (session=\"53eb73dd1e6f9ec32a833e83f7cd92ec\", element=\"596d749f-6853-4726-a602-f535da0adeda\")>,\n",
       " <selenium.webdriver.remote.webelement.WebElement (session=\"53eb73dd1e6f9ec32a833e83f7cd92ec\", element=\"61eb2ae0-a683-4f6f-be45-1d955a32ea5a\")>,\n",
       " <selenium.webdriver.remote.webelement.WebElement (session=\"53eb73dd1e6f9ec32a833e83f7cd92ec\", element=\"55d0886d-8406-4494-b86c-b0bb05b684e0\")>,\n",
       " <selenium.webdriver.remote.webelement.WebElement (session=\"53eb73dd1e6f9ec32a833e83f7cd92ec\", element=\"d60793b1-1d45-4dee-85cf-2eacd9a3c292\")>,\n",
       " <selenium.webdriver.remote.webelement.WebElement (session=\"53eb73dd1e6f9ec32a833e83f7cd92ec\", element=\"4120dcc9-ca10-410d-afe7-4ef3b752f301\")>,\n",
       " <selenium.webdriver.remote.webelement.WebElement (session=\"53eb73dd1e6f9ec32a833e83f7cd92ec\", element=\"daab80f5-e33c-4a3b-8301-02725b1c8724\")>,\n",
       " <selenium.webdriver.remote.webelement.WebElement (session=\"53eb73dd1e6f9ec32a833e83f7cd92ec\", element=\"eba4c7c4-d8ca-44a6-bb8a-aa566514f07f\")>,\n",
       " <selenium.webdriver.remote.webelement.WebElement (session=\"53eb73dd1e6f9ec32a833e83f7cd92ec\", element=\"d195fcf6-89b1-41f0-9ec6-eb6964c9857c\")>,\n",
       " <selenium.webdriver.remote.webelement.WebElement (session=\"53eb73dd1e6f9ec32a833e83f7cd92ec\", element=\"1bb81c3d-93b8-47d6-a68d-29c46d668c78\")>,\n",
       " <selenium.webdriver.remote.webelement.WebElement (session=\"53eb73dd1e6f9ec32a833e83f7cd92ec\", element=\"e5daa3bf-437c-4446-99f2-48c2af2e6c83\")>,\n",
       " <selenium.webdriver.remote.webelement.WebElement (session=\"53eb73dd1e6f9ec32a833e83f7cd92ec\", element=\"280a8f04-d490-4aa1-9e0c-d1ab72b5a746\")>,\n",
       " <selenium.webdriver.remote.webelement.WebElement (session=\"53eb73dd1e6f9ec32a833e83f7cd92ec\", element=\"dc0c2a3e-b93f-426c-8fdd-edf3b18b98f3\")>,\n",
       " <selenium.webdriver.remote.webelement.WebElement (session=\"53eb73dd1e6f9ec32a833e83f7cd92ec\", element=\"8f53ce12-fd1b-42b2-8135-e23ee56e1808\")>]"
      ]
     },
     "execution_count": 11,
     "metadata": {},
     "output_type": "execute_result"
    }
   ],
   "source": [
    "titles_tags=driver.find_elements_by_xpath(\"//a[@class='title fw500 ellipsis']\")\n",
    "titles_tags"
   ]
  },
  {
   "cell_type": "code",
   "execution_count": 12,
   "id": "86c113b5-d745-45ef-8cf0-57643780b748",
   "metadata": {},
   "outputs": [
    {
     "data": {
      "text/plain": [
       "['Only Fresher / Data Scientist / Data Analyst / Analytics - MNC Jobs',\n",
       " 'Data Scientist / Data Analyst - ( BFSI Industry ) - New Delhi',\n",
       " 'Data Scientist',\n",
       " 'Data Scientist - Machine Learning/ NLP',\n",
       " 'Data Scientist (Hadoop/ Redshift/ BigQuery)',\n",
       " 'Data analytics / Data scientist intern (work from Home)',\n",
       " 'Data Scientist / Data Analyst - ( BFSI Industry ) - New Delhi',\n",
       " 'Data Scientist',\n",
       " 'Data Scientist - Machine Learning/NLP',\n",
       " 'Data Scientist - Machine Learning/NLP',\n",
       " 'Data Scientist',\n",
       " 'Data Scientist Intern',\n",
       " 'Senior Marketing Data Analyst',\n",
       " 'MIS Executive, Business Analyst Executive, Data Analyst',\n",
       " 'Data Analyst',\n",
       " 'Data Analyst',\n",
       " 'Intern For Data Analyst',\n",
       " 'Junior Data Analyst',\n",
       " 'Data Analyst',\n",
       " 'Need Fresher For Data Analyst Role-Delhi']"
      ]
     },
     "execution_count": 12,
     "metadata": {},
     "output_type": "execute_result"
    }
   ],
   "source": [
    "job_titles=[]\n",
    "for i in titles_tags:\n",
    "    job_titles.append(i.text)\n",
    "job_titles    "
   ]
  },
  {
   "cell_type": "code",
   "execution_count": 13,
   "id": "8e799f45-f1a3-4a19-a6b9-8e84b3534642",
   "metadata": {},
   "outputs": [
    {
     "data": {
      "text/plain": [
       "[<selenium.webdriver.remote.webelement.WebElement (session=\"53eb73dd1e6f9ec32a833e83f7cd92ec\", element=\"7175e1b5-eccd-44a3-ad41-b2941b7278f8\")>,\n",
       " <selenium.webdriver.remote.webelement.WebElement (session=\"53eb73dd1e6f9ec32a833e83f7cd92ec\", element=\"30844989-8c56-4087-ae0a-419dd8d0b2d6\")>,\n",
       " <selenium.webdriver.remote.webelement.WebElement (session=\"53eb73dd1e6f9ec32a833e83f7cd92ec\", element=\"48e50ebb-4dab-4c7c-8649-c1b2726f4486\")>,\n",
       " <selenium.webdriver.remote.webelement.WebElement (session=\"53eb73dd1e6f9ec32a833e83f7cd92ec\", element=\"7957a41b-b5b6-40d8-bef6-56d01b9ebf9f\")>,\n",
       " <selenium.webdriver.remote.webelement.WebElement (session=\"53eb73dd1e6f9ec32a833e83f7cd92ec\", element=\"a6063ce1-1203-4d5c-8843-5a272c8a82ad\")>,\n",
       " <selenium.webdriver.remote.webelement.WebElement (session=\"53eb73dd1e6f9ec32a833e83f7cd92ec\", element=\"d0b88050-38f2-4940-a3e3-4f1b332adbdb\")>,\n",
       " <selenium.webdriver.remote.webelement.WebElement (session=\"53eb73dd1e6f9ec32a833e83f7cd92ec\", element=\"2bb79d0f-b485-48c9-a185-90790ebc497d\")>,\n",
       " <selenium.webdriver.remote.webelement.WebElement (session=\"53eb73dd1e6f9ec32a833e83f7cd92ec\", element=\"564ad359-7681-423d-92bb-930eee3d0589\")>,\n",
       " <selenium.webdriver.remote.webelement.WebElement (session=\"53eb73dd1e6f9ec32a833e83f7cd92ec\", element=\"d9e2e205-8a11-47a3-a021-8cab418c55b1\")>,\n",
       " <selenium.webdriver.remote.webelement.WebElement (session=\"53eb73dd1e6f9ec32a833e83f7cd92ec\", element=\"efbb89aa-01ba-4ba7-87e3-964fb66c3dc8\")>,\n",
       " <selenium.webdriver.remote.webelement.WebElement (session=\"53eb73dd1e6f9ec32a833e83f7cd92ec\", element=\"917e3b88-2b65-4eb8-9efb-7464770cde31\")>,\n",
       " <selenium.webdriver.remote.webelement.WebElement (session=\"53eb73dd1e6f9ec32a833e83f7cd92ec\", element=\"bf7ef129-3c72-4fec-b5cd-92727cee62e3\")>,\n",
       " <selenium.webdriver.remote.webelement.WebElement (session=\"53eb73dd1e6f9ec32a833e83f7cd92ec\", element=\"09be4ac7-b544-4575-a015-5d0957ae03c2\")>,\n",
       " <selenium.webdriver.remote.webelement.WebElement (session=\"53eb73dd1e6f9ec32a833e83f7cd92ec\", element=\"290cd67e-20d8-4ae6-ab27-4bd95a322e74\")>,\n",
       " <selenium.webdriver.remote.webelement.WebElement (session=\"53eb73dd1e6f9ec32a833e83f7cd92ec\", element=\"037ca39f-874f-4ae5-ac20-fd3fc2460ecb\")>,\n",
       " <selenium.webdriver.remote.webelement.WebElement (session=\"53eb73dd1e6f9ec32a833e83f7cd92ec\", element=\"c744ad6c-e630-4ab0-87de-201457ac4316\")>,\n",
       " <selenium.webdriver.remote.webelement.WebElement (session=\"53eb73dd1e6f9ec32a833e83f7cd92ec\", element=\"d3107d7b-7789-473b-80cd-69b54f611e0a\")>,\n",
       " <selenium.webdriver.remote.webelement.WebElement (session=\"53eb73dd1e6f9ec32a833e83f7cd92ec\", element=\"2e040fec-7fff-489c-aa8b-95558139ab10\")>,\n",
       " <selenium.webdriver.remote.webelement.WebElement (session=\"53eb73dd1e6f9ec32a833e83f7cd92ec\", element=\"43b19691-4e0c-42f5-ab28-5b6709d7901d\")>,\n",
       " <selenium.webdriver.remote.webelement.WebElement (session=\"53eb73dd1e6f9ec32a833e83f7cd92ec\", element=\"9f8da682-76cb-4564-996c-f42c13143c90\")>]"
      ]
     },
     "execution_count": 13,
     "metadata": {},
     "output_type": "execute_result"
    }
   ],
   "source": [
    "compaines_tags=driver.find_elements_by_xpath(\"//a[@class='subTitle ellipsis fleft']\")\n",
    "compaines_tags"
   ]
  },
  {
   "cell_type": "code",
   "execution_count": 14,
   "id": "fdffa45a-06d2-45d2-b528-48312fdf409a",
   "metadata": {},
   "outputs": [
    {
     "data": {
      "text/plain": [
       "['GABA Consultancy services',\n",
       " 'Reckon HR consulting',\n",
       " 'Replicon Software',\n",
       " 'TalPro',\n",
       " 'Jubna',\n",
       " 'TalkValley LLC',\n",
       " 'Reckon HR consulting',\n",
       " 'Milliman India Pvt Ltd',\n",
       " 'TalPro',\n",
       " 'TalPro',\n",
       " 'Gauge Data Solutions Pvt Ltd',\n",
       " 'Salasar New Age Technologies',\n",
       " 'Tide Software',\n",
       " 'Megara Infotech Private Limited',\n",
       " 'AG Technologies pvt Ltd',\n",
       " 'AG Technologies pvt Ltd',\n",
       " 'ITG Telematics Pvt Ltd',\n",
       " 'SiCureMi Healthcare Technologies',\n",
       " 'Netomi',\n",
       " 'MNC']"
      ]
     },
     "execution_count": 14,
     "metadata": {},
     "output_type": "execute_result"
    }
   ],
   "source": [
    "Companies_Names=[]\n",
    "for i in compaines_tags:\n",
    "    Companies_Names.append(i.text)\n",
    "Companies_Names"
   ]
  },
  {
   "cell_type": "code",
   "execution_count": 15,
   "id": "050aea84-82d7-42c7-9315-3162b1bdbb36",
   "metadata": {},
   "outputs": [
    {
     "data": {
      "text/plain": [
       "['Noida, Greater Noida, Delhi / NCR',\n",
       " 'New Delhi',\n",
       " 'Kolkata, Hyderabad/Secunderabad, Pune, Ahmedabad, Chennai, Bangalore/Bengaluru, Delhi / NCR, Mumbai (All Areas)',\n",
       " 'Gurgaon/Gurugram',\n",
       " 'Noida',\n",
       " 'Kolkata, Bangalore/Bengaluru, Delhi / NCR',\n",
       " 'New Delhi',\n",
       " 'Gurgaon/Gurugram, Delhi / NCR',\n",
       " 'Gurgaon/Gurugram',\n",
       " 'Gurgaon/Gurugram',\n",
       " 'Noida',\n",
       " 'Noida',\n",
       " 'Gurgaon/Gurugram',\n",
       " 'Faridabad, Gurgaon/Gurugram, Delhi / NCR',\n",
       " 'Noida, Kolkata, Hyderabad/Secunderabad, Pune, Ahmedabad, Chennai, Bangalore/Bengaluru, Delhi / NCR, Mumbai (All Areas)',\n",
       " 'Noida, Kolkata, Hyderabad/Secunderabad, Pune, Ahmedabad, Chennai, Bangalore/Bengaluru, Delhi / NCR, Mumbai (All Areas)',\n",
       " 'New Delhi(Naraina)',\n",
       " 'Delhi',\n",
       " 'Gurgaon',\n",
       " 'Kolkata, Pune, Ahmedabad, Delhi / NCR, Mumbai (All Areas)']"
      ]
     },
     "execution_count": 15,
     "metadata": {},
     "output_type": "execute_result"
    }
   ],
   "source": [
    "Location_Names=[]\n",
    "for i in city_tags:\n",
    "    Location_Names.append(i.text)\n",
    "Location_Names  \n"
   ]
  },
  {
   "cell_type": "code",
   "execution_count": 16,
   "id": "40a29a77-84c8-4425-ac12-59ddbeb9e84e",
   "metadata": {},
   "outputs": [
    {
     "data": {
      "text/html": [
       "<div>\n",
       "<style scoped>\n",
       "    .dataframe tbody tr th:only-of-type {\n",
       "        vertical-align: middle;\n",
       "    }\n",
       "\n",
       "    .dataframe tbody tr th {\n",
       "        vertical-align: top;\n",
       "    }\n",
       "\n",
       "    .dataframe thead th {\n",
       "        text-align: right;\n",
       "    }\n",
       "</style>\n",
       "<table border=\"1\" class=\"dataframe\">\n",
       "  <thead>\n",
       "    <tr style=\"text-align: right;\">\n",
       "      <th></th>\n",
       "      <th>titles</th>\n",
       "      <th>companies Name</th>\n",
       "      <th>Location</th>\n",
       "    </tr>\n",
       "  </thead>\n",
       "  <tbody>\n",
       "    <tr>\n",
       "      <th>0</th>\n",
       "      <td>Only Fresher / Data Scientist / Data Analyst /...</td>\n",
       "      <td>GABA Consultancy services</td>\n",
       "      <td>Noida, Greater Noida, Delhi / NCR</td>\n",
       "    </tr>\n",
       "    <tr>\n",
       "      <th>1</th>\n",
       "      <td>Data Scientist / Data Analyst - ( BFSI Industr...</td>\n",
       "      <td>Reckon HR consulting</td>\n",
       "      <td>New Delhi</td>\n",
       "    </tr>\n",
       "    <tr>\n",
       "      <th>2</th>\n",
       "      <td>Data Scientist</td>\n",
       "      <td>Replicon Software</td>\n",
       "      <td>Kolkata, Hyderabad/Secunderabad, Pune, Ahmedab...</td>\n",
       "    </tr>\n",
       "    <tr>\n",
       "      <th>3</th>\n",
       "      <td>Data Scientist - Machine Learning/ NLP</td>\n",
       "      <td>TalPro</td>\n",
       "      <td>Gurgaon/Gurugram</td>\n",
       "    </tr>\n",
       "    <tr>\n",
       "      <th>4</th>\n",
       "      <td>Data Scientist (Hadoop/ Redshift/ BigQuery)</td>\n",
       "      <td>Jubna</td>\n",
       "      <td>Noida</td>\n",
       "    </tr>\n",
       "    <tr>\n",
       "      <th>5</th>\n",
       "      <td>Data analytics / Data scientist intern (work f...</td>\n",
       "      <td>TalkValley LLC</td>\n",
       "      <td>Kolkata, Bangalore/Bengaluru, Delhi / NCR</td>\n",
       "    </tr>\n",
       "    <tr>\n",
       "      <th>6</th>\n",
       "      <td>Data Scientist / Data Analyst - ( BFSI Industr...</td>\n",
       "      <td>Reckon HR consulting</td>\n",
       "      <td>New Delhi</td>\n",
       "    </tr>\n",
       "    <tr>\n",
       "      <th>7</th>\n",
       "      <td>Data Scientist</td>\n",
       "      <td>Milliman India Pvt Ltd</td>\n",
       "      <td>Gurgaon/Gurugram, Delhi / NCR</td>\n",
       "    </tr>\n",
       "    <tr>\n",
       "      <th>8</th>\n",
       "      <td>Data Scientist - Machine Learning/NLP</td>\n",
       "      <td>TalPro</td>\n",
       "      <td>Gurgaon/Gurugram</td>\n",
       "    </tr>\n",
       "    <tr>\n",
       "      <th>9</th>\n",
       "      <td>Data Scientist - Machine Learning/NLP</td>\n",
       "      <td>TalPro</td>\n",
       "      <td>Gurgaon/Gurugram</td>\n",
       "    </tr>\n",
       "  </tbody>\n",
       "</table>\n",
       "</div>"
      ],
      "text/plain": [
       "                                              titles  \\\n",
       "0  Only Fresher / Data Scientist / Data Analyst /...   \n",
       "1  Data Scientist / Data Analyst - ( BFSI Industr...   \n",
       "2                                     Data Scientist   \n",
       "3             Data Scientist - Machine Learning/ NLP   \n",
       "4        Data Scientist (Hadoop/ Redshift/ BigQuery)   \n",
       "5  Data analytics / Data scientist intern (work f...   \n",
       "6  Data Scientist / Data Analyst - ( BFSI Industr...   \n",
       "7                                     Data Scientist   \n",
       "8              Data Scientist - Machine Learning/NLP   \n",
       "9              Data Scientist - Machine Learning/NLP   \n",
       "\n",
       "              companies Name  \\\n",
       "0  GABA Consultancy services   \n",
       "1       Reckon HR consulting   \n",
       "2          Replicon Software   \n",
       "3                     TalPro   \n",
       "4                      Jubna   \n",
       "5             TalkValley LLC   \n",
       "6       Reckon HR consulting   \n",
       "7     Milliman India Pvt Ltd   \n",
       "8                     TalPro   \n",
       "9                     TalPro   \n",
       "\n",
       "                                            Location  \n",
       "0                  Noida, Greater Noida, Delhi / NCR  \n",
       "1                                          New Delhi  \n",
       "2  Kolkata, Hyderabad/Secunderabad, Pune, Ahmedab...  \n",
       "3                                   Gurgaon/Gurugram  \n",
       "4                                              Noida  \n",
       "5          Kolkata, Bangalore/Bengaluru, Delhi / NCR  \n",
       "6                                          New Delhi  \n",
       "7                      Gurgaon/Gurugram, Delhi / NCR  \n",
       "8                                   Gurgaon/Gurugram  \n",
       "9                                   Gurgaon/Gurugram  "
      ]
     },
     "execution_count": 16,
     "metadata": {},
     "output_type": "execute_result"
    }
   ],
   "source": [
    "jobs=pd.DataFrame({})\n",
    "jobs['titles'] = job_titles\n",
    "jobs['companies Name']=Companies_Names\n",
    "jobs['Location']= Location_Names \n",
    "jobs[:10]"
   ]
  },
  {
   "cell_type": "code",
   "execution_count": null,
   "id": "2389ef83-605f-4c46-a1e9-901e8196e290",
   "metadata": {},
   "outputs": [],
   "source": []
  },
  {
   "cell_type": "code",
   "execution_count": null,
   "id": "ea792cef-57e5-444a-a517-6754bbe485d1",
   "metadata": {},
   "outputs": [],
   "source": []
  }
 ],
 "metadata": {
  "kernelspec": {
   "display_name": "Python 3",
   "language": "python",
   "name": "python3"
  },
  "language_info": {
   "codemirror_mode": {
    "name": "ipython",
    "version": 3
   },
   "file_extension": ".py",
   "mimetype": "text/x-python",
   "name": "python",
   "nbconvert_exporter": "python",
   "pygments_lexer": "ipython3",
   "version": "3.8.8"
  }
 },
 "nbformat": 4,
 "nbformat_minor": 5
}
